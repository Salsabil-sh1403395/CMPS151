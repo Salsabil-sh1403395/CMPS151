{
 "cells": [
  {
   "cell_type": "markdown",
   "metadata": {},
   "source": [
    "# Final Review"
   ]
  },
  {
   "cell_type": "markdown",
   "metadata": {},
   "source": [
    "### Problem (1) : Processing a File with Two-Dimensional Lists and Strings\n",
    "Write a program that reads a file containing student records and processes it as a two-dimensional list. Each line in the file represents a student, where the line contains the following information separated by commas:\n",
    "\n",
    "Student Name: The full name of the student.\n",
    "Enrollment Date: The date the student enrolled (in the format DD-MM-YYYY).\n",
    "Grades: A comma-separated list of grades for three subjects (Math, Physics, Chemistry).\n",
    "The program should:\n",
    "\n",
    "Load the file into a two-dimensional list.\n",
    "- Calculate and print the average grade for each student.\n",
    "- Find and print the name of the student with the highest Math grade.\n",
    "- Find and print the number of students who enrolled in a given year (e.g., 2022)."
   ]
  },
  {
   "cell_type": "code",
   "execution_count": null,
   "metadata": {},
   "outputs": [],
   "source": [
    "# Problem 1 solution\n",
    "\n",
    "def load_data(file_name):\n",
    "    \"\"\"Load the file into a two-dimensional list.\"\"\"\n",
    "    data = []\n",
    "    with open(file_name, 'r') as file:\n",
    "        for line in file:\n",
    "            parts = line.strip().split(',')\n",
    "            name = parts[0]\n",
    "            enrollment_date = parts[1]\n",
    "            #The purpose of this line is to extract the grades from the line, \n",
    "            # convert them from strings to integers, and store them as a list of integers in the variable grades.\n",
    "            grades = [int(grade) for grade in parts[2:]]  # Convert grades to integers manually\n",
    "            data.append([name, enrollment_date, grades])\n",
    "    return data\n",
    "\n",
    "def calculate_student_averages(student_data):\n",
    "    \"\"\"Calculate and print the average grade for each student.\"\"\"\n",
    "    for student in student_data:\n",
    "        name = student[0]\n",
    "        grades = student[2]\n",
    "        average = sum(grades) / len(grades)\n",
    "        print(f\"{name}'s average grade: {average:.2f}\")\n",
    "\n",
    "def find_highest_math_grade(student_data):\n",
    "    \"\"\"Find and return the name of the student with the highest Math grade.\"\"\"\n",
    "    highest_math_grade = 0\n",
    "    top_student = \"\"\n",
    "    for student in student_data:\n",
    "        name = student[0]\n",
    "        math_grade = student[2][0]  # Math is the first grade in the list\n",
    "        if math_grade > highest_math_grade:\n",
    "            highest_math_grade = math_grade\n",
    "            top_student = name\n",
    "    print(f\"Student with the highest Math grade: {top_student} ({highest_math_grade})\")\n",
    "\n",
    "def count_students_by_year(student_data, year):\n",
    "    \"\"\"Count and print the number of students enrolled in the given year.\"\"\"\n",
    "    enrolled_in_year = 0\n",
    "    for student in student_data:\n",
    "        enrollment_date = student[1]\n",
    "        year_of_enrollment = enrollment_date.split('-')[2]\n",
    "        if year_of_enrollment == str(year):\n",
    "            enrolled_in_year += 1\n",
    "    print(f\"Number of students enrolled in {year}: {enrolled_in_year}\")\n",
    "\n",
    "def main():\n",
    "    file_name = \"students.txt\"  # File containing the data\n",
    "    year = 2022  # Year to filter by\n",
    "\n",
    "    # Load the data\n",
    "    student_data = load_data(file_name)\n",
    "    \n",
    "    # Process the data\n",
    "    calculate_student_averages(student_data)\n",
    "    find_highest_math_grade(student_data)\n",
    "    count_students_by_year(student_data, year)\n",
    "\n",
    "if __name__ == \"__main__\":\n",
    "    main()"
   ]
  },
  {
   "cell_type": "markdown",
   "metadata": {},
   "source": [
    "## Problem (2)\n",
    "Assume you have a text file containing students’ data: ID, name, and four grades as follows:\n",
    "\n",
    "123,Ahmed Naser,32,88,76,50\n",
    "\n",
    "256,Khaled Ayman,82,62,44,26\n",
    "\n",
    "891,Sara Majed,77,24,66,87\n",
    "\n",
    "894,Sara Khaled,75,25,66,99\n",
    "\n",
    "Write the following functions:\n",
    "> a-read2Dictionary(): It reads the text file (students.txt) and returns a dictionary where each item’s key is the student’s ID, and the value is a list containing the name, and the grades. \n",
    "\n",
    "{'123': ['Ahmed Naser', 32.0, 88.0, 76.0, 50.0], '256': ['Khaled Ayman', 82.0, 62.0, 44.0, 26.0], '891': ['Sara Majed', 77.0, 24.0, 66.0, 87.0], '894': ['Sara Khaled', 75.0, 25.0, 66.0, 99.0]}\n",
    "\n",
    ">b-\tfindMin(d): It receives a dictionary like the one created in (a) and returns ID, and name of the student who has the minimum average. \n",
    "\n",
    ">c-\tunqFirstName(d): It receives a dictionary like the one created in (a) and returns the number of students that have unique first names.\n",
    "\n",
    ">d-\tconvert2List(d): It receives a dictionary like the one created in (a) and returns two-dimensional list, where each item in the dictionary will be a row in the list including the key in the first column. \n",
    "\n",
    "[['123', 'Ahmed Naser', 32.0, 88.0, 76.0], ['256', 'Khaled Ayman', 82.0, 62.0, 44.0], ['891', 'Sara Majed', 77.0, 24.0, 66.0], ['894', 'Sara Khaled', 75.0, 25.0, 66.0]]\n",
    "\n",
    ">e-\tconvert2Dictionary(d): It receives a dictionary like the one in (a) and creates another dictionary where the student’s name is the key and the average of the grades is the value for each item.\n",
    "\n",
    "{'Ahmed Naser': 61.5, 'Khaled Ayman': 53.5, 'Sara Majed': 63.5, 'Sara Khaled': 66.25}\n"
   ]
  },
  {
   "cell_type": "markdown",
   "metadata": {},
   "source": [
    "## Problem (3):\n",
    "Write a Python program that performs the following tasks:\n",
    "\n",
    "Reads a text file named input.txt. Each line in the file contains a string.\n",
    "Processes the file to count the total number of words across all lines that start with an uppercase letter.\n",
    "- Words are separated by spaces.\n",
    "- Consider only alphabetic words (e.g., \"Hello\" is valid, but \"123World\" is not considered).\n",
    "\n",
    "Print the total number of words that meet the criteria."
   ]
  },
  {
   "cell_type": "markdown",
   "metadata": {},
   "source": [
    "## Problem (4):\n",
    " Assume you have a file called myfile.txt. Write a Python program that performs the following tasks:\n",
    "\n",
    "1. Asks the user to enter a string.\n",
    "2. Counts and prints the total number of lines in which the string is found (case-insensitive).\n",
    "3. Prints the line numbers (1-based index) where the string is found.\n",
    "\n",
    "Constraints:\n",
    "\n",
    "- The program should handle case-insensitivity when searching for the string.\n",
    "- If the string is not found in any line, print an appropriate message. \n"
   ]
  },
  {
   "cell_type": "markdown",
   "metadata": {},
   "source": [
    "## Problem (5):\n",
    "Using sets, write a function commonFactors(x,y) that receives two integer numbers and returns a set that contains the common factors. For example, if x=8 and y=12, the function returns {1 ,2, 4}. Call the function."
   ]
  },
  {
   "cell_type": "markdown",
   "metadata": {},
   "source": [
    "## Problem (6):\n",
    "Write a Boolean function called is_substr_list that takes two lists of strings lst1 and lst2 and returns True if each string in lst1 is a substring of at least one string in lst2; otherwise it returns False. The function is case insensitive. \n",
    "\n",
    "For example: \n",
    "If lst1 = [‘Min’, ‘AT’, ‘arm’] and lst2 = [‘Egypt’, ‘Qatar’, ‘Arminia’, “Columbia’] Then the function returns True. \n"
   ]
  },
  {
   "cell_type": "markdown",
   "metadata": {},
   "source": []
  }
 ],
 "metadata": {
  "kernelspec": {
   "display_name": "Python 3",
   "language": "python",
   "name": "python3"
  },
  "language_info": {
   "codemirror_mode": {
    "name": "ipython",
    "version": 3
   },
   "file_extension": ".py",
   "mimetype": "text/x-python",
   "name": "python",
   "nbconvert_exporter": "python",
   "pygments_lexer": "ipython3",
   "version": "3.12.7"
  }
 },
 "nbformat": 4,
 "nbformat_minor": 2
}
