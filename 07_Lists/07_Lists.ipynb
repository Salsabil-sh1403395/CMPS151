{
 "cells": [
  {
   "cell_type": "markdown",
   "metadata": {},
   "source": [
    "# Chapter (7): Lists, Tuples, and Strings\n"
   ]
  },
  {
   "cell_type": "markdown",
   "metadata": {},
   "source": [
    "## Sequences\n",
    "- Sequence: an object that contains multiple items of data\n",
    "The items are stored in sequence one after another\n",
    "\n",
    "- Python provides different types of sequences, including lists and tuples\n",
    "The difference between these is that a list is mutable and a tuple is immutable\n"
   ]
  },
  {
   "cell_type": "markdown",
   "metadata": {},
   "source": [
    "## Lists\n",
    "**List: an object that contains multiple data items**\n",
    "> list is used to store multiple items in a single variable\n",
    "- print function can be used to display an entire list\n",
    "\n"
   ]
  },
  {
   "cell_type": "code",
   "execution_count": null,
   "metadata": {},
   "outputs": [],
   "source": [
    "thislist = [\"apple\", \"banana\", \"cherry\"]\n",
    "print(thislist)"
   ]
  },
  {
   "cell_type": "code",
   "execution_count": null,
   "metadata": {},
   "outputs": [],
   "source": [
    "evenNumbers=[2,6,18,10, 22.3, 'TESTING']\n",
    "print(evenNumbers)\n"
   ]
  },
  {
   "cell_type": "markdown",
   "metadata": {},
   "source": [
    ">list() function can convert certain types of objects to lists\n"
   ]
  },
  {
   "cell_type": "code",
   "execution_count": null,
   "metadata": {},
   "outputs": [],
   "source": [
    "num1 = list(range(5))\n",
    "print(num1)\n",
    "num2 = list(range(1, 10, 2))\n",
    "print(num2)"
   ]
  },
  {
   "cell_type": "markdown",
   "metadata": {},
   "source": [
    "### The Repetition Operator\n",
    "- makes multiple copies of a list and joins them together\n",
    "- The * symbol is a repetition operator when applied to a sequence and an integer\n",
    "- Sequence is left operand, number is right\n",
    "- General format: `list * n`\n"
   ]
  },
  {
   "cell_type": "code",
   "execution_count": null,
   "metadata": {},
   "outputs": [],
   "source": [
    "num1 = [0] * 150 #initialze to zero\n",
    "print(num1)\n",
    "num2 = [1, 2, 3] * 3\n",
    "print(num2)"
   ]
  },
  {
   "cell_type": "markdown",
   "metadata": {},
   "source": [
    "### Iterating over a List\n",
    "- You can iterate over a list using a for loop\n",
    "- Format: `for x in list:`\n"
   ]
  },
  {
   "cell_type": "code",
   "execution_count": null,
   "metadata": {},
   "outputs": [],
   "source": [
    "numbers = [99, 100, 101, 102]\n",
    "for n in numbers:\n",
    "    print(n)"
   ]
  },
  {
   "cell_type": "markdown",
   "metadata": {},
   "source": [
    "### Indexing: a number specifying the position of an element in a list\n",
    "- Enables access to individual element  list\n",
    "- Index of first element in the list is 0, second element is 1, and n’th element is n-1"
   ]
  },
  {
   "cell_type": "code",
   "execution_count": null,
   "metadata": {},
   "outputs": [],
   "source": [
    "my_list = [10, 20, 30, 40]\n",
    "index = 0\n",
    "while index < 4:\n",
    "    print(my_list[index])\n",
    "    index += 1"
   ]
  },
  {
   "cell_type": "markdown",
   "metadata": {},
   "source": [
    ">An `IndexError` exception is raised if an invalid index is used"
   ]
  },
  {
   "cell_type": "code",
   "execution_count": null,
   "metadata": {},
   "outputs": [],
   "source": [
    "# This code will cause an IndexError exception. \n",
    "my_list = [10, 20, 30, 40]\n",
    "index = 0\n",
    "while index < 5:\n",
    "    print(my_list[index])\n",
    "    index += 1"
   ]
  },
  {
   "cell_type": "markdown",
   "metadata": {},
   "source": [
    "### The len function\n",
    "- len function: returns the length of a sequence such as a list\n",
    "- Example: size = len(my_list)\n",
    "- Returns the number of elements in the list, so the index of last element is len(list)-1\n",
    "- Can be used to prevent an IndexError exception when iterating over a list with a loop"
   ]
  },
  {
   "cell_type": "code",
   "execution_count": null,
   "metadata": {},
   "outputs": [],
   "source": [
    "my_list = [10, 20, 30, 40, 50]\n",
    "index = 0\n",
    "while index < len(my_list):\n",
    "    print(my_list[index])\n",
    "    print(f'position is: {index}')\n",
    "    index += 1"
   ]
  },
  {
   "cell_type": "markdown",
   "metadata": {},
   "source": [
    ">Lists Are Mutable\n",
    "- Mutable sequence: the items in the sequence can be changed.\n",
    "    - Lists are mutable, and so their elements can be changed\n",
    "\n",
    "- An expression such as:     list[1] = new_value \n",
    "     can be used to assign a new value to a list element\n",
    "    - Must use a valid index to prevent raising of an IndexError exception\n"
   ]
  },
  {
   "cell_type": "code",
   "execution_count": null,
   "metadata": {},
   "outputs": [],
   "source": [
    "numbers = [1, 2, 3, 4, 5]  # Create a list with initial elements\n",
    "print(numbers)             # Output the list: [1, 2, 3, 4, 5]\n",
    "numbers[2] = 33            # Change the third element (index 2) to 33\n",
    "print(numbers)             # Output the modified list: [1, 2, 33, 4, 5]"
   ]
  },
  {
   "cell_type": "code",
   "execution_count": null,
   "metadata": {},
   "outputs": [],
   "source": [
    "# List elements can be input by the user\n",
    "\n",
    "NUM_DAYS = 5\n",
    "sales = [0] * NUM_DAYS #initializtion \n",
    "print(sales)\n",
    "index = 0\n",
    "print('Enter the sales for each day.')\n",
    "while index < NUM_DAYS:\n",
    "    print('Day #', index + 1, ': ', end='')\n",
    "    sales[index] = float(input())\n",
    "    index += 1\n",
    "    print()\n",
    "print('Here are the values you entered:')\n",
    "for value in sales:\n",
    "    print(value)"
   ]
  },
  {
   "cell_type": "markdown",
   "metadata": {},
   "source": [
    "### Concatenating Lists\n",
    "- Concatenate: join two things together \n",
    "- The + operator can be used to concatenate two lists\n"
   ]
  },
  {
   "cell_type": "code",
   "execution_count": null,
   "metadata": {},
   "outputs": [],
   "source": [
    "list1 = [1, 2, 3, 4]\n",
    "list2 = [5, 6, 7, 8] \n",
    "list3 = list1 + list2 \n",
    "print(list3)"
   ]
  },
  {
   "cell_type": "markdown",
   "metadata": {},
   "source": [
    "### Finding Items in Lists with the in Operator\n",
    "- You can use the in operator to determine whether an item is contained in a list\n",
    "    - General format: item in list\n",
    "    - Returns True if the item is in the list, or False if it is not in the list\n",
    "\n",
    "- Similarly you can use the not in operator to determine whether an item is not in a list\n"
   ]
  },
  {
   "cell_type": "code",
   "execution_count": null,
   "metadata": {},
   "outputs": [],
   "source": [
    "def main():\n",
    "    # Create a list of product numbers.\n",
    "    prod_nums = ['V475', 'F987', 'Q143', 'R688']\n",
    "    # Get a product number to search for.\n",
    "    x = input('Enter a product number: ')\n",
    "    # Determine whether the product number is in the list.\n",
    "    if x in prod_nums:\n",
    "        print(x, 'was found in the list.')\n",
    "    else:\n",
    "        print(x, 'was not found in the list.')\n",
    "# Call the main function.\n",
    "main()"
   ]
  },
  {
   "cell_type": "markdown",
   "metadata": {},
   "source": [
    "### List Methods and Useful Built-in Functions\n",
    ">append(item): used to add items to a list – item is appended to the end of the existing list\n"
   ]
  },
  {
   "cell_type": "code",
   "execution_count": null,
   "metadata": {},
   "outputs": [],
   "source": [
    "numbers = [1, 2, 3, 4]\n",
    "numbers.append(5)\n",
    "print(numbers)"
   ]
  },
  {
   "cell_type": "code",
   "execution_count": null,
   "metadata": {},
   "outputs": [],
   "source": [
    "# Create an empty list\n",
    "fruits = []\n",
    "print(fruits)  # Output: []\n",
    "\n",
    "# Append elements to the list\n",
    "fruits.append(\"apple\")\n",
    "print(fruits)  # Output: ['apple']\n",
    "\n",
    "fruits.append(\"banana\")\n",
    "print(fruits)  # Output: ['apple', 'banana']\n",
    "\n",
    "fruits.append(\"cherry\")\n",
    "print(fruits)  # Output: ['apple', 'banana', 'cherry']\n",
    "\n",
    "# Append another element\n",
    "fruits.append(\"date\")\n",
    "print(fruits)  # Output: ['apple', 'banana', 'cherry', 'date']\n",
    "\n",
    "# Append a list to the list\n",
    "fruits.append([\"elderberry\", \"fig\"])\n",
    "print(fruits)  # Output: ['apple', 'banana', 'cherry', 'date', ['elderberry', 'fig']]"
   ]
  },
  {
   "cell_type": "code",
   "execution_count": null,
   "metadata": {},
   "outputs": [],
   "source": [
    "\n",
    "def add_names():\n",
    "    \"\"\"Add names to the list until the user decides to stop.\"\"\"\n",
    "    names = []\n",
    "    while True:\n",
    "        name = input('Enter a name: ')  # Get a name from the user\n",
    "        names.append(name)  # Add the name to the list\n",
    "        another = input('Add another? (yes/no): ')  # Ask if they want to add another\n",
    "        if another.lower() == 'no':  # Exit loop if the answer is 'no'\n",
    "            break\n",
    "    return names  # Return the list of names\n",
    "\n",
    "def display_names(names):\n",
    "    \"\"\"Display the names in the list.\"\"\"\n",
    "    print('The names you entered are:')\n",
    "    for name in names:\n",
    "        print(name)\n",
    "        \n",
    "def main():\n",
    "    \"\"\"Main function to run the program.\"\"\"\n",
    "    names = add_names()  # Get the list of names\n",
    "    print('Here are the names you entered:')\n",
    "    display_names(names)  # Display the names\n",
    "\n",
    "# Call the main function.\n",
    "main()"
   ]
  },
  {
   "cell_type": "markdown",
   "metadata": {},
   "source": [
    "> index(item): used to determine where an item is located in a list \n",
    "- Returns the index of the first element in the list containing item\n",
    "- Raises ValueError exception if item not in the list\n"
   ]
  },
  {
   "cell_type": "code",
   "execution_count": null,
   "metadata": {},
   "outputs": [],
   "source": [
    "def main():\n",
    "    # Create a list with some items.\n",
    "    food = ['Pizza', 'Burgers', 'Chips']\n",
    "\n",
    "    # Display the list.\n",
    "    print('Here are the items in the food list:')\n",
    "    print(food)\n",
    "\n",
    "    # Get the item to change.\n",
    "    item = input('Which item do you like to change? ')\n",
    "\n",
    "    try:\n",
    "        # Get the item's index in the list.\n",
    "        item_index = food.index(item)\n",
    "\n",
    "        # Get the value to replace it with.\n",
    "        new_item = input('Enter the new value: ')\n",
    "\n",
    "        # Replace the old item with the new item.\n",
    "        food[item_index] = new_item\n",
    "        print('Item replaced.')\n",
    "\n",
    "        # Display the list.\n",
    "        print('Here is the revised list:')\n",
    "        print(food)\n",
    "    except ValueError:\n",
    "        print('That item was not found in the list.')\n",
    "\n",
    "# Call the main function.\n",
    "main()"
   ]
  },
  {
   "cell_type": "code",
   "execution_count": null,
   "metadata": {},
   "outputs": [],
   "source": [
    "\n",
    "def display_list(food):\n",
    "    \"\"\"Display the items in the food list.\"\"\"\n",
    "    # print('Here are the items in the food list:')\n",
    "    for item in food:\n",
    "        print(item)\n",
    "\n",
    "def change_item(food):\n",
    "    \"\"\"Change an item in the food list.\"\"\"\n",
    "    item = input('Which item would you like to change? ')  # Get the item to change\n",
    "    try:\n",
    "        item_index = food.index(item)  # Find the item's index\n",
    "        new_item = input('Enter the new value: ')  # Get the new value\n",
    "        food[item_index] = new_item  # Replace the old item with the new item\n",
    "        print('Item updated successfully.')\n",
    "    except ValueError:\n",
    "        print('That item was not found in the list.')  # Handle item not found\n",
    "def main():\n",
    "    \"\"\"Main function to run the program.\"\"\"\n",
    "    # Create a list with some items.\n",
    "    food = ['Pizza', 'Burgers', 'Chips']\n",
    "\n",
    "    # Display the initial list.\n",
    "    display_list(food)\n",
    "\n",
    "    # Change an item in the list.\n",
    "    change_item(food)\n",
    "\n",
    "    # Display the revised list.\n",
    "    print('Here is the revised list:')\n",
    "    display_list(food)\n",
    "\n",
    "# Call the main function.\n",
    "main()"
   ]
  },
  {
   "cell_type": "markdown",
   "metadata": {},
   "source": [
    "> insert(index, item): used to insert item at position index in the list"
   ]
  },
  {
   "cell_type": "code",
   "execution_count": null,
   "metadata": {},
   "outputs": [],
   "source": [
    "names = ['Ahmed', 'Salim', 'Bader']\n",
    "names.insert(2, 'Khalid') \n",
    "print(names)  \n",
    "names.sort()  \n",
    "print(names)"
   ]
  },
  {
   "cell_type": "markdown",
   "metadata": {},
   "source": [
    "> sort(): used to sort the elements of the list in ascending order"
   ]
  },
  {
   "cell_type": "code",
   "execution_count": null,
   "metadata": {},
   "outputs": [],
   "source": [
    "my_list = [9, 1, 0, 2, 8, 6, 7, 4, 5, 3]\n",
    "my_list.sort()          # [0, 1, 2, 3, 4, 5, 6, 7, 8, 9]\n",
    "print(my_list)\n"
   ]
  },
  {
   "cell_type": "markdown",
   "metadata": {},
   "source": [
    "> remove(item): removes the first occurrence of item in the list"
   ]
  },
  {
   "cell_type": "code",
   "execution_count": null,
   "metadata": {},
   "outputs": [],
   "source": [
    "food = ['Pizza', 'Burgers', 'Chips', 'Burgers']\n",
    "food.remove('Burgers')       # ['Pizza', 'Chips']\n",
    "print(food)"
   ]
  },
  {
   "cell_type": "markdown",
   "metadata": {},
   "source": [
    "reverse(): reverses the order of the elements in the list\n",
    "\n",
    "   "
   ]
  },
  {
   "cell_type": "code",
   "execution_count": null,
   "metadata": {},
   "outputs": [],
   "source": [
    "my_list = [1, 2, 3, 4, 5] \n",
    "my_list.reverse()  \n",
    "print(my_list)       "
   ]
  },
  {
   "cell_type": "markdown",
   "metadata": {},
   "source": [
    ">del statement: removes an element from a specific index in a list\n",
    "- General format: del list[i]\n"
   ]
  },
  {
   "cell_type": "code",
   "execution_count": null,
   "metadata": {},
   "outputs": [],
   "source": [
    "my_list = [1, 2, 3, 4, 5] \n",
    "del my_list[2]       \n",
    "print(my_list)"
   ]
  },
  {
   "cell_type": "markdown",
   "metadata": {},
   "source": [
    ">min and max functions: built-in functions that returns the item that has the lowest or highest value in a sequence\n"
   ]
  },
  {
   "cell_type": "code",
   "execution_count": null,
   "metadata": {},
   "outputs": [],
   "source": [
    "my_list = [5, 4, 3, 2, 50, 40, 30]\n",
    "print('The lowest value is', min(my_list))   # 2\n",
    "print('The highest value is', max(my_list))  # 50"
   ]
  },
  {
   "cell_type": "markdown",
   "metadata": {},
   "source": [
    "### Copying Lists\n",
    "- >Creating a new empty list and using a for loop to add a copy of each element from the original list to the new list\n",
    "- >Creating a new empty list and concatenating the old list to the new empty list\n",
    "\n"
   ]
  },
  {
   "cell_type": "code",
   "execution_count": null,
   "metadata": {},
   "outputs": [],
   "source": [
    "list1 = [1, 2, 3, 4] \n",
    "list2 = [ ] \n",
    "for item in list1:\n",
    "    list2.append(item)\n",
    "print(f'list 1: {list1}')\n",
    "print(f'list 2: {list2}')"
   ]
  },
  {
   "cell_type": "code",
   "execution_count": null,
   "metadata": {},
   "outputs": [],
   "source": [
    "list1 = [1, 2, 3, 4] \n",
    "# list2 = [] + list1\n",
    "list2 = list1.copy()\n",
    "print(f'list 1: {list1}')\n",
    "print(f'list 2: {list2}')\n"
   ]
  },
  {
   "cell_type": "code",
   "execution_count": null,
   "metadata": {},
   "outputs": [],
   "source": [
    "list1 = [1, 2, 3, 4] \n",
    "list2 = list1 \n",
    "print(f'list 1: {list1}')\n",
    "print(f'list 2: {list2}')\n",
    "x = 999\n",
    "list2.append(x)\n",
    "print(f'list 2: {list2}')\n",
    "print(f'list 1: {list1}')\n"
   ]
  },
  {
   "cell_type": "markdown",
   "metadata": {},
   "source": [
    "### Processing Lists\n",
    "- List elements can be used in calculations\n"
   ]
  },
  {
   "cell_type": "code",
   "execution_count": null,
   "metadata": {},
   "outputs": [],
   "source": [
    "# This program calculates the average of the values in a list.\n",
    "def main():\n",
    "    # Create a list.\n",
    "    scores = [2.5, 7.3, 6.5, 4.0, 5.2]\n",
    "    # Create a variable to use as an accumulator.\n",
    "    total = 0.0\n",
    "    # Calculate the total of the list elements.\n",
    "    for value in scores:\n",
    "        total += value\n",
    "    # Calculate the average of the elements.\n",
    "    average = total / len(scores)\n",
    "    # Display the total of the list elements.\n",
    "    print('The average of the elements is', average)\n",
    "# Call the main function.\n",
    "main()\n"
   ]
  },
  {
   "cell_type": "markdown",
   "metadata": {},
   "source": [
    "### Passing a List as an Argument to a Function"
   ]
  },
  {
   "cell_type": "code",
   "execution_count": null,
   "metadata": {},
   "outputs": [],
   "source": [
    "# This program uses a function to calculate the total of the values in a list.\n",
    "\n",
    "def main():\n",
    "    # Create a list.\n",
    "    numbers = [2, 4, 6, 8, 10]\n",
    "    # result = get_total(numbers)\n",
    "    # print('The total is', result)\n",
    "\n",
    "    # Display the total of the list elements.\n",
    "    print('The total is', get_total(numbers))\n",
    "\n",
    "# The get_total function accepts a list as an\n",
    "# argument returns the total of the values in the list.\n",
    "def get_total(value_list):\n",
    "    # Create a variable to use as an accumulator.\n",
    "    total = 0\n",
    "    \n",
    "    # Calculate the total of the list elements.\n",
    "    for num in value_list:\n",
    "        total += num\n",
    "\n",
    "    # Return the total.\n",
    "    return total\n",
    "\n",
    "# Call the main function.\n",
    "main()\n"
   ]
  },
  {
   "cell_type": "markdown",
   "metadata": {},
   "source": [
    "### Returning a list from a function "
   ]
  },
  {
   "cell_type": "code",
   "execution_count": null,
   "metadata": {},
   "outputs": [],
   "source": [
    "def get_values():\n",
    "    \"\"\"Get a series of numbers from the user and store them in a list.\"\"\"\n",
    "    values = []  # Create an empty list.\n",
    "    again = 'y'  # Variable to control the loop.\n",
    "\n",
    "    while again.lower() == 'y':\n",
    "        num = int(input('Enter a number: '))  # Get a number from the user.\n",
    "        values.append(num)  # Add the number to the list.\n",
    "        again = input('Add another number? (y/Y = yes, n/N = no): ')  # Ask if they want to add another.\n",
    "\n",
    "    return values  # Return the list.\n",
    "\n",
    "def main():\n",
    "    \"\"\"Main function to run the program.\"\"\"\n",
    "    numbers = get_values()  # Get a list with values from the user.\n",
    "    print('The numbers in the list are:')  # Display the values in the list.\n",
    "    print(numbers)\n",
    "\n",
    "# Call the main function.\n",
    "if __name__ == \"__main__\":\n",
    "    main()"
   ]
  },
  {
   "cell_type": "markdown",
   "metadata": {},
   "source": [
    "### Working with Lists and Files"
   ]
  },
  {
   "cell_type": "code",
   "execution_count": null,
   "metadata": {},
   "outputs": [],
   "source": [
    "# To save the contents of a list to a file:\n",
    "# Use the file object’s writelines method\n",
    "# Does not automatically write \\n at then end of each item\n",
    "\n",
    "cities = ['Alkhor', 'Alwakra', 'Dukhan', 'Doha']\n",
    "outfile = open('cities.txt', 'w') \n",
    "# outfile.writelines(cities) \n",
    "# outfile.close()    # New YorkBostonAtlantaDallas\n",
    "\n",
    "## Use a for loop to write each element and \\n\n",
    "for item in cities:\n",
    "\toutfile.write(item + '\\n')\n",
    "outfile.close()\n",
    "\n",
    "\n",
    "# To read data from a file use the file object’s readlines method\n",
    "\n",
    "infile = open('cities.txt', 'r')\n",
    "cities = infile.readlines()\n",
    "print(cities)\n",
    "infile.close()\n",
    "# Strip the \\n from each element.\n",
    "index = 0\n",
    "while index < len(cities):\n",
    "      # cities[index] = cities[index].rstrip('\\n') \n",
    "      cities[index] = cities[index].rstrip('\\n') \n",
    "      index += 1\n",
    "print(cities)"
   ]
  },
  {
   "cell_type": "markdown",
   "metadata": {},
   "source": [
    "### Two-Dimensional Lists\n",
    "- Two-dimensional list: a list that contains other lists as its elements\n",
    "    - Also known as nested list\n",
    "    - Common to think of two-dimensional lists as having rows and columns\n",
    "    - Useful for working with multiple sets of data\n",
    "\n",
    "- To process data in a two-dimensional list need to use two indexes\n",
    "- Typically use nested loops to process\n"
   ]
  },
  {
   "cell_type": "code",
   "execution_count": null,
   "metadata": {},
   "outputs": [],
   "source": [
    "# Creating a list of lists\n",
    "matrix = [\n",
    "    [1, 2, 3],\n",
    "    [4, 5, 6],\n",
    "    [7, 8, 9]\n",
    "]\n",
    "\n",
    "# # Accessing elements in a list of lists\n",
    "print(matrix[0][0])  # Output: 1\n",
    "print(matrix[1][2])  # Output: 6\n",
    "\n",
    "# # Modifying elements in a list of lists\n",
    "matrix[2][1] = 10\n",
    "print(matrix)  # Output: [[1, 2, 3], [4, 5, 6], [7, 10, 9]]"
   ]
  },
  {
   "cell_type": "code",
   "execution_count": null,
   "metadata": {},
   "outputs": [],
   "source": [
    "# This program assigns random numbers to\n",
    "# a two-dimensional list.\n",
    "import random\n",
    "# Constants for rows and columns\n",
    "ROWS = 3\n",
    "COLS = 4\n",
    "\n",
    "def main():\n",
    "    # Create a two-dimensional list.\n",
    "    values = [[0, 0, 0, 0], \n",
    "              [0, 0, 0, 0],\n",
    "              [0, 0, 0, 0]]\n",
    "    \n",
    "    # for  i in values:\n",
    "    #     for j in i:\n",
    "    #         j = random.randint(1, 100)\n",
    "    # Fill the list with random numbers.\n",
    "    for r in range(ROWS):\n",
    "        for c in range(COLS):\n",
    "            values[r][c] = random.randint(1, 100)\n",
    "\n",
    "    # Display the random numbers.\n",
    "    print(values)\n",
    "\n",
    "# Call the main function.\n",
    "main()"
   ]
  },
  {
   "cell_type": "markdown",
   "metadata": {},
   "source": [
    "## Tuples"
   ]
  },
  {
   "cell_type": "markdown",
   "metadata": {},
   "source": [
    ">Tuple: an immutable sequence\n",
    "- Very similar to a list\n",
    "- Once it is created it cannot be changed\n",
    "- Format: tuple_name = (item1, item2)\n",
    "- Tuples support operations as lists\n",
    "    - Subscript indexing for retrieving elements\n",
    "    - Methods such as index\n",
    "    - Built in functions such as len, min, max\n",
    "    - Slicing expressions\n",
    "    - The in, +, and * operators\n",
    "\n",
    "- Tuples do not support the methods:\n",
    "    - append\n",
    "    - remove\n",
    "    - insert\n",
    "    - reverse\n",
    "    - sort"
   ]
  },
  {
   "cell_type": "markdown",
   "metadata": {},
   "source": [
    ">Advantages for using tuples over lists:\n",
    "- Processing tuples is faster than processing lists\n",
    "- Tuples are safe \n",
    "- Some operations in Python require use of tuples\n"
   ]
  },
  {
   "cell_type": "code",
   "execution_count": null,
   "metadata": {},
   "outputs": [],
   "source": [
    "thistuple = (\"apple\", \"banana\", \"cherry\")\n",
    "print(thistuple)"
   ]
  },
  {
   "cell_type": "code",
   "execution_count": null,
   "metadata": {},
   "outputs": [],
   "source": [
    "# list() function: converts tuple to list\n",
    "number_tuple = (1, 2, 3)\n",
    "number_list = list(number_tuple)\n",
    "print(number_list)\n",
    "\n",
    "# tuple() function: converts list to tuple\n",
    "number_list=[1,2,3]\n",
    "number_tuple = tuple(number_list)\n",
    "print(number_tuple)\n"
   ]
  },
  {
   "cell_type": "markdown",
   "metadata": {},
   "source": [
    "## chap (9) Basic String Operations\n",
    ">Strings are sequences, so many of the tools that work with sequences work with strings\n"
   ]
  },
  {
   "cell_type": "markdown",
   "metadata": {},
   "source": [
    "### Accessing the Individual Characters in a String"
   ]
  },
  {
   "cell_type": "code",
   "execution_count": null,
   "metadata": {},
   "outputs": [
    {
     "name": "stdout",
     "output_type": "stream",
     "text": [
      "A\n",
      "l\n",
      "i\n",
      "char with index 6 in \"Roses are redrose\":  \n"
     ]
    }
   ],
   "source": [
    "# To access an individual character in a string:\n",
    "# Use a for loop\n",
    "# Format: for character in string:\n",
    "\n",
    "name = 'Ali'\n",
    "for ch in name:\n",
    "    print(ch)\n",
    "    \n",
    "# Use indexing\n",
    "# Each character has an index specifying its position in the string, starting at 0\n",
    "# Format: character = my_string[i]\n",
    "my_string = 'Roses are red'\n",
    "ch = my_string[6]\n",
    "# my_string[0] = 'r'\n",
    "print(f'char with index 6 in \"Roses are redrose\": {ch}')"
   ]
  },
  {
   "cell_type": "markdown",
   "metadata": {},
   "source": [
    "> String Concatenation"
   ]
  },
  {
   "cell_type": "code",
   "execution_count": 19,
   "metadata": {},
   "outputs": [
    {
     "name": "stdout",
     "output_type": "stream",
     "text": [
      "Khaled    Ahmed\n"
     ]
    }
   ],
   "source": [
    "firstName='Khaled'\n",
    "lastName='Ahmed'\n",
    "fullname=firstName+'    '+ lastName\n",
    "print(fullname)"
   ]
  },
  {
   "cell_type": "markdown",
   "metadata": {},
   "source": [
    ">Strings Are Immutable\n",
    "\n",
    "- Once they are created, they cannot be changed\n",
    "    - Concatenation doesn’t actually change the existing string, but rather creates a new string and assigns the new string to the previously used variable\n",
    "- Cannot use an expression of the form \n",
    "    `string[index] = new_character`\n",
    "- Statement of this type will raise an exception\n"
   ]
  },
  {
   "cell_type": "code",
   "execution_count": 20,
   "metadata": {},
   "outputs": [
    {
     "name": "stdout",
     "output_type": "stream",
     "text": [
      "The name is Salem\n",
      "Now the name is Salem Kaabi\n"
     ]
    },
    {
     "ename": "TypeError",
     "evalue": "'str' object does not support item assignment",
     "output_type": "error",
     "traceback": [
      "\u001b[1;31m---------------------------------------------------------------------------\u001b[0m",
      "\u001b[1;31mTypeError\u001b[0m                                 Traceback (most recent call last)",
      "Cell \u001b[1;32mIn[20], line 9\u001b[0m\n\u001b[0;32m      6\u001b[0m     name[\u001b[38;5;241m1\u001b[39m] \u001b[38;5;241m=\u001b[39m \u001b[38;5;124m'\u001b[39m\u001b[38;5;124ma\u001b[39m\u001b[38;5;124m'\u001b[39m\n\u001b[0;32m      8\u001b[0m \u001b[38;5;66;03m# Call the main function.\u001b[39;00m\n\u001b[1;32m----> 9\u001b[0m \u001b[43mmain\u001b[49m\u001b[43m(\u001b[49m\u001b[43m)\u001b[49m\n",
      "Cell \u001b[1;32mIn[20], line 6\u001b[0m, in \u001b[0;36mmain\u001b[1;34m()\u001b[0m\n\u001b[0;32m      4\u001b[0m name \u001b[38;5;241m=\u001b[39m name \u001b[38;5;241m+\u001b[39m \u001b[38;5;124m'\u001b[39m\u001b[38;5;124m Kaabi\u001b[39m\u001b[38;5;124m'\u001b[39m\n\u001b[0;32m      5\u001b[0m \u001b[38;5;28mprint\u001b[39m(\u001b[38;5;124m'\u001b[39m\u001b[38;5;124mNow the name is\u001b[39m\u001b[38;5;124m'\u001b[39m, name)\n\u001b[1;32m----> 6\u001b[0m \u001b[43mname\u001b[49m\u001b[43m[\u001b[49m\u001b[38;5;241;43m1\u001b[39;49m\u001b[43m]\u001b[49m \u001b[38;5;241m=\u001b[39m \u001b[38;5;124m'\u001b[39m\u001b[38;5;124ma\u001b[39m\u001b[38;5;124m'\u001b[39m\n",
      "\u001b[1;31mTypeError\u001b[0m: 'str' object does not support item assignment"
     ]
    }
   ],
   "source": [
    "def main():\n",
    "    name = 'Salem'\n",
    "    print('The name is', name)\n",
    "    name = name + ' Kaabi'\n",
    "    print('Now the name is', name)\n",
    "    name[1] = 'a'\n",
    "    \n",
    "# Call the main function.\n",
    "main()\n"
   ]
  },
  {
   "cell_type": "markdown",
   "metadata": {},
   "source": [
    ">String Slicing\n",
    "- Slice: span of items taken from a sequence, known as substring\n",
    "- Slicing format: string[start : end]\n",
    "    - Expression will return a string containing a copy of the characters from start up to, but not including, end\n",
    "    - If start not specified, 0 is used for start index\n",
    "    - If end not specified, len(string) is used for end index\n"
   ]
  },
  {
   "cell_type": "code",
   "execution_count": 21,
   "metadata": {},
   "outputs": [
    {
     "name": "stdout",
     "output_type": "stream",
     "text": [
      "Lynn\n",
      "Patty\n",
      "Smith\n",
      "ACEGIKMOQSUWY\n"
     ]
    }
   ],
   "source": [
    "full_name = 'Patty Lynn Smith' \n",
    "middle_name = full_name[6:10] \n",
    "print(middle_name)\n",
    "\n",
    "# full_name = 'Patty Lynn Smith' \n",
    "first_name = full_name[:5]\n",
    "print(first_name)\n",
    "\n",
    "# full_name = 'Patty Lynn Smith' \n",
    "last_name = full_name[11:]\n",
    "print(last_name)\n",
    "\n",
    "my_string = full_name[0 : len(full_name)]\n",
    "letters = 'ABCDEFGHIJKLMNOPQRSTUVWXYZ' \n",
    "print(letters[0:26:2])\n"
   ]
  },
  {
   "cell_type": "markdown",
   "metadata": {},
   "source": [
    "### Example:"
   ]
  },
  {
   "cell_type": "markdown",
   "metadata": {},
   "source": [
    "### Problem Description\n",
    "\n",
    "Write a Python program that generates a system login name and validates a password based on specific criteria. The program should include the following functionalities:\n",
    "\n",
    "1. **Generate Login Name**:\n",
    "    - Create a function `get_login_name(first, last, idnumber)` that takes the user's first name, last name, and student ID as input.\n",
    "    - The function should generate a login name by concatenating the first three characters of the first name, the first three characters of the last name, and the last three characters of the student ID.\n",
    "    - Return the generated login name.\n",
    "\n",
    "2. **Validate Password**:\n",
    "    - Create a function `valid_password(password)` that takes a password as input.\n",
    "    - The function should check if the password meets the following criteria:\n",
    "        - At least 7 characters long.\n",
    "        - Contains at least one uppercase letter.\n",
    "        - Contains at least one lowercase letter.\n",
    "        - Contains at least one digit.\n",
    "    - Return `True` if the password is valid, otherwise return `False`.\n",
    "\n",
    "3. **Main Function**:\n",
    "    - Create a `main()` function that prompts the user to enter their first name, last name, and student ID.\n",
    "    - Display the generated login name.\n",
    "    - Prompt the user to enter a password.\n",
    "    - Validate the password and display whether it is valid or invalid.\n",
    "\n",
    "### Example\n",
    "\n"
   ]
  },
  {
   "cell_type": "code",
   "execution_count": null,
   "metadata": {},
   "outputs": [],
   "source": [
    "Enter your first name: John\n",
    "Enter your last name: Doe\n",
    "Enter your student ID: 123456\n",
    "Your system login name is: JohDoe456\n",
    "Enter your password: Password123\n",
    "Password is valid."
   ]
  },
  {
   "cell_type": "markdown",
   "metadata": {},
   "source": [
    "\n",
    "\n",
    "Implement the functions and the main program to achieve the described functionality."
   ]
  },
  {
   "cell_type": "code",
   "execution_count": 35,
   "metadata": {},
   "outputs": [
    {
     "name": "stdout",
     "output_type": "stream",
     "text": [
      "Your system login name is:\n",
      "Your system login name is  OsaHal344\n",
      "Password is valid.\n"
     ]
    }
   ],
   "source": [
    "def get_login_name(first, last, idnumber):\n",
    "    set1 = first[0 : 3]\n",
    "    set2 = last[0: 3]\n",
    "    set3 = idnumber[-3 :]\n",
    "    login_name = set1 + set2 + set3\n",
    "    return login_name\n",
    "\n",
    "def valid_password(password):\n",
    "    correct_length = False\n",
    "    has_uppercase = False\n",
    "    has_lowercase = False\n",
    "    has_digit = False\n",
    "    if len(password) >= 7:\n",
    "        correct_length = True\n",
    "        for ch in password:\n",
    "            if ch.isupper():\n",
    "                has_uppercase = True\n",
    "            if ch.islower():\n",
    "                has_lowercase = True\n",
    "            if ch.isdigit():\n",
    "                has_digit = True\n",
    "    if correct_length and has_uppercase and \\\n",
    "        has_lowercase and has_digit:\n",
    "        is_valid = True\n",
    "    else:\n",
    "        is_valid = False\n",
    "    return is_valid\n",
    "\n",
    "\n",
    "def main():\n",
    "    first = input('Enter your first name: ')\n",
    "    last = input('Enter your last name: ')\n",
    "    idnumber = input('Enter your student ID:')\n",
    "    print('Your system login name is:')\n",
    "    print(\"Your system login name is \", get_login_name(first, last, idnumber))\n",
    "    \n",
    "    password = input('Enter your password: ')\n",
    "    if valid_password(password):\n",
    "        print('Password is valid.')\n",
    "    else:\n",
    "        print('Password is invalid.')\n",
    "main()\n"
   ]
  },
  {
   "cell_type": "markdown",
   "metadata": {},
   "source": [
    ">Testing, Searching, and Manipulating Strings\n",
    "- You can use the in operator to determine whether one string is contained in another string\n",
    "- Similarly you can use the not in operator to determine whether one string is not contained in another string"
   ]
  },
  {
   "cell_type": "code",
   "execution_count": null,
   "metadata": {},
   "outputs": [],
   "source": [
    "text = 'Four score and seven years ago'\n",
    "if 'seven' in text:\n",
    "    print('The string \"seven\" was found.') \n",
    "else:    \n",
    "      print('The string \"seven\" was not found.')\n"
   ]
  },
  {
   "cell_type": "markdown",
   "metadata": {},
   "source": [
    "### String Methods"
   ]
  },
  {
   "cell_type": "code",
   "execution_count": 24,
   "metadata": {},
   "outputs": [
    {
     "name": "stdout",
     "output_type": "stream",
     "text": [
      "This is what I found about that string:\n",
      "The string is alphanumeric.\n",
      "The letters in the string are all lowercase.\n"
     ]
    }
   ],
   "source": [
    "def analyze_string(user_string):\n",
    "    \"\"\"Analyze the given string and print its characteristics.\"\"\"\n",
    "    print('This is what I found about that string:')\n",
    "    if user_string.isalnum():\n",
    "        print('The string is alphanumeric.')\n",
    "    if user_string.isdigit():\n",
    "        print('The string contains only digits.')\n",
    "    if user_string.isalpha():\n",
    "        print('The string contains only alphabetic characters.')\n",
    "    if user_string.isspace():\n",
    "        print('The string contains only whitespace characters.')\n",
    "    if user_string.islower():\n",
    "        print('The letters in the string are all lowercase.')\n",
    "    if user_string.isupper():\n",
    "        print('The letters in the string are all uppercase.')\n",
    "\n",
    "def main():\n",
    "    \"\"\"Main function to run the program.\"\"\"\n",
    "    user_string = input('Enter a string: ')  # Get a string from the user\n",
    "    analyze_string(user_string)  # Analyze and print the characteristics of the string\n",
    "\n",
    "# Call the main function.\n",
    "if __name__ == \"__main__\":\n",
    "    main()"
   ]
  },
  {
   "cell_type": "code",
   "execution_count": 25,
   "metadata": {},
   "outputs": [
    {
     "name": "stdout",
     "output_type": "stream",
     "text": [
      "WXYZ wxyz\n",
      "abcd ABCD\n",
      "Hello\n",
      "Do you want to see that again?\n",
      "Hello\n",
      "Do you want to see that again?\n"
     ]
    }
   ],
   "source": [
    "letters = 'WXYZ'\n",
    "print(letters, letters.lower())\n",
    "\n",
    "letters = 'abcd' \n",
    "print(letters, letters.upper())\n",
    "\n",
    "again = 'y' \n",
    "while again.lower() == 'y':    \n",
    "    print('Hello')\n",
    "    print('Do you want to see that again?') \n",
    "    again = input('y = yes, anything else = no: ')\n"
   ]
  },
  {
   "cell_type": "markdown",
   "metadata": {},
   "source": [
    ">search for substrings\n",
    "- Several methods to accomplish this:\n",
    "- endswith(substring): checks if the string ends with substring\n",
    "Returns True or False\n",
    "- startswith(substring): checks if the string starts with substring\n",
    "Returns True or False\n",
    "- find(substring): searches for substring  within the string\n",
    "Returns lowest index of the substring, or if the substring is not contained in the string, returns -1\n",
    "- replace(substring, new_string): \n",
    "    - Returns a copy of the string where every occurrence of substring is replaced with new_string\n"
   ]
  },
  {
   "cell_type": "code",
   "execution_count": 3,
   "metadata": {},
   "outputs": [
    {
     "name": "stdout",
     "output_type": "stream",
     "text": [
      "Unknown file type.\n"
     ]
    }
   ],
   "source": [
    "\n",
    "filename = input('Enter the filename: ') \n",
    "if filename.endswith('.txt'):\n",
    "    print('That is the name of a text file.')\n",
    "elif filename.endswith('.py'):\n",
    "    print('That is the name of a Python source file.')\n",
    "elif filename.endswith('.doc'):\n",
    "    print('That is the name of a word document.')\n",
    "else:\n",
    "    print('Unknown file type.')\n"
   ]
  },
  {
   "cell_type": "code",
   "execution_count": 5,
   "metadata": {},
   "outputs": [
    {
     "name": "stdout",
     "output_type": "stream",
     "text": [
      "5\n",
      "Four score and seven days ago\n"
     ]
    }
   ],
   "source": [
    "string = 'Four score and seven years ago'\n",
    "\n",
    "# Find the position of the substring 'score'\n",
    "position = string.find('score')\n",
    "print(position)  # Output the position of 'score'\n",
    "\n",
    "# Replace 'years' with 'days' using the replace method\n",
    "new_string = string.replace('years', 'days')\n",
    "print(new_string)  # Output the modified string"
   ]
  },
  {
   "cell_type": "code",
   "execution_count": 7,
   "metadata": {},
   "outputs": [
    {
     "name": "stdout",
     "output_type": "stream",
     "text": [
      "The word \"seven\" was not found.\n"
     ]
    }
   ],
   "source": [
    "string = 'Four score and seven years ago' \n",
    "position = string.find('four') \n",
    "if position != -1:\n",
    "    print('The word \"seven\" was found at index', position)\n",
    "else:\n",
    "    print('The word \"seven\" was not found.')\n"
   ]
  },
  {
   "cell_type": "markdown",
   "metadata": {},
   "source": [
    ">The Repetition Operator\n"
   ]
  },
  {
   "cell_type": "code",
   "execution_count": 8,
   "metadata": {},
   "outputs": [
    {
     "name": "stdout",
     "output_type": "stream",
     "text": [
      "Z\n",
      "ZZ\n",
      "ZZZ\n",
      "ZZZZ\n",
      "ZZZZZ\n",
      "ZZZZZZ\n",
      "ZZZZZZZ\n",
      "ZZZZZZZZ\n",
      "ZZZZZZZZZ\n",
      "ZZZZZZZZ\n",
      "ZZZZZZZ\n",
      "ZZZZZZ\n",
      "ZZZZZ\n",
      "ZZZZ\n",
      "ZZZ\n",
      "ZZ\n",
      "Z\n"
     ]
    }
   ],
   "source": [
    "def main():\n",
    "    for count in range(1, 10):\n",
    "        print('Z' * count)\n",
    "    for count in range(8, 0, -1):\n",
    "        print('Z' * count)\n",
    "main()\n",
    " \n"
   ]
  },
  {
   "cell_type": "markdown",
   "metadata": {},
   "source": [
    ">Splitting a String\n",
    ">>split method: returns a list containing the words in the string\n",
    "By default, uses space as separator\n",
    "Can specify a different separator by passing it as an argument to the split method"
   ]
  },
  {
   "cell_type": "code",
   "execution_count": 10,
   "metadata": {},
   "outputs": [
    {
     "name": "stdout",
     "output_type": "stream",
     "text": [
      "['One', 'two', 'three', 'four']\n",
      "['Ali', 'Salem', '2888', '3.99', 'AUS']\n",
      "Ali\n",
      "Salem\n",
      "2888\n",
      "3.99\n",
      "AUS\n"
     ]
    }
   ],
   "source": [
    "def main():\n",
    "   my_string = 'One two three four'\n",
    "   data = 'Ali,Salem,2888,3.99,AUS'\n",
    "   word_list = my_string.split()\n",
    "   data_list = data.split(',')\n",
    "   print(word_list)\n",
    "   print(data_list)\n",
    "   firstname = data_list[0]\n",
    "   print(firstname)\n",
    "   lastname = data_list[1]\n",
    "   print(lastname)   \n",
    "   idnumber = data_list[2]\n",
    "   print(idnumber)\n",
    "   gpa = data_list[3]\n",
    "   print(gpa)  \n",
    "   country = data_list[4]\n",
    "   print(country)\n",
    "main()\n",
    "\n"
   ]
  },
  {
   "cell_type": "code",
   "execution_count": 34,
   "metadata": {},
   "outputs": [
    {
     "name": "stdout",
     "output_type": "stream",
     "text": [
      "Month: 11\n",
      "Day: 26\n",
      "Year: 2012\n"
     ]
    }
   ],
   "source": [
    "def main():\n",
    "    date_string = '11/26/2012'\n",
    "    date_list = date_string.split('/')\n",
    "    print('Month:', date_list[0])\n",
    "    print('Day:', date_list[1])\n",
    "    print('Year:', date_list[2])\n",
    "main()\n",
    "\n",
    "\n"
   ]
  },
  {
   "cell_type": "markdown",
   "metadata": {},
   "source": [
    ">9. Population Data"
   ]
  },
  {
   "cell_type": "markdown",
   "metadata": {},
   "source": [
    "The file contains the midyear population of the United States, in\n",
    "thousands, during the years 1950 through 1990. The first line in the file contains the population for 1950, the second line contains the population for 1951, and so forth.\n",
    "\n",
    "Write a program that reads the file’s contents into a list. The program should display the\n",
    "following data:\n",
    "\n",
    "- The average annual change in population during the time period\n",
    "- The year with the greatest increase in population during the time period\n",
    "- The year with the smallest increase in population during the time period"
   ]
  },
  {
   "cell_type": "code",
   "execution_count": null,
   "metadata": {},
   "outputs": [],
   "source": [
    "BASE_YEAR = 1950\n",
    "yearly_change = []\n",
    "change =0\n",
    "\n",
    "# open the file for reading\n",
    "with open('USPopulation.txt', 'r') as file:\n",
    "    yearly_population = file.readlines()\n",
    "    \n",
    "# Turn all read strings into numbers\n",
    "for i in range(len(yearly_population)):\n",
    "    yearly_population[i] = int(yearly_population[i])\n",
    "    \n",
    "# calculate the average annual change\n",
    "for i in range(1, len(yearly_population)):\n",
    "    change = yearly_population[i] - yearly_population[i-1]\n",
    "    yearly_change.append(change)\n",
    "    \n",
    "    if i == 1:\n",
    "        max_change = change\n",
    "        min_change = change\n",
    "        greatest_year = 1\n",
    "        smallest_year = 1\n",
    "    else:\n",
    "        if change > max_change:\n",
    "            max_change = change\n",
    "            greatest_year = i\n",
    "        if change < min_change:\n",
    "            min_change = change\n",
    "            smallest_year = i\n",
    "average_change = sum(yearly_change) / len(yearly_change)\n",
    "print('The average annual change in population during the years 1951-1990 was', average_change)\n",
    "print('The greatest increase in population was', max_change, 'in', {greatest_year)    \n",
    "   "
   ]
  },
  {
   "cell_type": "markdown",
   "metadata": {},
   "source": [
    "### Problem: Processing a File with Two-Dimensional Lists and Strings\n",
    "Write a program that reads a file containing student records and processes it as a two-dimensional list. Each line in the file represents a student, where the line contains the following information separated by commas:\n",
    "\n",
    "Student Name: The full name of the student.\n",
    "Enrollment Date: The date the student enrolled (in the format DD-MM-YYYY).\n",
    "Grades: A comma-separated list of grades for three subjects (Math, Physics, Chemistry).\n",
    "The program should:\n",
    "\n",
    "Load the file into a two-dimensional list.\n",
    "- Calculate and print the average grade for each student.\n",
    "- Find and print the name of the student with the highest Math grade.\n",
    "- Find and print the number of students who enrolled in a given year (e.g., 2022)."
   ]
  },
  {
   "cell_type": "markdown",
   "metadata": {},
   "source": []
  }
 ],
 "metadata": {
  "kernelspec": {
   "display_name": "Python 3",
   "language": "python",
   "name": "python3"
  },
  "language_info": {
   "codemirror_mode": {
    "name": "ipython",
    "version": 3
   },
   "file_extension": ".py",
   "mimetype": "text/x-python",
   "name": "python",
   "nbconvert_exporter": "python",
   "pygments_lexer": "ipython3",
   "version": "3.12.10"
  }
 },
 "nbformat": 4,
 "nbformat_minor": 2
}
