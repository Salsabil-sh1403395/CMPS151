{
 "cells": [
  {
   "cell_type": "markdown",
   "metadata": {},
   "source": [
    "# Chapter (5): Functions"
   ]
  },
  {
   "cell_type": "markdown",
   "metadata": {},
   "source": [
    "> Function: group of statements within  a program that perform as specific task\n",
    "- Usually one task of a large program\n",
    "- Functions can be executed in order to perform overall program task"
   ]
  },
  {
   "cell_type": "markdown",
   "metadata": {},
   "source": [
    "> A void function:\n",
    ">>Simply executes the statements it contains and then terminates.\n"
   ]
  },
  {
   "cell_type": "code",
   "execution_count": 2,
   "metadata": {},
   "outputs": [
    {
     "name": "stdout",
     "output_type": "stream",
     "text": [
      "I am a void function\n"
     ]
    }
   ],
   "source": [
    "# A void return function == the function that return nothing\n",
    "print('I am a void function')"
   ]
  },
  {
   "cell_type": "markdown",
   "metadata": {},
   "source": [
    "> value-returning function:\n",
    "Executes the statements it contains, and then it returns a value back to the statement that called it.\n"
   ]
  },
  {
   "cell_type": "code",
   "execution_count": 3,
   "metadata": {},
   "outputs": [],
   "source": [
    "# Calling a value returning function\n",
    "\n",
    "name = input('Enter your name')"
   ]
  },
  {
   "cell_type": "markdown",
   "metadata": {},
   "source": [
    "## Defining and Calling a Function"
   ]
  },
  {
   "cell_type": "code",
   "execution_count": 4,
   "metadata": {},
   "outputs": [
    {
     "name": "stdout",
     "output_type": "stream",
     "text": [
      "I am printing\n",
      "from inside the message function!\n",
      "I am printing\n",
      "from inside the message function!\n",
      "I am printing\n",
      "from inside the message function!\n"
     ]
    }
   ],
   "source": [
    "# This program demonstrates a function.\n",
    "# First, we define a function named message.\n",
    "def message():\n",
    "    print('I am printing')\n",
    "    print('from inside the message function!')\n",
    "\n",
    "# Call the message function.\n",
    "message()\n",
    "message()\n",
    "message()\n"
   ]
  },
  {
   "cell_type": "code",
   "execution_count": 5,
   "metadata": {},
   "outputs": [
    {
     "name": "stdout",
     "output_type": "stream",
     "text": [
      "I am main() and I have a message for you:\n",
      "I am message () \n",
      "printing from inside the message function!\n",
      "Goodbye!\n"
     ]
    }
   ],
   "source": [
    "# This program has two functions. \n",
    "# First we define the main function.\n",
    "def main():\n",
    "    print('I am main() and I have a message for you:')\n",
    "    message()\n",
    "    print('Goodbye!')\n",
    "    \n",
    "# Next we define the message function.\n",
    "def message():\n",
    "    print('I am message () ')\n",
    "    print('printing from inside the message function!')\n",
    "\n",
    "# Call the main function.\n",
    "main()"
   ]
  },
  {
   "cell_type": "markdown",
   "metadata": {},
   "source": [
    "> What is the output of this program?"
   ]
  },
  {
   "cell_type": "code",
   "execution_count": 6,
   "metadata": {},
   "outputs": [
    {
     "name": "stdout",
     "output_type": "stream",
     "text": [
      "Welcome\n",
      "Welcome\n",
      "Hello\n",
      "Hello\n",
      "Hello\n"
     ]
    }
   ],
   "source": [
    "def f1():\n",
    "    for i in range(3):\n",
    "        print('Hello')\n",
    "def f2():\n",
    "    for j in range(2):\n",
    "        print('Welcome')\n",
    "def main():\n",
    "    f2()\n",
    "    f1()\n",
    "    \n",
    "main()\n"
   ]
  },
  {
   "cell_type": "markdown",
   "metadata": {},
   "source": [
    "## Local variable: variable that is assigned a value inside a function\n",
    "- Belongs to the function in which it was created\n",
    "- Only statements inside that function can access it, error will occur if another function tries to access the variable\n",
    "### **Scope**: the part of a program in which a variable may be accessed (For local variable: function in which created) \n"
   ]
  },
  {
   "cell_type": "code",
   "execution_count": 5,
   "metadata": {},
   "outputs": [
    {
     "name": "stdout",
     "output_type": "stream",
     "text": [
      "Hello hahaha I changed it!\n"
     ]
    }
   ],
   "source": [
    "# What is the output of this code?\n",
    "# Definition of the main function.\n",
    "def main():\n",
    "    # name = input('Enter your last name: ')\n",
    "    get_name()\n",
    "    name = \"hahaha I changed it!\"\n",
    "    print('Hello', name)     # This causes an error!\n",
    "\n",
    "# Definition of the get_name function.\n",
    "def get_name():\n",
    "    global name \n",
    "    name = input('Enter your name: ')\n",
    "\n",
    "main()\t# Call the main function.\n"
   ]
  },
  {
   "cell_type": "markdown",
   "metadata": {},
   "source": [
    "- Local variable cannot be accessed by statements inside its function which precede its creation\n",
    "- Different functions may have local variables with the same name \n"
   ]
  },
  {
   "cell_type": "code",
   "execution_count": 8,
   "metadata": {},
   "outputs": [
    {
     "name": "stdout",
     "output_type": "stream",
     "text": [
      "Doha has 5000 birds.\n",
      "Alkhour has 8000 birds.\n"
     ]
    }
   ],
   "source": [
    "# This program demonstrates two functions that have local variables with the same name.\n",
    "\n",
    "def main():\n",
    "    doha() \t # Call the texas function.\n",
    "    khour() \t # Call the california function.\n",
    "\n",
    "# Definition of the texas function. It creates a local variable named birds.\n",
    "def doha():\n",
    "    birds = 5000\n",
    "    print('Doha has', birds, 'birds.')\n",
    "\n",
    "# Definition of the california function. It also creates a local variable named birds.\n",
    "def khour():\n",
    "    birds = 8000\n",
    "    print('Alkhour has', birds, 'birds.')\n",
    "\n",
    "main() \t# Call the main function."
   ]
  },
  {
   "cell_type": "markdown",
   "metadata": {},
   "source": [
    "## Passing Arguments to Functions"
   ]
  },
  {
   "cell_type": "markdown",
   "metadata": {},
   "source": [
    "> Argument: piece of data that is sent into a function\n",
    "- Function can use argument in calculations\n",
    "- When calling the function, the argument is placed in parentheses following the function name\n"
   ]
  },
  {
   "cell_type": "code",
   "execution_count": 7,
   "metadata": {},
   "outputs": [
    {
     "name": "stdout",
     "output_type": "stream",
     "text": [
      "10\n"
     ]
    }
   ],
   "source": [
    "# This program demonstrates an argument being\n",
    "# passed to a function.\n",
    "\n",
    "def main():\n",
    "    value = 5\n",
    "    show_double(value)\n",
    "    \n",
    "# The show_double function accepts an argument\n",
    "# and displays double its value.\n",
    "def show_double(number):\n",
    "    result = number * 2\n",
    "    print(result)\n",
    "\n",
    "# Call the main function.\n",
    "main()\n"
   ]
  },
  {
   "cell_type": "markdown",
   "metadata": {},
   "source": [
    "## Passing Multiple Arguments"
   ]
  },
  {
   "cell_type": "code",
   "execution_count": 8,
   "metadata": {},
   "outputs": [
    {
     "name": "stdout",
     "output_type": "stream",
     "text": [
      "The sum of 12 and 45 is\n",
      "57\n"
     ]
    }
   ],
   "source": [
    "# This program demonstrates a function that accepts two arguments.\n",
    "\n",
    "def main():\n",
    "    print('The sum of 12 and 45 is')\n",
    "    show_sum(12, 45)\n",
    "\n",
    "# The show_sum function accepts two arguments and displays their sum.\n",
    "def show_sum(num1, num2):\n",
    "    result = num1 + num2\n",
    "    print(result)\n",
    "\n",
    "# Call the main function.\n",
    "main()\n"
   ]
  },
  {
   "cell_type": "markdown",
   "metadata": {},
   "source": [
    ">Write a function printStars that receives an integer n and print a triangle of stars, its based has n starts, then call this function For example if n was 5 the output should look like the following\n",
    "```python\n",
    "*\n",
    "**\n",
    "***\n",
    "****\n",
    "```\n",
    "\n",
    "\n"
   ]
  },
  {
   "cell_type": "code",
   "execution_count": 10,
   "metadata": {},
   "outputs": [
    {
     "name": "stdout",
     "output_type": "stream",
     "text": [
      "\n",
      "*\n",
      "**\n",
      "***\n",
      "****\n",
      "*****\n",
      "******\n",
      "*******\n"
     ]
    }
   ],
   "source": [
    "def printStars(h):\n",
    "    for i in range(h):\n",
    "        for j in range(i):\n",
    "            print('*',end='')\n",
    "        print()\n",
    "\n",
    "printStars(8)\n"
   ]
  },
  {
   "cell_type": "markdown",
   "metadata": {},
   "source": [
    "## Making Changes to Parameters"
   ]
  },
  {
   "cell_type": "markdown",
   "metadata": {},
   "source": [
    "- Changes made to a **parameter** value within the function do not affect the **argument**\n",
    "    - Known as pass by value\n",
    "    - Provides a way for unidirectional communication between one function and another function\n",
    "    -   Calling function can communicate with called function\n"
   ]
  },
  {
   "cell_type": "code",
   "execution_count": 11,
   "metadata": {},
   "outputs": [
    {
     "name": "stdout",
     "output_type": "stream",
     "text": [
      "The value is 99\n",
      "I am changing the value.\n",
      "Now the value is 0\n",
      "Back in main the value is 99\n"
     ]
    }
   ],
   "source": [
    "# This program demonstrates what happens when you\n",
    "# change the value of a parameter.\n",
    "\n",
    "def main():\n",
    "    value = 99\n",
    "    print('The value is', value)\n",
    "    change_me(value)\n",
    "    print('Back in main the value is', value)\n",
    "\n",
    "def change_me(arg):\n",
    "    print('I am changing the value.')\n",
    "    arg = 0\n",
    "    print('Now the value is', arg)\n",
    "\n",
    "main()\n"
   ]
  },
  {
   "cell_type": "markdown",
   "metadata": {},
   "source": [
    "## Keyword Arguments\n",
    "- Keyword argument: argument that specifies which parameter the value should be passed to\n",
    "    - You can also send arguments with the key = value syntax.\n",
    "- Position when calling function is irrelevant\n"
   ]
  },
  {
   "cell_type": "code",
   "execution_count": 14,
   "metadata": {},
   "outputs": [
    {
     "ename": "NameError",
     "evalue": "name 'child1' is not defined",
     "output_type": "error",
     "traceback": [
      "\u001b[1;31m---------------------------------------------------------------------------\u001b[0m",
      "\u001b[1;31mNameError\u001b[0m                                 Traceback (most recent call last)",
      "Cell \u001b[1;32mIn[14], line 4\u001b[0m\n\u001b[0;32m      1\u001b[0m \u001b[38;5;28;01mdef\u001b[39;00m \u001b[38;5;21mmy_function\u001b[39m(child3, child2, child1):\n\u001b[0;32m      2\u001b[0m   \u001b[38;5;28mprint\u001b[39m(\u001b[38;5;124m\"\u001b[39m\u001b[38;5;124mThe youngest child is \u001b[39m\u001b[38;5;124m\"\u001b[39m \u001b[38;5;241m+\u001b[39m child3)\n\u001b[1;32m----> 4\u001b[0m my_function(\u001b[43mchild1\u001b[49m , child2 \u001b[38;5;241m=\u001b[39m \u001b[38;5;124m\"\u001b[39m\u001b[38;5;124mSalem\u001b[39m\u001b[38;5;124m\"\u001b[39m, child3 \u001b[38;5;241m=\u001b[39m \u001b[38;5;124m\"\u001b[39m\u001b[38;5;124mHana\u001b[39m\u001b[38;5;124m\"\u001b[39m)\n",
      "\u001b[1;31mNameError\u001b[0m: name 'child1' is not defined"
     ]
    }
   ],
   "source": [
    "def my_function(child3, child2, child1):\n",
    "  print(\"The youngest child is \" + child3)\n",
    "\n",
    "my_function(child1 = \"Ahmed\", child2 = \"Salem\", child3 = \"Hana\")\n",
    "\n"
   ]
  },
  {
   "cell_type": "markdown",
   "metadata": {},
   "source": [
    "## Default Parameter Value"
   ]
  },
  {
   "cell_type": "code",
   "execution_count": 14,
   "metadata": {},
   "outputs": [
    {
     "name": "stdout",
     "output_type": "stream",
     "text": [
      "I am from Sweden\n",
      "I am from India\n",
      "I am from Qatar\n",
      "I am from Brazil\n"
     ]
    }
   ],
   "source": [
    "def my_function(country = \"Qatar\"):\n",
    "  print(\"I am from \" + country)\n",
    "\n",
    "my_function(\"Sweden\")\n",
    "my_function(\"India\")\n",
    "my_function()\n",
    "my_function(\"Brazil\")\n"
   ]
  },
  {
   "cell_type": "markdown",
   "metadata": {},
   "source": [
    "## Passing a List as an Argument"
   ]
  },
  {
   "cell_type": "code",
   "execution_count": 15,
   "metadata": {},
   "outputs": [
    {
     "name": "stdout",
     "output_type": "stream",
     "text": [
      "apple\n",
      "banana\n",
      "cherry\n"
     ]
    }
   ],
   "source": [
    "def my_function(food):\n",
    "  for x in food:\n",
    "    print(x)\n",
    "\n",
    "fruits = [\"apple\", \"banana\", \"cherry\"]\n",
    "\n",
    "my_function(fruits)"
   ]
  },
  {
   "cell_type": "markdown",
   "metadata": {},
   "source": [
    "## Return Values\n",
    "**To let a function return a value, use the return statement**"
   ]
  },
  {
   "cell_type": "code",
   "execution_count": 16,
   "metadata": {},
   "outputs": [
    {
     "name": "stdout",
     "output_type": "stream",
     "text": [
      "15\n",
      "25\n",
      "45\n"
     ]
    }
   ],
   "source": [
    "def my_function(x):\n",
    "  return 5 * x\n",
    "\n",
    "print(my_function(3))\n",
    "print(my_function(5))\n",
    "print(my_function(9))"
   ]
  },
  {
   "cell_type": "markdown",
   "metadata": {},
   "source": [
    ">The pass Statement\n",
    "function definitions cannot be empty, but if you for some reason have a function definition with no content, put in the pass statement to avoid getting an error."
   ]
  },
  {
   "cell_type": "code",
   "execution_count": 17,
   "metadata": {},
   "outputs": [],
   "source": [
    "def myfunction():\n",
    "  pass"
   ]
  },
  {
   "cell_type": "markdown",
   "metadata": {},
   "source": [
    ">Write function max(x,y) that receives two integers and returns the maximum one. Call this function. \n"
   ]
  },
  {
   "cell_type": "markdown",
   "metadata": {},
   "source": [
    ">Write function factorial(n) that receives an integer and return its factorial. Call this function. \n"
   ]
  },
  {
   "cell_type": "code",
   "execution_count": null,
   "metadata": {},
   "outputs": [],
   "source": [
    "# \n",
    "def fact(n):\n",
    "    fact = 1\n",
    "    for i in range(1, n+1):\n",
    "        fact*=i\n",
    "    return fact\n",
    "val = int(input(\"enter n: \"))\n",
    "print(f'factorial of {val} is {fact(val)}')"
   ]
  },
  {
   "cell_type": "markdown",
   "metadata": {},
   "source": [
    "## Returning Multiple Values\n",
    "```python\n",
    "In Python, a function can return multiple values\n",
    "Specified after the return statement separated by commas\n",
    "Format: \t\treturn expression1, expression2, etc.\n",
    "```\n"
   ]
  },
  {
   "cell_type": "code",
   "execution_count": null,
   "metadata": {},
   "outputs": [],
   "source": [
    "def main():\n",
    "    first, last = get_name()\n",
    "    print(f'Hello {first} {last}')\n",
    "    \n",
    "def get_name():\n",
    "    first=input('Enter first name:')\n",
    "    last=input('Enter last name:')\n",
    "    return first, last\n",
    "\n",
    "main()"
   ]
  },
  {
   "cell_type": "markdown",
   "metadata": {},
   "source": [
    "## Global Variable"
   ]
  },
  {
   "cell_type": "code",
   "execution_count": null,
   "metadata": {},
   "outputs": [],
   "source": [
    "# Create a global variable.\n",
    "my_value = 10\n",
    "\n",
    "# The show_value function prints\n",
    "# the value of the global variable.\n",
    "def show_value():\n",
    "    print(my_value)\n",
    "\n",
    "# Call the show_value function.\n",
    "show_value()"
   ]
  },
  {
   "cell_type": "code",
   "execution_count": null,
   "metadata": {},
   "outputs": [],
   "source": [
    "# Create a global variable.\n",
    "number = 0\n",
    "\n",
    "def main():\n",
    "    global number\n",
    "    number = int(input('Enter a number: '))\n",
    "    show_number()\n",
    "\n",
    "def show_number():\n",
    "    print('The number you entered is', number)\n",
    "\n",
    "# Call the main function.\n",
    "main()\n"
   ]
  },
  {
   "cell_type": "markdown",
   "metadata": {},
   "source": [
    "### Global Constants"
   ]
  },
  {
   "cell_type": "code",
   "execution_count": 1,
   "metadata": {},
   "outputs": [
    {
     "name": "stdout",
     "output_type": "stream",
     "text": [
      "Contribution for gross pay: $16.00\n",
      "Contribution for bonuses: $0.50\n"
     ]
    }
   ],
   "source": [
    "# The following is used as a global constant to represent the contribution rate.\n",
    "CONTRIBUTION_RATE = 0.05\n",
    "\n",
    "def main():\n",
    "    gross_pay = float(input('Enter the gross pay: '))\n",
    "    bonus = float(input('Enter the amount of bonuses: '))\n",
    "    show_pay_contrib(gross_pay)\n",
    "    show_bonus_contrib(bonus)\n",
    "# The show_pay_contrib function accepts the gross pay as an argument and \n",
    "# displays the retirement contribution for that amount of pay.\n",
    "def show_pay_contrib(gross):\n",
    "    contrib = gross * CONTRIBUTION_RATE\n",
    "    print('Contribution for gross pay: $', \\\n",
    "          format(contrib, ',.2f'), \\\n",
    "          sep='')\n",
    "# The show_bonus_contrib function accepts the bonus amount as an argument and \n",
    "# displays the retirement contribution for that amount of pay.\n",
    "def show_bonus_contrib(bonus):\n",
    "    contrib = bonus * CONTRIBUTION_RATE\n",
    "    print('Contribution for bonuses: $', \\\n",
    "          format(contrib, ',.2f'), \\\n",
    "          sep='')\n",
    "\n",
    "main() \t# Call the main function.\n"
   ]
  },
  {
   "cell_type": "markdown",
   "metadata": {},
   "source": [
    "## Standard Library Functions and the import Statement"
   ]
  },
  {
   "cell_type": "markdown",
   "metadata": {},
   "source": [
    "- Standard library: library of pre-written functions that comes with Python\n",
    "Library functions perform tasks that programmers commonly need\n",
    "    - Example: print, input, range\n",
    "    - Viewed by programmers as a “black box”\n",
    "\n",
    "- Some library functions built into Python interpreter\n",
    "    -  To use, just call the function\n",
    "\n",
    "- Modules: files that stores functions of the standard library\n",
    "    -   Help organize library functions not built into the interpreter\n",
    "    -   Copied to computer when you install Python\n",
    "\n",
    "- To call a function stored in a module, need to write an import statement\n",
    "    - Written at the top of the program\n",
    "    - Format: \timport module_name\n"
   ]
  },
  {
   "cell_type": "markdown",
   "metadata": {},
   "source": [
    "## Generating Random Numbers"
   ]
  },
  {
   "cell_type": "code",
   "execution_count": 7,
   "metadata": {},
   "outputs": [
    {
     "name": "stdout",
     "output_type": "stream",
     "text": [
      "The number is 8\n"
     ]
    }
   ],
   "source": [
    "# This program displays a random number in the range of 1 through 10.\n",
    "import random\n",
    "\n",
    "def main():\n",
    "    # Get a random number.\n",
    "    number = random.randint(1, 10)\n",
    "    # Display the number.\n",
    "    print('The number is', number)\n",
    "\n",
    "main() \t# Call the main function.\n"
   ]
  },
  {
   "cell_type": "code",
   "execution_count": 8,
   "metadata": {},
   "outputs": [
    {
     "name": "stdout",
     "output_type": "stream",
     "text": [
      "Rolling the dice...\n",
      "Their values are:\n",
      "2\n",
      "4\n",
      "Rolling the dice...\n",
      "Their values are:\n",
      "4\n",
      "1\n",
      "Rolling the dice...\n",
      "Their values are:\n",
      "3\n",
      "2\n"
     ]
    }
   ],
   "source": [
    "# This program simulates the rolling of dice.\n",
    "import random\n",
    "\n",
    "# Constants for the minimum and maximum random numbers\n",
    "MIN = 1\n",
    "MAX = 6\n",
    "\n",
    "def main():\n",
    "    # Create a variable to control the loop.\n",
    "    again = 'y'\n",
    "\n",
    "    # Simulate rolling the dice.\n",
    "    while again == 'y' or again == 'Y':\n",
    "        print('Rolling the dice...')\n",
    "        print('Their values are:')\n",
    "        print(random.randint(MIN, MAX))\n",
    "        print(random.randint(MIN, MAX))\n",
    "\n",
    "        # Do another roll of the dice?\n",
    "        again = input('Roll them again? (y = yes): ')\n",
    "\n",
    "# Call the main function.\n",
    "main()"
   ]
  },
  {
   "cell_type": "markdown",
   "metadata": {},
   "source": [
    ">**randrange function**:\n",
    "similar to range function, but returns randomly selected integer from the resulting sequence \n",
    "Same arguments as for the range function\n"
   ]
  },
  {
   "cell_type": "code",
   "execution_count": 12,
   "metadata": {},
   "outputs": [
    {
     "name": "stdout",
     "output_type": "stream",
     "text": [
      "Random number between 0 and 9: 3\n",
      "Random number between 1 and 10: 2\n",
      "Random number between 50 and 100 with step 5: 100\n"
     ]
    }
   ],
   "source": [
    "import random\n",
    "\n",
    "# Generate a random number between 0 and 9\n",
    "random_number = random.randrange(10)\n",
    "print(f\"Random number between 0 and 9: {random_number}\")\n",
    "\n",
    "# Generate a random number between 1 and 10\n",
    "random_number = random.randrange(1, 11)\n",
    "print(f\"Random number between 1 and 10: {random_number}\")\n",
    "\n",
    "# Generate a random number between 50 and 100 with a step of 5\n",
    "random_number = random.randrange(50, 101, 5)\n",
    "print(f\"Random number between 50 and 100 with step 5: {random_number}\")\n"
   ]
  },
  {
   "cell_type": "markdown",
   "metadata": {},
   "source": [
    "- **random function**: returns a random float in the range of 0.0 and 1.0\n",
    "    -   Does not receive arguments\n",
    "\n",
    "     ```python\n",
    "        number = random.random()\n",
    "     ```\n",
    "    - It will return a random floating point number in the range of 0.0 up to 1.0 (but not including 1.0)\n",
    "\n",
    "- **uniform function**: returns a random float but allows user to specify range\n",
    "\n",
    "     ```python\n",
    "        number = random.uniform(1.0, 10.0)\n",
    "\n",
    "    - It will return a random floating point number in the range of 1.0 through 10.0 (1.0 and 10.0 are included)\n"
   ]
  },
  {
   "cell_type": "code",
   "execution_count": 13,
   "metadata": {},
   "outputs": [
    {
     "name": "stdout",
     "output_type": "stream",
     "text": [
      "Random float between 0.0 and 1.0: 0.7509154952652717\n",
      "Random float between 1.0 and 10.0: 2.9050570785188086\n",
      "Random float between -5.0 and 5.0: 4.713864570761027\n"
     ]
    }
   ],
   "source": [
    "import random\n",
    "\n",
    "# Generate a random float number between 0.0 and 1.0\n",
    "random_float = random.random()\n",
    "print(f\"Random float between 0.0 and 1.0: {random_float}\")\n",
    "\n",
    "# Generate a random float number between 1.0 and 10.0\n",
    "random_uniform = random.uniform(1.0, 10.0)\n",
    "print(f\"Random float between 1.0 and 10.0: {random_uniform}\")\n",
    "\n",
    "# Generate a random float number between -5.0 and 5.0\n",
    "random_uniform_negative = random.uniform(-5.0, 5.0)\n",
    "print(f\"Random float between -5.0 and 5.0: {random_uniform_negative}\")\n"
   ]
  },
  {
   "cell_type": "markdown",
   "metadata": {},
   "source": [
    "## Random Number Seeds\n",
    ">No, you don’t need to use random.seed to get different series of random numbers in Python. By default, the random number generator uses the current system time to initialize the seed, which ensures that you get different sequences of random numbers each time you run your program.\n",
    "\n",
    ">However, if you want to reproduce the same sequence of random numbers (for example, for debugging or testing purposes), you can use random.seed to set a specific seed value. This will ensure that the random number generator produces the same sequence of numbers every time you run the program with that seed."
   ]
  },
  {
   "cell_type": "code",
   "execution_count": 27,
   "metadata": {},
   "outputs": [
    {
     "name": "stdout",
     "output_type": "stream",
     "text": [
      "Random number 1: 8\n",
      "Random number 2: 12\n",
      "Random number 3: 11\n",
      "Random number 1 (again): 8\n",
      "Random number 2 (again): 12\n",
      "Random number 3 (again): 11\n"
     ]
    }
   ],
   "source": [
    "import random\n",
    "\n",
    "# Set the seed value\n",
    "random.seed(2.0)\n",
    "\n",
    "# Generate and print some random numbers\n",
    "print(\"Random number 1:\", random.randint(1, 100))\n",
    "print(\"Random number 2:\", random.randint(1, 100))\n",
    "print(\"Random number 3:\", random.randint(1, 100))\n",
    "\n",
    "# Reset the seed value to the same seed\n",
    "random.seed(2.0)\n",
    "\n",
    "# Generate and print the same random numbers again\n",
    "print(\"Random number 1 (again):\", random.randint(1, 100))\n",
    "print(\"Random number 2 (again):\", random.randint(1, 100))\n",
    "print(\"Random number 3 (again):\", random.randint(1, 100))\n"
   ]
  },
  {
   "cell_type": "markdown",
   "metadata": {},
   "source": [
    "## The math Module\n",
    "- math module: part of standard library that contains functions that are useful for performing mathematical calculations\n",
    "    - Typically accept one or more values as arguments, perform mathematical operation, and return the result\n",
    "    - Use of module requires an import math statement\n"
   ]
  },
  {
   "cell_type": "code",
   "execution_count": 45,
   "metadata": {},
   "outputs": [
    {
     "name": "stdout",
     "output_type": "stream",
     "text": [
      "The square root of 16 is 4.0\n",
      "The sine of 1.5707963267948966 radians is 1.0\n",
      "The factorial of 5 is 120\n",
      "The natural logarithm of 10 is 2.302585092994046\n",
      "The GCD of 48 and 18 is 6\n"
     ]
    }
   ],
   "source": [
    "import math\n",
    "\n",
    "# Calculate the square root of a number\n",
    "number = 16\n",
    "sqrt_result = math.sqrt(number)\n",
    "print(f\"The square root of {number} is {sqrt_result}\")\n",
    "\n",
    "# Calculate the sine of an angle in radians\n",
    "angle = math.pi / 2  # 90 degrees in radians\n",
    "sine_result = math.sin(angle)\n",
    "print(f\"The sine of {angle} radians is {sine_result}\")\n",
    "\n",
    "# Calculate the factorial of a number\n",
    "factorial_number = 5\n",
    "factorial_result = math.factorial(factorial_number)\n",
    "print(f\"The factorial of {factorial_number} is {factorial_result}\")\n",
    "\n",
    "# Calculate the natural logarithm of a number\n",
    "log_number = 10\n",
    "log_result = math.log(log_number)\n",
    "print(f\"The natural logarithm of {log_number} is {log_result}\")\n",
    "\n",
    "# Calculate the greatest common divisor (GCD) of two numbers\n",
    "num1 = 48\n",
    "num2 = 18\n",
    "gcd_result = math.gcd(num1, num2)\n",
    "print(f\"The GCD of {num1} and {num2} is {gcd_result}\")\n"
   ]
  },
  {
   "cell_type": "markdown",
   "metadata": {},
   "source": [
    "## Storing Functions in \n",
    "1. Creating the Module (mymodule.py):\n",
    "    - Define the functions greet, add, and subtract.\n",
    "2. Using the Module (main.py):\n",
    "    - Import the mymodule using the import statement.\n",
    "    - Call the functions from mymodule using the syntax mymodule.function_name."
   ]
  },
  {
   "cell_type": "code",
   "execution_count": null,
   "metadata": {},
   "outputs": [],
   "source": [
    "# mymodule.py\n",
    "\n",
    "def greet(name):\n",
    "    return f\"Hello, {name}!\"\n",
    "\n",
    "def add(a, b):\n",
    "    return a + b\n",
    "\n",
    "def subtract(a, b):\n",
    "    return a - b\n"
   ]
  },
  {
   "cell_type": "code",
   "execution_count": null,
   "metadata": {},
   "outputs": [],
   "source": [
    "# main.py\n",
    "\n",
    "import mymodule\n",
    "\n",
    "# Use the functions from mymodule\n",
    "name = \"Alice\"\n",
    "print(mymodule.greet(name))\n",
    "\n",
    "a = 10\n",
    "b = 5\n",
    "print(f\"{a} + {b} = {mymodule.add(a, b)}\")\n",
    "print(f\"{a} - {b} = {mymodule.subtract(a, b)}\")\n"
   ]
  }
 ],
 "metadata": {
  "kernelspec": {
   "display_name": "Python 3",
   "language": "python",
   "name": "python3"
  },
  "language_info": {
   "codemirror_mode": {
    "name": "ipython",
    "version": 3
   },
   "file_extension": ".py",
   "mimetype": "text/x-python",
   "name": "python",
   "nbconvert_exporter": "python",
   "pygments_lexer": "ipython3",
   "version": "3.12.7"
  }
 },
 "nbformat": 4,
 "nbformat_minor": 2
}
