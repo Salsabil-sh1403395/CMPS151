{
 "cells": [
  {
   "cell_type": "markdown",
   "metadata": {},
   "source": [
    ">Write a Python program that asks the user to enter two numbers. Your program should validate that the first number is less than the second number. If the validation is successful, the program should print all odd numbers between the two numbers, including the numbers themselves if they are odd. "
   ]
  },
  {
   "cell_type": "code",
   "execution_count": null,
   "metadata": {},
   "outputs": [],
   "source": [
    "# Ask the user to enter two numbers\n",
    "first_number = int(input(\"Enter the first number: \"))\n",
    "second_number = int(input(\"Enter the second number: \"))\n",
    "\n",
    "# Validate that the first number is less than the second number\n",
    "if first_number >= second_number:\n",
    "    print(\"Invalid input: The first number must be less than the second number.\")\n",
    "else:\n",
    "    print(f\"Odd numbers between {first_number} and {second_number} (inclusive):\")\n",
    "    for num in range(first_number, second_number + 1):\n",
    "        if num % 2 != 0:\n",
    "            print(num)"
   ]
  },
  {
   "cell_type": "markdown",
   "metadata": {},
   "source": [
    ">Write a Python program that repeatedly asks the user to enter an integer. The program should continue to prompt the user for input until the user enters -999. Once -999 is entered, the program should display the maximum number that was entered (excluding -999). "
   ]
  },
  {
   "cell_type": "code",
   "execution_count": null,
   "metadata": {},
   "outputs": [],
   "source": [
    "num = int(input('Enter a number to calculate the max and enter -999 to stop'))\n",
    "max = num\n",
    "while num != -999:\n",
    "    if num > max:\n",
    "        max = num\n",
    "    num = int(input('Enter again numbers to calculate the max and enter -999 to stop'))\n",
    "print(f'max is {max}') \n"
   ]
  },
  {
   "cell_type": "markdown",
   "metadata": {},
   "source": [
    ">Write a program that reads 10 integer numbers from the user then display how many odd and how many even numbers among them."
   ]
  },
  {
   "cell_type": "code",
   "execution_count": 7,
   "metadata": {},
   "outputs": [
    {
     "name": "stdout",
     "output_type": "stream",
     "text": [
      "total of even numbers: 6\n",
      "total of odd numbers: 4\n"
     ]
    }
   ],
   "source": [
    "odd_total = 0\n",
    "even_total = 0\n",
    "\n",
    "for i in range (10):\n",
    "    num = int(input('Enter a number: '))\n",
    "    if num & 2 == 2:\n",
    "        even_total += 1\n",
    "    else:\n",
    "        odd_total += 1\n",
    "print(f'total of even numbers: {even_total}')\n",
    "print(f'total of odd numbers: {odd_total}')"
   ]
  },
  {
   "attachments": {
    "image.png": {
     "image/png": "[encoded data removed]"
    }
   },
   "cell_type": "markdown",
   "metadata": {
    "vscode": {
     "languageId": "plaintext"
    }
   },
   "source": [
    ">Write a program to calculate the total  the following \n",
    "\n",
    "![image.png](attachment:image.png)"
   ]
  },
  {
   "cell_type": "code",
   "execution_count": null,
   "metadata": {},
   "outputs": [],
   "source": [
    "sum=0\n",
    "for i in range(1,31):\n",
    "    j=31-i\n",
    "    term=i/j\n",
    "    sum+=term\n",
    "print(\"Total:\",sum)\n"
   ]
  },
  {
   "cell_type": "markdown",
   "metadata": {},
   "source": [
    ">Write a Python program that reads the scores of 10 students. For each student, you need to read two scores: one for the English subject and one for the Math subject. After reading all the scores, your program should display:\n",
    "\n",
    "- The highest score in English.\n",
    "- The average score of all students in Math."
   ]
  },
  {
   "cell_type": "code",
   "execution_count": 11,
   "metadata": {},
   "outputs": [
    {
     "name": "stdout",
     "output_type": "stream",
     "text": [
      "Max grade of English is 99.\n",
      "The average of Math scores is 54.0.\n"
     ]
    }
   ],
   "source": [
    "number_of_students = 10\n",
    "highest_score = 0\n",
    "average_math_score = 0\n",
    "math_total = 0\n",
    "max_english_score = 0\n",
    "for student in range (1, number_of_students+1):\n",
    "    english_score =int(input(f'enter English score for student {student} : '))\n",
    "    math_score = int (input(f'enter Math score for student {student}: '))\n",
    "    if english_score > max_english_score:\n",
    "        max_english_score = english_score\n",
    "    math_total += math_score\n",
    "\n",
    "average_math_score = math_total / number_of_students\n",
    "\n",
    "print(f'Max grade of English is {max_english_score}.')\n",
    "print(f'The average of Math scores is {average_math_score}.')\n"
   ]
  },
  {
   "cell_type": "markdown",
   "metadata": {},
   "source": [
    ">A retail store has 10 branches, each branch has different number of salespeople. Write a program to read number of sales employees in each branch, then read the sale amount made by each person, then print the average sale for the department. At the end, your program should \n",
    "- print the branch number that made the highest amount of sale.\n",
    "- Print the total sale in all branches. \n",
    "- Print the branch number that has the minimum number of sales employees. \n",
    " \n",
    "**Note: For each input sale, your program should ensure that sale amount is positive. if not, the program keeps asking the user to enter a positive input.**\n"
   ]
  },
  {
   "cell_type": "markdown",
   "metadata": {},
   "source": []
  },
  {
   "cell_type": "code",
   "execution_count": 2,
   "metadata": {},
   "outputs": [
    {
     "name": "stdout",
     "output_type": "stream",
     "text": [
      "Branch number with the highest amount of sale: 3\n",
      "Total sale in all branches: $ 231.0\n",
      "Branch number with the minimum number of sales employees 2\n"
     ]
    }
   ],
   "source": [
    "import math\n",
    "\n",
    "total_sale_all_branches = 0\n",
    "highest_sale_branch = 0\n",
    "highest_sale_amount = 0\n",
    "min_salespeople_branch = 0\n",
    "min_salespeople_count = math.inf #infinity\n",
    "\n",
    "for branch in range(1, 4): #outer loop\n",
    "    num_salespeople = int(input(f'Enter number of salespeople in branch {branch}: '))\n",
    "          \n",
    "    total_sale_branch = 0 # must be reset for each branch\n",
    "    \n",
    "    # calculate the minimum\n",
    "    if num_salespeople < min_salespeople_count:\n",
    "          min_salespeople_count = num_salespeople\n",
    "          min_salepeople_branch = branch\n",
    "          \n",
    "    for j in range(num_salespeople):\n",
    "            sale_amount = float(input(\"Enter sale amount: $\"))\n",
    "            #validation\n",
    "            while sale_amount <= 0:\n",
    "                print('Sale amount should be positive')\n",
    "                sale_amount = float(input(\"Enter sale amount: $\"))\n",
    "                \n",
    "            total_sale_branch += sale_amount\n",
    "            total_sale_all_branches += sale_amount\n",
    "            \n",
    "    if total_sale_branch > highest_sale_amount:\n",
    "          highest_sale_amount  = total_sale_branch\n",
    "          highest_sale_branch = branch\n",
    "\n",
    "print(\"Branch number with the highest amount of sale:\", highest_sale_branch)\n",
    "print(\"Total sale in all branches: $\", total_sale_all_branches)\n",
    "print(\"Branch number with the minimum number of sales employees\", min_salepeople_branch)\n"
   ]
  }
 ],
 "metadata": {
  "kernelspec": {
   "display_name": "Python 3",
   "language": "python",
   "name": "python3"
  },
  "language_info": {
   "codemirror_mode": {
    "name": "ipython",
    "version": 3
   },
   "file_extension": ".py",
   "mimetype": "text/x-python",
   "name": "python",
   "nbconvert_exporter": "python",
   "pygments_lexer": "ipython3",
   "version": "3.12.7"
  }
 },
 "nbformat": 4,
 "nbformat_minor": 2
}
