{
 "cells": [
  {
   "cell_type": "markdown",
   "metadata": {},
   "source": [
    "# Chapter (10): Object Oriented"
   ]
  },
  {
   "cell_type": "markdown",
   "metadata": {},
   "source": [
    "- Python is an object oriented programming language.\n",
    "- Almost everything in Python is an object, with its properties and methods.\n",
    "- A Class is like an object constructor, or a \"blueprint\" for creating objects."
   ]
  },
  {
   "cell_type": "code",
   "execution_count": null,
   "metadata": {},
   "outputs": [
    {
     "name": "stdout",
     "output_type": "stream",
     "text": [
      "5\n"
     ]
    }
   ],
   "source": [
    "class MyClass:\n",
    "  x = 5\n",
    "\n",
    "p1 = MyClass()\n",
    "print(p1.x)"
   ]
  },
  {
   "cell_type": "markdown",
   "metadata": {},
   "source": [
    "## The __init__() Function\n",
    "- To understand the meaning of classes we have to understand the built-in __init__() function.\n",
    "\n",
    "- All classes have a function called __init__(), which is always executed when the class is being initiated.\n",
    "\n",
    "- Use the __init__() function to assign values to object properties, or other operations that are necessary to do when the object is being created:\n",
    "> Note: The __init__() function is called automatically every time the class is being used to create a new object."
   ]
  },
  {
   "cell_type": "code",
   "execution_count": null,
   "metadata": {},
   "outputs": [
    {
     "name": "stdout",
     "output_type": "stream",
     "text": [
      "Ahmed\n",
      "36\n",
      "Ali\n",
      "22\n"
     ]
    }
   ],
   "source": [
    "class Person:\n",
    "  def __init__(self, name, age):\n",
    "    self.name = name\n",
    "    self.age = age\n",
    "\n",
    "p1 = Person(\"Ahmed\", 36)\n",
    "p2 = Person('Ali', 22)\n",
    "\n",
    "print(p1.name)\n",
    "print(p1.age)\n",
    "print(p2.name)\n",
    "print(p2.age)"
   ]
  },
  {
   "cell_type": "markdown",
   "metadata": {},
   "source": [
    "## The __str__() Function\n",
    "- The __str__() function controls what should be returned when the class object is represented as a string.\n",
    "- Automatically called when the object is passed as an argument to the print function\n",
    "\n",
    "\n",
    "- If the __str__() function is not set, the string representation of the object is returned:"
   ]
  },
  {
   "cell_type": "code",
   "execution_count": 6,
   "metadata": {},
   "outputs": [
    {
     "name": "stdout",
     "output_type": "stream",
     "text": [
      "<__main__.Person object at 0x000001FEF0B8EB70>\n"
     ]
    }
   ],
   "source": [
    "class Person:\n",
    "  def __init__(self, name, age):\n",
    "    self.name = name\n",
    "    self.age = age\n",
    "\n",
    "p1 = Person(\"John\", 36)\n",
    "\n",
    "print(p1)"
   ]
  },
  {
   "cell_type": "markdown",
   "metadata": {},
   "source": [
    ">The string representation of an object WITH the __str__() function:"
   ]
  },
  {
   "cell_type": "code",
   "execution_count": null,
   "metadata": {},
   "outputs": [
    {
     "name": "stdout",
     "output_type": "stream",
     "text": [
      "Ahmed(36)\n"
     ]
    }
   ],
   "source": [
    "class Person:\n",
    "  def __init__(self, name, age):\n",
    "    self.name = name\n",
    "    self.age = age\n",
    "\n",
    "  def __str__(self):\n",
    "    return f\"{self.name}({self.age})\"\n",
    "\n",
    "p1 = Person(\"Ahmed\", 36)\n",
    "\n",
    "print(p1)"
   ]
  },
  {
   "cell_type": "code",
   "execution_count": 10,
   "metadata": {},
   "outputs": [
    {
     "name": "stdout",
     "output_type": "stream",
     "text": [
      "Hamdi(33)\n"
     ]
    }
   ],
   "source": [
    "class Person:\n",
    "  def __init__(self):\n",
    "    self.name = ''\n",
    "    self.age = 0\n",
    "\n",
    "  def __str__(self):\n",
    "    return f\"{self.name}({self.age})\"\n",
    "\n",
    "# p1 = Person(\"Ahmed\", 36)\n",
    "p1 = Person()\n",
    "p1.name = \"Hamdi\"\n",
    "p1.age = 33\n",
    "\n",
    "print(p1)"
   ]
  },
  {
   "cell_type": "markdown",
   "metadata": {},
   "source": [
    "## Exercise\n",
    "Create a class Student that has three attributes id (int), name(string), gpa(float), add method __str__ to display student’s state. Then create two student objects. \n"
   ]
  },
  {
   "cell_type": "code",
   "execution_count": 1,
   "metadata": {},
   "outputs": [
    {
     "name": "stdout",
     "output_type": "stream",
     "text": [
      "ID:123\n",
      "Name:Sara\n",
      "GPA:3.5\n",
      "\n",
      "ID:456\n",
      "Name:Ahmed\n",
      "GPA:3.9\n",
      "\n"
     ]
    }
   ],
   "source": [
    "class Student:\n",
    "    def __init__(self, i, n, g):\n",
    "        self.id = i\n",
    "        self.name = n\n",
    "        self.gpa = g\n",
    "    \n",
    "    def __str__(self):\n",
    "        return f'ID:{self.id}\\nName:{self.name}\\nGPA:{self.gpa}\\n'\n",
    "s1 = Student(123, 'Sara', '3.5')\n",
    "s2 = Student(456, 'Ahmed', 3.9)\n",
    "print(s1)\n",
    "print(s2)\n",
    "        "
   ]
  },
  {
   "cell_type": "markdown",
   "metadata": {},
   "source": [
    "## Hiding Attributes\n",
    "An object’s data attributes should be private so that only the object’s methods can directly access them. This protects the object’s data attributes from accidental corruption.\n"
   ]
  },
  {
   "cell_type": "code",
   "execution_count": 18,
   "metadata": {},
   "outputs": [
    {
     "name": "stdout",
     "output_type": "stream",
     "text": [
      "ACNo:12345\n",
      "Name:Ahmed\n",
      "Balance:5000\n"
     ]
    }
   ],
   "source": [
    "class Account:\n",
    "    def __init__(self, a, n, b):\n",
    "        self.acno = a\n",
    "        self.name = n\n",
    "        self.__balance = b\n",
    "    def deposit(self, amount):\n",
    "        self.balance += amount\n",
    "    def withdraw(self, amount):\n",
    "        if self.__balance >= amount:\n",
    "            self.__balance -= amount\n",
    "        else:\n",
    "            print('Insuffieient fund')\n",
    "    def getBalance(self):\n",
    "        return self.__balance\n",
    "    def __str__(self):\n",
    "        return f'ACNo:{self.acno}\\nName:{self.name}\\nBalance:{self.__balance}'\n",
    "    \n",
    "acc1 = Account(12345, 'Ahmed', 5000)\n",
    "print(acc1)\n",
    "    "
   ]
  },
  {
   "cell_type": "markdown",
   "metadata": {},
   "source": [
    "## Accessor and Mutator Methods \n",
    "- Typically, all of a class’s data attributes are private and provide methods to access and change them\n",
    "- Accessor methods: return a value from a class’s attribute without changing it\n",
    "Safe way for code outside the class to retrieve the value of attributes\n",
    "- Mutator methods: store or change the value of a data attribute\n"
   ]
  },
  {
   "cell_type": "code",
   "execution_count": 7,
   "metadata": {},
   "outputs": [
    {
     "name": "stdout",
     "output_type": "stream",
     "text": [
      "ID:111 Name:Soso GPA:3.9\n",
      "ID:222 Name:Momo GPA:2.2\n",
      "111\n",
      "Soso\n",
      "ID:222 Name:Hahaha GPA:2.2\n"
     ]
    }
   ],
   "source": [
    "class Student:\n",
    "    def __init__(self, i, n, g):\n",
    "        self.__id = i\n",
    "        self.__name = n\n",
    "        self.__gpa = g\n",
    "\n",
    "    @property\n",
    "    def _id(self):\n",
    "        return self.__id\n",
    "\n",
    "    @_id.setter\n",
    "    def _id(self, value):\n",
    "        self.__id = value\n",
    "\n",
    "    @property\n",
    "    def _name(self):\n",
    "        return self.__name\n",
    "\n",
    "    @_name.setter\n",
    "    def _name(self, value):\n",
    "        self.__name = value\n",
    "\n",
    "    @property\n",
    "    def _gpa(self):\n",
    "        return self.__gpa\n",
    "\n",
    "    @_gpa.setter\n",
    "    def _gpa(self, value):\n",
    "        self.__gpa = value\n",
    "    def __str__(self):\n",
    "        return f'ID:{self.__id} Name:{self.__name} GPA:{self.__gpa}'\n",
    "\n",
    "s1 = Student(111, 'Soso', 3.9)\n",
    "s2 = Student(222, 'Momo', 2.2)\n",
    "\n",
    "print(s1)\n",
    "print(s2)\n",
    "print(s1._id)\n",
    "print(s1._name)\n",
    "s2._name = 'Hahaha'\n",
    "print(s2)\n",
    "    "
   ]
  },
  {
   "cell_type": "markdown",
   "metadata": {},
   "source": [
    "### Exercise\n",
    "Create a class Employee that has two private attributes , name(string), salary(float), add the following methods:\n",
    "-  __str__ to display student’s state.\n",
    "- Setter/getter for every private data\n",
    "- netSalary that returns the net salary  by deducting 15% as a tax from the salary. \n",
    "\n",
    "Then create two employee objects.\n",
    "Update their salaries.\n",
    "call method netSalary for each one of them"
   ]
  },
  {
   "cell_type": "markdown",
   "metadata": {},
   "source": []
  },
  {
   "cell_type": "code",
   "execution_count": 32,
   "metadata": {},
   "outputs": [
    {
     "name": "stdout",
     "output_type": "stream",
     "text": [
      "850.0\n",
      "8500.0\n"
     ]
    }
   ],
   "source": [
    "class Employee:\n",
    "    def __init__(self, n, s):\n",
    "        self.__name = n\n",
    "        self.__salary = s\n",
    "\n",
    "    @property\n",
    "    def _name(self):\n",
    "        return self.__name\n",
    "\n",
    "    @_name.setter\n",
    "    def _name(self, value):\n",
    "        self.__name = value\n",
    "\n",
    "    @property\n",
    "    def _salary(self):\n",
    "        return self.__salary\n",
    "\n",
    "    @_salary.setter\n",
    "    def _salary(self, value):\n",
    "        self.__salary = value\n",
    "\n",
    "    def __str__(self):\n",
    "        return f'Name:{self.__name} Salary:{self.__salary}'\n",
    "    \n",
    "    def netSalary(self):\n",
    "        return self.__salary - (self.__salary * 0.15)\n",
    "    \n",
    "e1 = Employee('Ahmed', 5000)\n",
    "e1._salary = 1000\n",
    "print(e1.netSalary())\n",
    "\n",
    "e2 = Employee('Khaled', 9000)\n",
    "e2._salary = 10000\n",
    "print(e2.netSalary())\n",
    "        "
   ]
  },
  {
   "cell_type": "markdown",
   "metadata": {},
   "source": [
    "### Passing Objects as Arguments\n",
    "- Methods and functions often need to accept objects as arguments\n",
    "- When you pass an object as an argument, you are actually passing a reference to the object\n",
    "    - The receiving method or function has access to the actual object\n",
    "    - Methods of the object can be called within the receiving function or method, and data attributes may be changed using mutator methods\n"
   ]
  },
  {
   "cell_type": "code",
   "execution_count": 2,
   "metadata": {},
   "outputs": [
    {
     "name": "stdout",
     "output_type": "stream",
     "text": [
      "9000\n",
      "Name:Ahmed Salary:5000\n",
      "Name:Khaled Salary:9000\n",
      "Name:Sara Salary:7777\n"
     ]
    }
   ],
   "source": [
    "class Employee:\n",
    "    def __init__(self, n, s):\n",
    "        self.__name = n\n",
    "        self.__salary = s\n",
    "\n",
    "    @property\n",
    "    def _name(self):\n",
    "        return self.__name\n",
    "\n",
    "    @_name.setter\n",
    "    def _name(self, value):\n",
    "        self.__name = value\n",
    "\n",
    "    @property\n",
    "    def _salary(self):\n",
    "        return self.__salary\n",
    "\n",
    "    @_salary.setter\n",
    "    def _salary(self, value):\n",
    "        self.__salary = value\n",
    "\n",
    "    def __str__(self):\n",
    "        return f'Name:{self.__name} Salary:{self.__salary}'\n",
    "    \n",
    "    def netSalary(self):\n",
    "        return self.__salary - (self.__salary * 0.15)\n",
    "\n",
    "def maxSalary(e1, e2):\n",
    "    if e1._salary > e2._salary:\n",
    "        return e1._salary\n",
    "    else:\n",
    "        return e2._salary\n",
    "    \n",
    "e1 = Employee('Ahmed', 5000)\n",
    "e2 = Employee('Khaled', 9000)\n",
    "\n",
    "print(maxSalary(e1, e2)) ## passing objectes to functions\n",
    "\n",
    "# List of objects\n",
    "employeesList = [e1, e2, Employee('Sara', 7777)]\n",
    "for e in employeesList:\n",
    "    print(e)\n",
    "   "
   ]
  },
  {
   "cell_type": "markdown",
   "metadata": {},
   "source": [
    "### Exercise\n",
    "Write function that receives a list of objects of type Employee, and returns the average salary.\n"
   ]
  },
  {
   "cell_type": "code",
   "execution_count": 8,
   "metadata": {},
   "outputs": [
    {
     "name": "stdout",
     "output_type": "stream",
     "text": [
      "8375.0\n"
     ]
    }
   ],
   "source": [
    "class Employee:\n",
    "    def __init__(self, n, s):\n",
    "        self.__name = n\n",
    "        self.__salary = s\n",
    "\n",
    "    @property\n",
    "    def _name(self):\n",
    "        return self.__name\n",
    "\n",
    "    @_name.setter\n",
    "    def _name(self, value):\n",
    "        self.__name = value\n",
    "\n",
    "    @property\n",
    "    def _salary(self):\n",
    "        return self.__salary\n",
    "\n",
    "    @_salary.setter\n",
    "    def _salary(self, value):\n",
    "        self.__salary = value\n",
    "\n",
    "    def __str__(self):\n",
    "        return f'Name:{self.__name} Salary:{self.__salary}'\n",
    "    \n",
    "    def netSalary(self):\n",
    "        return self.__salary - (self.__salary * 0.15)\n",
    "\n",
    "def maxSalary(e1, e2):\n",
    "    if e1._salary > e2._salary:\n",
    "        return e1._salary\n",
    "    else:\n",
    "        return e2._salary\n",
    "    \n",
    "# e1 = Employee('Ahmed', 5000)\n",
    "# e2 = Employee('Khaled', 9000)\n",
    "\n",
    "def getAvg(list):\n",
    "    total=0\n",
    "    for e in list:\n",
    "        total += e._salary\n",
    "    return total/len(list)\n",
    "\n",
    "e1=Employee('Sara',8000)\n",
    "e2 = Employee('Fafa', 12000)\n",
    "emplist=[e1,e2, Employee('khaled',7000),Employee('Naser',6500)]\n",
    "print(getAvg(emplist)) \n"
   ]
  }
 ],
 "metadata": {
  "kernelspec": {
   "display_name": "Python 3",
   "language": "python",
   "name": "python3"
  },
  "language_info": {
   "codemirror_mode": {
    "name": "ipython",
    "version": 3
   },
   "file_extension": ".py",
   "mimetype": "text/x-python",
   "name": "python",
   "nbconvert_exporter": "python",
   "pygments_lexer": "ipython3",
   "version": "3.12.7"
  }
 },
 "nbformat": 4,
 "nbformat_minor": 2
}
