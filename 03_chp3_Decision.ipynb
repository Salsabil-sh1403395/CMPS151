{
 "cells": [
  {
   "cell_type": "markdown",
   "metadata": {},
   "source": [
    "# Chapter (3): Decision Structures and Boolean Logic"
   ]
  },
  {
   "cell_type": "markdown",
   "metadata": {},
   "source": [
    "## Python Comparison Operators (Relational Operators) "
   ]
  },
  {
   "cell_type": "markdown",
   "metadata": {},
   "source": [
    "Operator\tName\t                    Example\t\n",
    "==\t        Equal\t                    x == y\t\n",
    "!=\t        Not equal\t                x != y\t\n",
    ">\t        Greater than\t            x > y\t\n",
    "<\t        Less than\t                x < y\t\n",
    ">=\t        Greater than or equal to\tx >= y\t\n",
    "<=\t        Less than or equal to\t    x <= y"
   ]
  },
  {
   "cell_type": "markdown",
   "metadata": {},
   "source": [
    "## Relational Expressions "
   ]
  },
  {
   "cell_type": "code",
   "execution_count": 1,
   "metadata": {},
   "outputs": [
    {
     "data": {
      "text/plain": [
       "True"
      ]
     },
     "execution_count": 1,
     "metadata": {},
     "output_type": "execute_result"
    }
   ],
   "source": [
    "12 > 5 "
   ]
  },
  {
   "cell_type": "code",
   "execution_count": 2,
   "metadata": {},
   "outputs": [
    {
     "data": {
      "text/plain": [
       "False"
      ]
     },
     "execution_count": 2,
     "metadata": {},
     "output_type": "execute_result"
    }
   ],
   "source": [
    "7 <= 5 "
   ]
  },
  {
   "cell_type": "code",
   "execution_count": 6,
   "metadata": {},
   "outputs": [
    {
     "data": {
      "text/plain": [
       "False"
      ]
     },
     "execution_count": 6,
     "metadata": {},
     "output_type": "execute_result"
    }
   ],
   "source": [
    "x = 10\n",
    "y = 7\n",
    "x == y\n",
    "x != y\n",
    "x == 8\t\t\n",
    "x < y + 1"
   ]
  },
  {
   "cell_type": "markdown",
   "metadata": {},
   "source": [
    "## if Statement"
   ]
  },
  {
   "cell_type": "code",
   "execution_count": 13,
   "metadata": {},
   "outputs": [
    {
     "name": "stdout",
     "output_type": "stream",
     "text": [
      "b is greater than a\n",
      "this my 2nd\n",
      "3rd sta\n",
      "next statement\n"
     ]
    }
   ],
   "source": [
    "a = 33\n",
    "b = 200\n",
    "if b > a:\n",
    "  print(\"b is greater than a\")\n",
    "  print(\"this my 2nd\")\n",
    "  print(\"3rd sta\")\n",
    "print(\"next statement\")"
   ]
  },
  {
   "cell_type": "markdown",
   "metadata": {},
   "source": [
    "## Indentation"
   ]
  },
  {
   "cell_type": "code",
   "execution_count": 12,
   "metadata": {},
   "outputs": [
    {
     "ename": "IndentationError",
     "evalue": "expected an indented block after 'if' statement on line 3 (1443227691.py, line 4)",
     "output_type": "error",
     "traceback": [
      "\u001b[1;36m  Cell \u001b[1;32mIn[12], line 4\u001b[1;36m\u001b[0m\n\u001b[1;33m    print(\"b is greater than a\") # you will get an error\u001b[0m\n\u001b[1;37m    ^\u001b[0m\n\u001b[1;31mIndentationError\u001b[0m\u001b[1;31m:\u001b[0m expected an indented block after 'if' statement on line 3\n"
     ]
    }
   ],
   "source": [
    "a = 33\n",
    "b = 200\n",
    "if b > a:\n",
    "print(\"b is greater than a\") # you will get an error"
   ]
  },
  {
   "cell_type": "markdown",
   "metadata": {},
   "source": [
    "## if/else Statement"
   ]
  },
  {
   "cell_type": "code",
   "execution_count": 16,
   "metadata": {},
   "outputs": [
    {
     "name": "stdout",
     "output_type": "stream",
     "text": [
      "b is greater than a\n"
     ]
    }
   ],
   "source": [
    "a = 200\n",
    "b = 333\n",
    "if b > a:\n",
    "  print(\"b is greater than a\")\n",
    "else:\n",
    "  print(\"b is smaller than a\")"
   ]
  },
  {
   "cell_type": "code",
   "execution_count": 19,
   "metadata": {},
   "outputs": [
    {
     "name": "stdout",
     "output_type": "stream",
     "text": [
      "a greater\n"
     ]
    }
   ],
   "source": [
    "a = 2333\n",
    "b = 330\n",
    "print(\"a greater\") if a > b else print(\"b greater\")"
   ]
  },
  {
   "cell_type": "markdown",
   "metadata": {},
   "source": [
    "### ask user to input number and tell if positive or negative"
   ]
  },
  {
   "cell_type": "code",
   "execution_count": 23,
   "metadata": {},
   "outputs": [
    {
     "name": "stdout",
     "output_type": "stream",
     "text": [
      "positive\n"
     ]
    }
   ],
   "source": [
    "number = float(input('Entera number '))\n",
    "if number > 0:\n",
    "    print('positive')\n",
    "else:\n",
    "    print('negative')"
   ]
  },
  {
   "cell_type": "markdown",
   "metadata": {},
   "source": [
    "## Write a program to read two integer numbers and display the maximum one.\n"
   ]
  },
  {
   "cell_type": "code",
   "execution_count": 25,
   "metadata": {},
   "outputs": [
    {
     "name": "stdout",
     "output_type": "stream",
     "text": [
      "The maximum number is: 100\n"
     ]
    }
   ],
   "source": [
    "# Read two integers from user input\n",
    "number1 = int(input(\"Enter the first integer: \"))\n",
    "number2 = int(input(\"Enter the second integer: \"))\n",
    "\n",
    "# Compare the numbers and display the maximum one\n",
    "if number1 > number2:\n",
    "    print(\"The maximum number is:\", number1)\n",
    "else:\n",
    "    print(\"The maximum number is:\", number2)"
   ]
  },
  {
   "cell_type": "markdown",
   "metadata": {},
   "source": [
    "## Write a program to read a number and display if it is odd or even\n"
   ]
  },
  {
   "cell_type": "code",
   "execution_count": 29,
   "metadata": {},
   "outputs": [
    {
     "name": "stdout",
     "output_type": "stream",
     "text": [
      "The number 3334557 is odd.\n"
     ]
    }
   ],
   "source": [
    "# Read an integer from the user\n",
    "number = int(input(\"Enter a number: \"))\n",
    "\n",
    "# Check if the number is even or odd and display the result\n",
    "if number % 2 == 0:\n",
    "    print(f\"The number {number} is even.\")\n",
    "else:\n",
    "    print(f\"The number {number} is odd.\")"
   ]
  },
  {
   "cell_type": "markdown",
   "metadata": {},
   "source": [
    "### Write a program to read a salary of employee and deduct 10% tax if the salary is less than 10,000, and 15% if the salary is 10,000 or more. Your program should display the net salary. \n"
   ]
  },
  {
   "cell_type": "code",
   "execution_count": 32,
   "metadata": {},
   "outputs": [
    {
     "name": "stdout",
     "output_type": "stream",
     "text": [
      "The net salary after tax deduction is: 8500.0\n"
     ]
    }
   ],
   "source": [
    "# Read the salary from the user\n",
    "salary = float(input(\"Enter the employee's salary: \"))\n",
    "\n",
    "# Calculate net salary based on given conditions\n",
    "if salary < 10000:\n",
    "    tax = 0.10 * salary # 10%\n",
    "else:\n",
    "    tax = 0.15 * salary \n",
    "\n",
    "net_salary = salary - tax\n",
    "\n",
    "# Display the net salary\n",
    "print(\"The net salary after tax deduction is:\", net_salary)"
   ]
  },
  {
   "cell_type": "markdown",
   "metadata": {},
   "source": [
    "## Nested If"
   ]
  },
  {
   "cell_type": "markdown",
   "metadata": {},
   "source": [
    "### If/else works when we have only two choices, but there are many cases when we have more than two choices. For example, we want to read a number from user and decide if it is zero, positive, or negative. \n"
   ]
  },
  {
   "cell_type": "code",
   "execution_count": 35,
   "metadata": {},
   "outputs": [
    {
     "name": "stdout",
     "output_type": "stream",
     "text": [
      "The number -200.0 is negative\n"
     ]
    }
   ],
   "source": [
    "number = float(input(\"Enter a number: \"))\n",
    "if number == 0:\n",
    "    print(f\"The number {number} is zero.\")\n",
    "else:\n",
    "    if number > 0:\n",
    "        print(f\"The number {number} is positive\")\n",
    "    else:\n",
    "        print(f\"The number {number} is negative\")\n"
   ]
  },
  {
   "cell_type": "markdown",
   "metadata": {},
   "source": [
    "### Write a program to read a score, and print the corresponding letter grade according to the following \n"
   ]
  },
  {
   "cell_type": "code",
   "execution_count": 4,
   "metadata": {},
   "outputs": [
    {
     "name": "stdout",
     "output_type": "stream",
     "text": [
      "Your grade is B.\n"
     ]
    }
   ],
   "source": [
    "score = int(input('Enter your test score: '))\n",
    "\n",
    "# Determine the grade.\n",
    "if score >= 90:\n",
    "    print('Your grade is A.')\n",
    "else:\n",
    "    if score >= 80:\n",
    "        print('Your grade is B.')\n",
    "    else:\n",
    "        if score >=70:\n",
    "            print('Your grade is C.')\n",
    "        else:\n",
    "            if score >= 60:\n",
    "                print('Your grade is D.')\n",
    "            else:\n",
    "                print('Your grade is F.')\n"
   ]
  },
  {
   "cell_type": "markdown",
   "metadata": {},
   "source": [
    "## The if/elif Statement"
   ]
  },
  {
   "cell_type": "code",
   "execution_count": 42,
   "metadata": {},
   "outputs": [
    {
     "name": "stdout",
     "output_type": "stream",
     "text": [
      "a and b are equal\n"
     ]
    }
   ],
   "source": [
    "a = 33\n",
    "b = 33\n",
    "if b > a:\n",
    "  print(\"b is greater than a\")\n",
    "elif a == b:\n",
    "  print(\"a and b are equal\")"
   ]
  },
  {
   "cell_type": "code",
   "execution_count": 7,
   "metadata": {},
   "outputs": [
    {
     "name": "stdout",
     "output_type": "stream",
     "text": [
      "Your grade is F.\n"
     ]
    }
   ],
   "source": [
    "score = int(input('Enter your test score: '))\n",
    "if score >= 90:\n",
    "\tprint('Your grade is A.')\n",
    "elif score >= 80:\n",
    "\tprint('Your grade is B.')\n",
    "elif score >= 70:\n",
    "\tprint('Your grade is C.')\n",
    "elif score >= 60:\n",
    "\tprint('Your grade is D.')\n",
    "else:\n",
    "\tprint('Your grade is F.')"
   ]
  },
  {
   "cell_type": "markdown",
   "metadata": {},
   "source": [
    "## Logical Operators\n",
    "- Logical operators are used to combine conditional statements\n",
    "\n",
    "and \tReturns True if both statements are true\t    x < 5 and  x < 10\t\n",
    "or\t    Returns True if one of the statements is true\tx < 5 or x < 4\t\n",
    "not\t    Reverse the result, returns False if the result is true\tnot(x < 5 and x < 10)"
   ]
  },
  {
   "cell_type": "code",
   "execution_count": 9,
   "metadata": {},
   "outputs": [],
   "source": [
    "x = 12\n",
    "y = 5\n",
    "z = -4"
   ]
  },
  {
   "cell_type": "code",
   "execution_count": 10,
   "metadata": {},
   "outputs": [
    {
     "data": {
      "text/plain": [
       "True"
      ]
     },
     "execution_count": 10,
     "metadata": {},
     "output_type": "execute_result"
    }
   ],
   "source": [
    "(x > y) and (y > z)\n"
   ]
  },
  {
   "cell_type": "code",
   "execution_count": 12,
   "metadata": {},
   "outputs": [
    {
     "data": {
      "text/plain": [
       "False"
      ]
     },
     "execution_count": 12,
     "metadata": {},
     "output_type": "execute_result"
    }
   ],
   "source": [
    "(x > y) and (z > y)\n"
   ]
  },
  {
   "cell_type": "code",
   "execution_count": 13,
   "metadata": {},
   "outputs": [
    {
     "data": {
      "text/plain": [
       "False"
      ]
     },
     "execution_count": 13,
     "metadata": {},
     "output_type": "execute_result"
    }
   ],
   "source": [
    "(x <= z) or (y == z)\n"
   ]
  },
  {
   "cell_type": "code",
   "execution_count": 14,
   "metadata": {},
   "outputs": [
    {
     "data": {
      "text/plain": [
       "True"
      ]
     },
     "execution_count": 14,
     "metadata": {},
     "output_type": "execute_result"
    }
   ],
   "source": [
    "(x <= z) or (y != z)\n"
   ]
  },
  {
   "cell_type": "code",
   "execution_count": 15,
   "metadata": {},
   "outputs": [
    {
     "data": {
      "text/plain": [
       "False"
      ]
     },
     "execution_count": 15,
     "metadata": {},
     "output_type": "execute_result"
    }
   ],
   "source": [
    "not(x >= z)\n"
   ]
  },
  {
   "cell_type": "markdown",
   "metadata": {},
   "source": [
    "### Logical Precedence\n",
    "1. not\n",
    "2. and\n",
    "3. or"
   ]
  },
  {
   "cell_type": "code",
   "execution_count": 16,
   "metadata": {},
   "outputs": [
    {
     "data": {
      "text/plain": [
       "True"
      ]
     },
     "execution_count": 16,
     "metadata": {},
     "output_type": "execute_result"
    }
   ],
   "source": [
    "(2 < 3) or (5 > 6) and (7 > 8)"
   ]
  },
  {
   "cell_type": "markdown",
   "metadata": {},
   "source": [
    "## Checking Numeric Ranges"
   ]
  },
  {
   "cell_type": "code",
   "execution_count": 23,
   "metadata": {},
   "outputs": [
    {
     "name": "stdout",
     "output_type": "stream",
     "text": [
      "Invalid grade\n"
     ]
    }
   ],
   "source": [
    "# Used to test if a value is within a range like student grade\n",
    "grade = int(input(\"enter grade: \"))\n",
    "if grade >= 0 and grade <= 100:\n",
    "    print(\"Valid grade\")\n",
    "if grade < 0 or grade > 100:\n",
    "    print(\"Invalid grade\")\n"
   ]
  },
  {
   "cell_type": "code",
   "execution_count": null,
   "metadata": {},
   "outputs": [],
   "source": [
    "\n",
    "# Can also test if a value lies outside a range\n",
    "if grade < 0 or grade > 100:\n",
    "    print(\"Invalid grade\")\n"
   ]
  },
  {
   "cell_type": "markdown",
   "metadata": {},
   "source": [
    "### Cannot use mathematical notation\n",
    "    if 0<=grade<=100:  # works! common mistake\n",
    "     # it is equivalent to:\n",
    "\n",
    "     if 0<=grade and grade<=100:"
   ]
  },
  {
   "cell_type": "code",
   "execution_count": 11,
   "metadata": {},
   "outputs": [
    {
     "name": "stdout",
     "output_type": "stream",
     "text": [
      "22\n"
     ]
    }
   ],
   "source": [
    "grade = 22\n",
    "if 0<= grade<= 100:\n",
    "    print (grade)"
   ]
  },
  {
   "cell_type": "markdown",
   "metadata": {},
   "source": [
    "## Validating User Input\n",
    "- Input validation: inspecting input data to determine if it is acceptable\n",
    "- Want to avoid accepting bad input\n",
    "- Can perform various tests. Examples:\n",
    "    - Range \n",
    "    - Valid menu choice\n",
    "    - Zero as a divisor\n"
   ]
  },
  {
   "cell_type": "markdown",
   "metadata": {},
   "source": [
    "### Write a program to read three integer numbers and print the maximum"
   ]
  },
  {
   "cell_type": "code",
   "execution_count": 4,
   "metadata": {},
   "outputs": [
    {
     "name": "stdout",
     "output_type": "stream",
     "text": [
      "the max is : 44\n"
     ]
    }
   ],
   "source": [
    "n1 = int(input(\"Enter number 1:\"))\n",
    "n2 = int(input(\"Enter number 2:\"))\n",
    "n3 = int(input(\"Enter number 3:\"))\n",
    "if n1>n2 and n1>n3:\n",
    "    max = n1\n",
    "elif n2>n1 and n2>n3:\n",
    "    max = n2\n",
    "else:\n",
    "    max = n3\n",
    "# display the max \n",
    "print(f\"the max is : {max}\")"
   ]
  },
  {
   "cell_type": "markdown",
   "metadata": {},
   "source": [
    "### A software company sells a package that retails for $99. \n",
    "Quantity discounts are given according to the following table:\n",
    "\n",
    "- Quantity      Discount\n",
    "- 10-19           10%\n",
    "- 20-49           20%\n",
    "- 50-99           30%\n",
    "- 100 or more     40%\n",
    "\n",
    "Write a program that asks the user to enter the number of packages purchased. The program should then display the amount of the discount (if any) and the total amount of the purchase after the discount.\n"
   ]
  },
  {
   "cell_type": "code",
   "execution_count": 8,
   "metadata": {},
   "outputs": [
    {
     "name": "stdout",
     "output_type": "stream",
     "text": [
      "Discount Amount:  99.0\n",
      "Total after discount:  891.0\n"
     ]
    }
   ],
   "source": [
    "# get the number of packages\n",
    "\n",
    "package_price = 99\n",
    "\n",
    "number_of_packages = int(input(\"Enter the number of packages:\"))\n",
    "\n",
    "if number_of_packages < 10:\n",
    "    discount = 0\n",
    "elif 10 <= number_of_packages <20:\n",
    "    discount = 0.1\n",
    "elif 20 <=number_of_packages <50: \n",
    "    discount = 0.2\n",
    "elif 50 <=number_of_packages <100: \n",
    "    discount = 0.3\n",
    "else:\n",
    "    discount = 0.4\n",
    "\n",
    "#calculate the total amout before dicount\n",
    "total_before_discount = number_of_packages * package_price\n",
    "\n",
    "# calculate the discount\n",
    "discount_amount = total_before_discount * discount\n",
    "\n",
    "#calcuate total amout after discount\n",
    "total_after_discount = total_before_discount - discount_amount\n",
    "\n",
    "print(\"Discount Amount: \", discount_amount)\n",
    "print(\"Total after discount: \", total_after_discount)\n"
   ]
  }
 ],
 "metadata": {
  "kernelspec": {
   "display_name": "Python 3",
   "language": "python",
   "name": "python3"
  },
  "language_info": {
   "codemirror_mode": {
    "name": "ipython",
    "version": 3
   },
   "file_extension": ".py",
   "mimetype": "text/x-python",
   "name": "python",
   "nbconvert_exporter": "python",
   "pygments_lexer": "ipython3",
   "version": "3.12.6"
  }
 },
 "nbformat": 4,
 "nbformat_minor": 2
}
