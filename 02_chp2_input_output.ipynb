{
 "cells": [
  {
   "cell_type": "markdown",
   "id": "62ce1d82",
   "metadata": {},
   "source": [
    "# Chapter (2): Input, Processing, Output"
   ]
  },
  {
   "cell_type": "markdown",
   "id": "33572417",
   "metadata": {},
   "source": [
    "## Displaying output with print Function"
   ]
  },
  {
   "cell_type": "code",
   "execution_count": null,
   "id": "ab0b33ee",
   "metadata": {},
   "outputs": [],
   "source": [
    "import subprocess\n",
    "import sys\n",
    "import math\n",
    "print('Hello World!') #single quotes"
   ]
  },
  {
   "cell_type": "code",
   "execution_count": null,
   "id": "bf322fc6",
   "metadata": {},
   "outputs": [],
   "source": [
    "print(\"Hello World!\") #double quotes"
   ]
  },
  {
   "cell_type": "markdown",
   "id": "4cb4e475",
   "metadata": {},
   "source": [
    "### Strings and String Literals"
   ]
  },
  {
   "cell_type": "code",
   "execution_count": null,
   "id": "0ddbc040",
   "metadata": {},
   "outputs": [],
   "source": [
    "print(\"Don't fear!\")\n",
    "print(\"I'm here!\")"
   ]
  },
  {
   "cell_type": "code",
   "execution_count": null,
   "id": "745d1ee3",
   "metadata": {},
   "outputs": [],
   "source": [
    "print(' I'm giving Your assignment is to read \"Hamlet\" by tomorrow.')"
   ]
  },
  {
   "cell_type": "markdown",
   "id": "05a2a2f8",
   "metadata": {},
   "source": [
    "### Python also allows you to enclose string literals in triple quotes (either \"\"\" or '''). Triplequoted strings can contain both single quotes and double quotes as part of the string"
   ]
  },
  {
   "cell_type": "code",
   "execution_count": null,
   "id": "77db449f",
   "metadata": {},
   "outputs": [],
   "source": [
    "print(\"\"\"I'm reading \"Hamlet\" tonight.\"\"\")"
   ]
  },
  {
   "cell_type": "markdown",
   "id": "f83be1b2",
   "metadata": {},
   "source": [
    "## Comments"
   ]
  },
  {
   "cell_type": "markdown",
   "id": "ae870bb8",
   "metadata": {},
   "source": [
    "- Comments starts with a #, and Python will ignore them:"
   ]
  },
  {
   "cell_type": "code",
   "execution_count": null,
   "id": "9d7d46bb",
   "metadata": {},
   "outputs": [],
   "source": [
    "# This is a comment\n",
    "# This is my first program in Python\n",
    "print(\"Hello, World!\") # This prints Hello, World! to the screen"
   ]
  },
  {
   "cell_type": "code",
   "execution_count": null,
   "id": "f8338f5b",
   "metadata": {},
   "outputs": [],
   "source": [
    "print(\"Hello, World!\")    # This is a comment\n",
    "name = 'Ahmed'  # this will store the name in the variable name\n",
    "print(name)"
   ]
  },
  {
   "cell_type": "markdown",
   "id": "a88e8ccc",
   "metadata": {},
   "source": [
    "### Multiline Comments"
   ]
  },
  {
   "cell_type": "code",
   "execution_count": null,
   "id": "ce7bfb5d",
   "metadata": {},
   "outputs": [],
   "source": [
    "# this is a comment\n",
    "# another comment\n",
    "# one more comment\n",
    "\"\"\"\n",
    "this is a multi-line comment\n",
    "    that spans multiple lines\n",
    "    and is often used for documentation\n",
    "        \"\"\"\n",
    "print(\"Hello, World!\")"
   ]
  },
  {
   "cell_type": "code",
   "execution_count": null,
   "id": "09c13296",
   "metadata": {},
   "outputs": [],
   "source": [
    "\"\"\"\n",
    "This is a comment\n",
    "written in\n",
    "more than just one line\n",
    "\"\"\"\n",
    "\"\"\" This is a comment\n",
    "written in\n",
    "more than just one line\n",
    "This is a comment\n",
    "written in\n",
    "more than just one line\n",
    "This is a comment\n",
    "written in\n",
    "more than just one line\n",
    "This is a comment\n",
    "written in\n",
    "more than just one line \"\"\"\n",
    "\n",
    "print(\"Hello, World!\")"
   ]
  },
  {
   "cell_type": "markdown",
   "id": "cb2b0611",
   "metadata": {},
   "source": [
    "## Variables\n",
    "- Variable: name that represents a value stored in the computer memory"
   ]
  },
  {
   "cell_type": "code",
   "execution_count": null,
   "id": "7d14567b",
   "metadata": {},
   "outputs": [],
   "source": [
    "# This program demonstrates a variable.\n",
    "price = 5  # number is intger\n",
    "floatVlaue = 1.55555    # float value\n",
    "name = \"Ahmed\"    # string\n",
    "# print(price)\n",
    "# price = 777\n",
    "print(price)\n",
    "print(floatVlaue)\n",
    "print(name)"
   ]
  },
  {
   "cell_type": "markdown",
   "id": "772049f6",
   "metadata": {},
   "source": [
    "### Variable Reassignment\n",
    "- Variables do not need to be declared with any particular type, and can even change type after they have been set "
   ]
  },
  {
   "cell_type": "code",
   "execution_count": null,
   "id": "2a4ad485",
   "metadata": {},
   "outputs": [],
   "source": [
    "x = 4       # x is of type int\n",
    "# print(x)\n",
    "x = \"Salem\"   # x is now of type str\n",
    "# print(x)\n",
    "x = 999.999\n",
    "print(x)"
   ]
  },
  {
   "cell_type": "markdown",
   "id": "027df5a0",
   "metadata": {},
   "source": [
    "### Variable Naming Rules\n",
    "- A variable name must start with a letter or the underscore character\n",
    "- A variable name cannot start with a number\n",
    "- A variable name can only contain alpha-numeric characters and underscores (A-z, 0-9, and _ )\n",
    "- Variable names are case-sensitive (age, Age and AGE are three different variables)\n",
    "- A variable name cannot be any of the Python keywords."
   ]
  },
  {
   "cell_type": "code",
   "execution_count": null,
   "id": "c0ef758d",
   "metadata": {},
   "outputs": [],
   "source": [
    "myvar = \"John\"\n",
    "Myvar = \"Osama\"\n",
    "my_var = \"sos\"\n",
    "_my_var = \"momo\"\n",
    "myVar = \"fof\"\n",
    "MYVAR = \"did\"\n",
    "print(myvar)\n",
    "print(Myvar)\n",
    "print(my_var)\n",
    "print(_my_var)\n",
    "print(myVar)\n",
    "print(MYVAR)\n"
   ]
  },
  {
   "cell_type": "code",
   "execution_count": null,
   "id": "b1391dac",
   "metadata": {},
   "outputs": [],
   "source": [
    "# 2myvar = \"John\"\n",
    "# my-var = \"John\"\n",
    "name = 'Ahmed'\n",
    "print(\"His name is \", name)\n",
    "my,  var = \"Salem\",  'Sara'\n",
    "# my = \"Salem\"\n",
    "# var = 'Sara'\n",
    "print(my, var)"
   ]
  },
  {
   "cell_type": "markdown",
   "id": "bf655201",
   "metadata": {},
   "source": [
    "## Basic Data Types"
   ]
  },
  {
   "cell_type": "markdown",
   "id": "8ebc5acd",
   "metadata": {},
   "source": [
    "### Defining a Variable"
   ]
  },
  {
   "cell_type": "code",
   "execution_count": null,
   "id": "0bc8c9f3",
   "metadata": {},
   "outputs": [],
   "source": [
    "x = 5\n",
    "# print(x)"
   ]
  },
  {
   "cell_type": "code",
   "execution_count": null,
   "id": "4692e145",
   "metadata": {},
   "outputs": [],
   "source": [
    "x = x + 10\n",
    "x"
   ]
  },
  {
   "cell_type": "code",
   "execution_count": null,
   "id": "3508eacf",
   "metadata": {},
   "outputs": [],
   "source": [
    "1x"
   ]
  },
  {
   "cell_type": "code",
   "execution_count": null,
   "id": "9b2103fa",
   "metadata": {},
   "outputs": [],
   "source": [
    "name = 'Ryan'\n",
    "print(name)"
   ]
  },
  {
   "cell_type": "code",
   "execution_count": null,
   "id": "cdc146dd",
   "metadata": {},
   "outputs": [],
   "source": [
    "type(name)\n"
   ]
  },
  {
   "cell_type": "code",
   "execution_count": null,
   "id": "2e6ef304",
   "metadata": {},
   "outputs": [],
   "source": [
    "type(x)"
   ]
  },
  {
   "cell_type": "code",
   "execution_count": null,
   "id": "243ccf14",
   "metadata": {},
   "outputs": [],
   "source": [
    "floatValue = 999999.999\n",
    "print(floatValue)\n",
    "type(floatValue)"
   ]
  },
  {
   "cell_type": "markdown",
   "id": "bdbde0ab",
   "metadata": {},
   "source": [
    "### Numbers"
   ]
  },
  {
   "cell_type": "code",
   "execution_count": null,
   "id": "68c3c813",
   "metadata": {},
   "outputs": [],
   "source": [
    "type(1.5)"
   ]
  },
  {
   "cell_type": "code",
   "execution_count": null,
   "id": "18643870",
   "metadata": {},
   "outputs": [],
   "source": [
    "1.23456789"
   ]
  },
  {
   "cell_type": "code",
   "execution_count": null,
   "id": "ee12602b",
   "metadata": {},
   "outputs": [],
   "source": [
    "1234567.89"
   ]
  },
  {
   "cell_type": "code",
   "execution_count": null,
   "id": "c8e09baf",
   "metadata": {},
   "outputs": [],
   "source": [
    "type(2j)"
   ]
  },
  {
   "cell_type": "code",
   "execution_count": null,
   "id": "b5add5c2",
   "metadata": {},
   "outputs": [],
   "source": [
    "# Define complex numbers\n",
    "z1 = 3 + 4j\n",
    "z2 = -5 - 2j\n",
    "\n",
    "print(\"z1:\", z1)\n",
    "print(\"z2:\", z2)\n",
    "\n",
    "# Addition\n",
    "z_sum = z1 + z2\n",
    "\n",
    "# Subtraction\n",
    "z_diff = z1 - z2\n",
    "\n",
    "# Multiplication\n",
    "z_prod = z1 * z2\n",
    "\n",
    "# Division\n",
    "z_div = z1 / z2\n",
    "\n",
    "print(\"Sum:\", z_sum)\n",
    "print(\"Difference:\", z_diff)\n",
    "print(\"Product:\", z_prod)\n",
    "print(\"Division:\", z_div)"
   ]
  },
  {
   "cell_type": "markdown",
   "id": "09f5fa45",
   "metadata": {},
   "source": [
    "### Strings"
   ]
  },
  {
   "cell_type": "code",
   "execution_count": null,
   "id": "027f3c0b",
   "metadata": {},
   "outputs": [],
   "source": [
    "'String1  ' + '     String2'"
   ]
  },
  {
   "cell_type": "code",
   "execution_count": null,
   "id": "25344b6c",
   "metadata": {},
   "outputs": [],
   "source": [
    "'1' + '1'"
   ]
  },
  {
   "cell_type": "code",
   "execution_count": null,
   "id": "81887fbe",
   "metadata": {},
   "outputs": [],
   "source": [
    "'1'+1"
   ]
  },
  {
   "cell_type": "markdown",
   "id": "46c1cc0a",
   "metadata": {},
   "source": [
    "### Booleans"
   ]
  },
  {
   "cell_type": "code",
   "execution_count": null,
   "id": "9eaaeb57",
   "metadata": {},
   "outputs": [],
   "source": [
    "True"
   ]
  },
  {
   "cell_type": "code",
   "execution_count": null,
   "id": "1500ff5e",
   "metadata": {},
   "outputs": [],
   "source": [
    "False"
   ]
  },
  {
   "cell_type": "code",
   "execution_count": null,
   "id": "b24f6c1f",
   "metadata": {},
   "outputs": [],
   "source": [
    "myTrue = False\n",
    "print(myTrue)"
   ]
  },
  {
   "cell_type": "code",
   "execution_count": null,
   "id": "cd17d0e9",
   "metadata": {},
   "outputs": [],
   "source": [
    "1 == 1   # this is a logic equality"
   ]
  },
  {
   "cell_type": "code",
   "execution_count": null,
   "id": "67bb851b",
   "metadata": {},
   "outputs": [],
   "source": [
    "1 == 2"
   ]
  },
  {
   "cell_type": "markdown",
   "id": "b2dcb37b",
   "metadata": {},
   "source": [
    "## Reading Input from Keyboard"
   ]
  },
  {
   "cell_type": "code",
   "execution_count": null,
   "id": "2786e0a8",
   "metadata": {},
   "outputs": [],
   "source": [
    "# Get the user's first name.\n",
    "first_name = input('Enter your first name: ')\n",
    "\n",
    "test = input()\n",
    "# Get the user's last name.\n",
    "last_name = input('Enter your last name: ')\n",
    "\n",
    "# Print a greeting to the user.\n",
    "print('Hello', first_name, last_name)"
   ]
  },
  {
   "cell_type": "markdown",
   "id": "6d5c1559",
   "metadata": {},
   "source": [
    "## Reading Numbers with the input Function"
   ]
  },
  {
   "cell_type": "code",
   "execution_count": null,
   "id": "847e2cc9",
   "metadata": {},
   "outputs": [],
   "source": [
    "# Get the user's name, age, and income.\n",
    "age = int(input('What is your age? '))    # convert str to integer (casting)\n",
    "name = input('What is your name? ')\n",
    "income = float(input('What is your income? '))\n",
    "# Display the data.\n",
    "print('Here is the data you entered:')\n",
    "print('Name: ', name)\n",
    "print('Age: ', age)\n",
    "print('Income: ', income)"
   ]
  },
  {
   "cell_type": "markdown",
   "id": "68e8f422",
   "metadata": {},
   "source": [
    "## Casting"
   ]
  },
  {
   "cell_type": "markdown",
   "id": "9c2bfbaa",
   "metadata": {},
   "source": [
    "### int"
   ]
  },
  {
   "cell_type": "code",
   "execution_count": null,
   "id": "0fb7d5a6",
   "metadata": {},
   "outputs": [],
   "source": [
    "x = int(1)   # x will be\n",
    "y = int(2.8)   # y will b\n",
    "z = int(\"3444\")   # z will b\n",
    "print(x)\n",
    "print(y)\n",
    "print(z)"
   ]
  },
  {
   "cell_type": "markdown",
   "id": "534db222",
   "metadata": {},
   "source": [
    "### floats"
   ]
  },
  {
   "cell_type": "code",
   "execution_count": null,
   "id": "d7e063db",
   "metadata": {},
   "outputs": [],
   "source": [
    "x = float(1)     # x will be\n",
    "y = float(2.8)   # y will be\n",
    "z = float(\"3\")   # z will be\n",
    "w = float(\"4.2\")   # w will b\n",
    "num = 3.2 + w\n",
    "\n",
    "print(x)\n",
    "print(y)\n",
    "print(z)\n",
    "print(w)\n",
    "print(num)"
   ]
  },
  {
   "cell_type": "markdown",
   "id": "b96e4898",
   "metadata": {},
   "source": [
    "### strings"
   ]
  },
  {
   "cell_type": "code",
   "execution_count": null,
   "id": "6dcaf3aa",
   "metadata": {},
   "outputs": [],
   "source": [
    "x = str(\"s1\") \n",
    "y = str(2)    \n",
    "z = str(3.0)  \n",
    "num = z + 3.1\n",
    "print(x)\n",
    "print(y)\n",
    "print(z)\n",
    "print(num)"
   ]
  },
  {
   "cell_type": "markdown",
   "id": "0b220e54",
   "metadata": {},
   "source": [
    "## Performaing Calculation"
   ]
  },
  {
   "cell_type": "markdown",
   "id": "0a18052b",
   "metadata": {},
   "source": [
    "### Arithmetic Operators "
   ]
  },
  {
   "cell_type": "code",
   "execution_count": null,
   "id": "818a0df3",
   "metadata": {},
   "outputs": [],
   "source": [
    "1 + 3"
   ]
  },
  {
   "cell_type": "code",
   "execution_count": null,
   "id": "a4152535",
   "metadata": {},
   "outputs": [],
   "source": [
    "5 - 1"
   ]
  },
  {
   "cell_type": "code",
   "execution_count": null,
   "id": "d611eef1",
   "metadata": {},
   "outputs": [],
   "source": [
    "4 * 5"
   ]
  },
  {
   "cell_type": "code",
   "execution_count": null,
   "id": "5461c9e2",
   "metadata": {},
   "outputs": [],
   "source": [
    "5 ** 2"
   ]
  },
  {
   "cell_type": "code",
   "execution_count": null,
   "id": "1ce6178c",
   "metadata": {},
   "outputs": [],
   "source": [
    "20 / 6    # division"
   ]
  },
  {
   "cell_type": "code",
   "execution_count": null,
   "id": "6b1c0f31",
   "metadata": {},
   "outputs": [],
   "source": [
    "# Integer division of two integers\n",
    "result = 7 // 3\n",
    "print(result)  "
   ]
  },
  {
   "cell_type": "code",
   "execution_count": null,
   "id": "ce1fc97c",
   "metadata": {},
   "outputs": [],
   "source": [
    "# Integer division with floats\n",
    "result = 7.5 // 2\n",
    "print(result) "
   ]
  },
  {
   "cell_type": "code",
   "execution_count": null,
   "id": "02b854b2",
   "metadata": {},
   "outputs": [],
   "source": [
    "# Integer division with negative numbers\n",
    "result = -7 // 3\n",
    "print(result)  "
   ]
  },
  {
   "cell_type": "code",
   "execution_count": null,
   "id": "4ce7796e",
   "metadata": {},
   "outputs": [],
   "source": [
    "20 % 4   # reminder (mod)"
   ]
  },
  {
   "cell_type": "code",
   "execution_count": null,
   "id": "616d2eb1",
   "metadata": {},
   "outputs": [],
   "source": [
    "rem = 777777877777 % 2\n",
    "if rem == 0:\n",
    "    print(\"number is even\")\n",
    "else:\n",
    "    print(\"number is odd\")"
   ]
  },
  {
   "cell_type": "markdown",
   "id": "01a15801",
   "metadata": {},
   "source": [
    "### Arithmetic Operators with Strings "
   ]
  },
  {
   "cell_type": "code",
   "execution_count": null,
   "id": "fb76af38",
   "metadata": {},
   "outputs": [],
   "source": [
    "'string 1 ' + 'string 2'"
   ]
  },
  {
   "cell_type": "code",
   "execution_count": null,
   "id": "8fdd638e",
   "metadata": {},
   "outputs": [],
   "source": [
    "'string1 ' * 4"
   ]
  },
  {
   "cell_type": "code",
   "execution_count": null,
   "id": "8336b4c4",
   "metadata": {},
   "outputs": [],
   "source": [
    "' 1' * 3"
   ]
  },
  {
   "cell_type": "code",
   "execution_count": null,
   "id": "2139a162",
   "metadata": {},
   "outputs": [],
   "source": [
    "int(1.8888 + 2)"
   ]
  },
  {
   "cell_type": "markdown",
   "id": "696e25e1",
   "metadata": {},
   "source": [
    "### Operator  Precedence and Grouping with Parentheses\n",
    "- Python operator precedence:\n",
    "1. Operations enclosed in parentheses\n",
    "    - Forces operations to be performed before others\n",
    "2. Exponentiation (**)\n",
    "3. Multiplication (*), division (/ and //), and remainder (%)\n",
    "4. Addition (+) and subtraction (-)\n",
    "- Higher precedence performed first\n",
    "Same precedence operators execute from left to right\n"
   ]
  },
  {
   "cell_type": "code",
   "execution_count": null,
   "id": "58f32231",
   "metadata": {},
   "outputs": [],
   "source": [
    "4+8/2-3*2 % 2"
   ]
  },
  {
   "cell_type": "markdown",
   "id": "65c69a8e",
   "metadata": {},
   "source": [
    "### Challenges"
   ]
  },
  {
   "cell_type": "code",
   "execution_count": null,
   "id": "df3f071a",
   "metadata": {},
   "outputs": [],
   "source": [
    "x = 7//4 - 2 * 2 - 2\n",
    "printx)"
   ]
  },
  {
   "cell_type": "code",
   "execution_count": null,
   "id": "60cf69e6",
   "metadata": {},
   "outputs": [],
   "source": [
    "x = 5//3 * 2 * 5 %  \n",
    "printx)"
   ]
  },
  {
   "cell_type": "code",
   "execution_count": null,
   "id": "8cc68a23",
   "metadata": {},
   "outputs": [],
   "source": [
    "n = 4\n",
    "x = intn)**(2 % 5)\n",
    "printx)"
   ]
  },
  {
   "cell_type": "code",
   "execution_count": null,
   "id": "159f0d71",
   "metadata": {},
   "outputs": [],
   "source": [
    "n = 3.5\n",
    "x = (intn)**2) % 5//2\n",
    "printx)"
   ]
  },
  {
   "cell_type": "code",
   "execution_count": null,
   "id": "1c688be5",
   "metadata": {},
   "outputs": [],
   "source": [
    "n = 2.5\n",
    "x = intn)  ** (2 + 1)\n",
    "printx)"
   ]
  },
  {
   "cell_type": "code",
   "execution_count": null,
   "id": "40f2935d",
   "metadata": {},
   "outputs": [],
   "source": [
    "x = input'Enter a number: ')   # The user enters 55\n",
    "k = 3 * x\n",
    "printk)"
   ]
  },
  {
   "cell_type": "code",
   "execution_count": null,
   "id": "ca1376b0",
   "metadata": {},
   "outputs": [],
   "source": [
    "x = 10\n",
    "x = x+5\n",
    "print(x)"
   ]
  },
  {
   "cell_type": "markdown",
   "id": "224f339e",
   "metadata": {},
   "source": [
    "## Breaking Long Statements into Multiple Lines"
   ]
  },
  {
   "cell_type": "code",
   "execution_count": null,
   "id": "304f90c4",
   "metadata": {},
   "outputs": [],
   "source": [
    "value1 = value2 =  value3 = value4  = value5 = value6 = 3\n",
    "total = (value1 + value2 +\n",
    "         value3 + value4 +\n",
    "         value5 + value6\n",
    "print(total)"
   ]
  },
  {
   "cell_type": "markdown",
   "id": "5dcd4078",
   "metadata": {},
   "source": [
    "## Formating print "
   ]
  },
  {
   "cell_type": "code",
   "execution_count": null,
   "id": "96300846",
   "metadata": {},
   "outputs": [],
   "source": [
    "print('One',  end=''\n",
    "print('Two', end='')\n",
    "print('Three')"
   ]
  },
  {
   "cell_type": "code",
   "execution_count": null,
   "id": "bf6a10b8",
   "metadata": {},
   "outputs": [],
   "source": [
    "print('One', 'Two', 'Three', sep='#@@@@@')"
   ]
  },
  {
   "cell_type": "markdown",
   "id": "4c11db30",
   "metadata": {},
   "source": [
    "## Displaying Formatted Output with F-strings \n",
    "\n",
    "- Introduced in Python 3.6\n",
    "- Use `f` or `F` prefix before a string\n",
    "- Embed Python expressions inside `{}`\n",
    "- Easier and faster than older methods like `str.format()` or `%` formatting\n",
    "- An f-string is a special type of string literal that is prefixed with the letter f\n"
   ]
  },
  {
   "cell_type": "code",
   "execution_count": null,
   "id": "1a8fb3f4",
   "metadata": {},
   "outputs": [],
   "source": [
    "# old style format\n",
    "print('The number is', format(12345.6789, '.2f'))"
   ]
  },
  {
   "cell_type": "code",
   "execution_count": null,
   "id": "b4796c3e",
   "metadata": {},
   "outputs": [],
   "source": [
    "# old style format\n",
    "print(format(12346789.6789, ',.2f'))\n",
    "print(format(100000000000, ',.2f'))"
   ]
  },
  {
   "cell_type": "code",
   "execution_count": null,
   "id": "d279ecaf",
   "metadata": {},
   "outputs": [],
   "source": [
    "print(f'Hello world')"
   ]
  },
  {
   "cell_type": "code",
   "execution_count": null,
   "id": "8a69147d",
   "metadata": {},
   "outputs": [],
   "source": [
    "# F-strings support placeholders for variables\n",
    "\n",
    "first_name = 'Ahmed'\n",
    "last_name = 'Hamdi'\n",
    "print(\n",
    "    f'Hello your first name is {firstname} and your last name is {last_name}.')"
   ]
  },
  {
   "cell_type": "code",
   "execution_count": null,
   "id": "7ba1d8d7",
   "metadata": {},
   "outputs": [],
   "source": [
    "# Placeholders can also be expressions that are evaluated\n",
    "\n",
    "print(f'The value is {10 + 2}.')\n",
    "\n",
    "val = 20\n",
    "# sum = val + 2\n",
    "print(f'The value is {val + 6}.')"
   ]
  },
  {
   "cell_type": "code",
   "execution_count": null,
   "id": "e6118c74",
   "metadata": {},
   "outputs": [],
   "source": [
    "# Format specifiers can be used with placeholders\n",
    "num = 123.456789\n",
    "print(f'{num:.2f}')\n",
    "\n",
    "num = 1000000.00\n",
    "print(f'{num:,.2f}')\n",
    "\n",
    "discount = 0.5555\n",
    "print(f'{discount:.0%}')"
   ]
  },
  {
   "cell_type": "code",
   "execution_count": null,
   "id": "9a527c1d",
   "metadata": {},
   "outputs": [],
   "source": [
    "# Specifying a minimum field width:\n",
    "num1 = 12345.123456\n",
    "num2 = 12345.123456\n",
    "print(f'The number is {num1:10,.2f} {num2:10,.2f}')"
   ]
  },
  {
   "cell_type": "markdown",
   "id": "80850b84",
   "metadata": {},
   "source": [
    "## Excersices"
   ]
  },
  {
   "cell_type": "markdown",
   "id": "a65628a6",
   "metadata": {},
   "source": [
    "Write a program that asks the user to enter an integer number composed of three digits. Your program should print the total of the digits."
   ]
  },
  {
   "cell_type": "code",
   "execution_count": null,
   "id": "d5854f65",
   "metadata": {},
   "outputs": [],
   "source": [
    "#rite a program that asks the user to enter an integer number\n",
    "composed of three digits. Your program should print the total of the digits.\n",
    "\n",
    "# Prompt the user to enter a three-digit integer number\n",
    "number = int(input(\"Enter a three-digit integer: \"))\n",
    "\n",
    "# Extract the digits\n",
    "hundreds = number // 100\n",
    "remaining = number % 100\n",
    "tens = remaining // 10\n",
    "units = remaining % 10\n",
    "\n",
    "# Calculate the total of the digits\n",
    "total = hundreds + tens + units\n",
    "\n",
    "# Display the result\n",
    "print(f\"The total of the digits is: {total}\")"
   ]
  },
  {
   "cell_type": "markdown",
   "id": "86da84aa",
   "metadata": {},
   "source": [
    "Write a complete program that calculates and displays the \n",
    "(1) volume and the (2) total area of a Cone including the base.  \n",
    "\n",
    "The program should ask the user to enter (1) radius, and (2) height. \n",
    "Define PI value in your program (3.1415). No validation required.\n",
    "\n",
    "SAMPLE RUN: \n",
    "\n",
    "Enter Radius: 3.20\n",
    "\n",
    "Enter Height: 1.99\n",
    "\n",
    "Surface Area = 70.86 \n",
    "\n",
    "Volume = 21.34\n",
    "\n",
    "- All output values should be formatted to two decimal digits only. [See sample run]\n",
    "- Output and input statement must be very similar to the shown sample.\n"
   ]
  },
  {
   "cell_type": "code",
   "execution_count": null,
   "id": "127f4df3",
   "metadata": {},
   "outputs": [],
   "source": [
    "# Surface and volume of cone\n",
    "\n",
    "# Define the value of PI\n",
    "PI = 3.1415\n",
    "\n",
    "# Prompt the user for radius and height\n",
    "radius = float(input(\"Enter the radius of the cone: \"))\n",
    "height = float(input(\"Enter the height of the cone: \"))\n",
    "\n",
    "# Calculate the slant height of the cone\n",
    "slant_height = math.sqrt(radius**2 + height**2)\n",
    "\n",
    "# Calculate the volume of the cone\n",
    "volume = (1/3) * PI * radius**2 * height\n",
    "\n",
    "# Calculate the total surface area of the cone\n",
    "lateral_surface_area = PI * radius * slant_height\n",
    "base_area = PI * radius**2\n",
    "total_surface_area = lateral_surface_area + base_area\n",
    "\n",
    "# Display the results\n",
    "print(f\"Volume of the cone: {volume:.2f}\")\n",
    "print(f\"Total surface area of the cone: {total_surface_area:.2f}\")"
   ]
  },
  {
   "cell_type": "markdown",
   "id": "0804fb5e",
   "metadata": {},
   "source": [
    ">A computer store is offering discounts on laptops and tablets. The store has announced a 10% discount on laptops and a 25% discount on tablets. The original price of a laptop is QR 5000, and for a tablet, it’s QR 1500. Write a Python program to read the number of laptops and tablets bought by the customer, then print the total discount amount for each item and the total price for all items."
   ]
  },
  {
   "cell_type": "code",
   "execution_count": null,
   "id": "2d083124",
   "metadata": {},
   "outputs": [],
   "source": [
    "#  computer store discount\n",
    "tablet_discount = 0.25\n",
    "laptop_discount = 0.10\n",
    "\n",
    "tablet_price = 1500\n",
    "laptop_price = 5000\n",
    "\n",
    "num_laptops = int(input('Enter the number of laptops: '))\n",
    "num_tablets = int(input('Enter the number of tablets: '))\n",
    "\n",
    "laptops_total_discount = num_laptops * laptop_price * laptop_discount\n",
    "tablet_total_discount = num_tablets * tablet_price * tablet_discount\n",
    "\n",
    "laptop_total_price = (laptop_price*num_laptops) - laptops_total_discount\n",
    "tablet_total_price = (tablet_price*num_tablets) - tablet_total_discount\n",
    "\n",
    "total_price = laptop_total_price + tablet_total_price\n",
    "\n",
    "print(f'laptop total discount: {laptops_total_discount}')\n",
    "print(f'tablet total discount: {tablet_total_discount}')\n",
    "print(f'total price {total_price}')"
   ]
  },
  {
   "cell_type": "code",
   "execution_count": null,
   "id": "dd88ecc7",
   "metadata": {},
   "outputs": [],
   "source": []
  }
 ],
 "metadata": {
  "kernelspec": {
   "display_name": "Python 3",
   "language": "python",
   "name": "python3"
  },
  "language_info": {
   "codemirror_mode": {
    "name": "ipython",
    "version": 3
   },
   "file_extension": ".py",
   "mimetype": "text/x-python",
   "name": "python",
   "nbconvert_exporter": "python",
   "pygments_lexer": "ipython3",
   "version": "3.12.10"
  }
 },
 "nbformat": 4,
 "nbformat_minor": 5
}
