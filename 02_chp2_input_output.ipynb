{
 "cells": [
  {
   "cell_type": "markdown",
   "id": "62ce1d82",
   "metadata": {},
   "source": [
    "# Chapter (2): Input, Processing, Output"
   ]
  },
  {
   "cell_type": "markdown",
   "id": "33572417",
   "metadata": {},
   "source": [
    "## Displaying output with print Function"
   ]
  },
  {
   "cell_type": "code",
   "execution_count": 25,
   "id": "ab0b33ee",
   "metadata": {},
   "outputs": [
    {
     "name": "stdout",
     "output_type": "stream",
     "text": [
      "Hello World!\n"
     ]
    }
   ],
   "source": [
    "print('Hello World!')"
   ]
  },
  {
   "cell_type": "code",
   "execution_count": 26,
   "id": "bf322fc6",
   "metadata": {},
   "outputs": [
    {
     "name": "stdout",
     "output_type": "stream",
     "text": [
      "Hello World!\n"
     ]
    }
   ],
   "source": [
    "print(\"Hello World!\")"
   ]
  },
  {
   "cell_type": "markdown",
   "id": "4cb4e475",
   "metadata": {},
   "source": [
    "### Strings and String Literals"
   ]
  },
  {
   "cell_type": "code",
   "execution_count": 27,
   "id": "0ddbc040",
   "metadata": {},
   "outputs": [
    {
     "name": "stdout",
     "output_type": "stream",
     "text": [
      "Don't fear!\n",
      "I'm here!\n"
     ]
    }
   ],
   "source": [
    "print(\"Don't fear!\")\n",
    "print(\"I'm here!\")\n"
   ]
  },
  {
   "cell_type": "code",
   "execution_count": 28,
   "id": "745d1ee3",
   "metadata": {},
   "outputs": [
    {
     "name": "stdout",
     "output_type": "stream",
     "text": [
      "Your assignment is to read \"Hamlet\" by tomorrow.\n"
     ]
    }
   ],
   "source": [
    "print('Your assignment is to read \"Hamlet\" by tomorrow.')"
   ]
  },
  {
   "cell_type": "markdown",
   "id": "05a2a2f8",
   "metadata": {},
   "source": [
    "### Python also allows you to enclose string literals in triple quotes (either \"\"\" or '''). Triplequoted strings can contain both single quotes and double quotes as part of the string"
   ]
  },
  {
   "cell_type": "code",
   "execution_count": 29,
   "id": "77db449f",
   "metadata": {},
   "outputs": [
    {
     "name": "stdout",
     "output_type": "stream",
     "text": [
      "I'm reading \"Hamlet\" tonight.\n"
     ]
    }
   ],
   "source": [
    "print(\"\"\"I'm reading \"Hamlet\" tonight.\"\"\")"
   ]
  },
  {
   "cell_type": "code",
   "execution_count": 1,
   "id": "018bc7d5",
   "metadata": {},
   "outputs": [
    {
     "data": {
      "text/plain": [
       "'\\nasdjlfkajsfjaslf\\nassdfjasjflasd\\nasdjfasjdf\\n'"
      ]
     },
     "execution_count": 1,
     "metadata": {},
     "output_type": "execute_result"
    }
   ],
   "source": [
    "\"\"\"\n",
    "asdjlfkajsfjaslf\n",
    "assdfjasjflasd\n",
    "asdjfasjdf\n",
    "\"\"\""
   ]
  },
  {
   "cell_type": "markdown",
   "id": "f83be1b2",
   "metadata": {},
   "source": [
    "## Comments"
   ]
  },
  {
   "cell_type": "markdown",
   "id": "ae870bb8",
   "metadata": {},
   "source": [
    "- Comments starts with a #, and Python will ignore them:"
   ]
  },
  {
   "cell_type": "code",
   "execution_count": 2,
   "id": "9d7d46bb",
   "metadata": {},
   "outputs": [
    {
     "name": "stdout",
     "output_type": "stream",
     "text": [
      "Hello, World!\n"
     ]
    }
   ],
   "source": [
    "#This is a comment\n",
    "print(\"Hello, World!\")"
   ]
  },
  {
   "cell_type": "code",
   "execution_count": 3,
   "id": "f8338f5b",
   "metadata": {},
   "outputs": [
    {
     "name": "stdout",
     "output_type": "stream",
     "text": [
      "Hello, World!\n"
     ]
    }
   ],
   "source": [
    "print(\"Hello, World!\") #This is a comment"
   ]
  },
  {
   "cell_type": "code",
   "execution_count": 4,
   "id": "b2bce8a3",
   "metadata": {},
   "outputs": [
    {
     "name": "stdout",
     "output_type": "stream",
     "text": [
      "Cheers, Mate!\n"
     ]
    }
   ],
   "source": [
    "#print(\"Hello, World!\")\n",
    "print(\"Cheers, Mate!\")"
   ]
  },
  {
   "cell_type": "markdown",
   "id": "a88e8ccc",
   "metadata": {},
   "source": [
    "### Multiline Comments"
   ]
  },
  {
   "cell_type": "code",
   "execution_count": 5,
   "id": "ce7bfb5d",
   "metadata": {},
   "outputs": [
    {
     "name": "stdout",
     "output_type": "stream",
     "text": [
      "Hello, World!\n"
     ]
    }
   ],
   "source": [
    "#This is a comment\n",
    "#written in\n",
    "#more than just one line\n",
    "print(\"Hello, World!\")"
   ]
  },
  {
   "cell_type": "code",
   "execution_count": 7,
   "id": "09c13296",
   "metadata": {},
   "outputs": [
    {
     "name": "stdout",
     "output_type": "stream",
     "text": [
      "Hello, World!\n"
     ]
    }
   ],
   "source": [
    "\"\"\"\n",
    "This is a comment\n",
    "written in\n",
    "more than just one line\n",
    "\"\"\"\n",
    "print(\"Hello, World!\")"
   ]
  },
  {
   "cell_type": "markdown",
   "id": "cb2b0611",
   "metadata": {},
   "source": [
    "## Variables\n",
    "- Variable: name that represents a value stored in the computer memory"
   ]
  },
  {
   "cell_type": "code",
   "execution_count": 9,
   "id": "7d14567b",
   "metadata": {},
   "outputs": [
    {
     "name": "stdout",
     "output_type": "stream",
     "text": [
      "5\n",
      "1.55555\n",
      "Ahmed\n"
     ]
    }
   ],
   "source": [
    "# This program demonstrates a variable.\n",
    "x = 5  # number is intger\n",
    "floatVlaue = 1.55555 #float value\n",
    "y = \"Ahmed\"\n",
    "print(x)\n",
    "print(floatVlaue)\n",
    "print(y)"
   ]
  },
  {
   "cell_type": "markdown",
   "id": "772049f6",
   "metadata": {},
   "source": [
    "### Variable Reassignment\n",
    "- Variables do not need to be declared with any particular type, and can even change type after they have been set "
   ]
  },
  {
   "cell_type": "code",
   "execution_count": 13,
   "id": "2a4ad485",
   "metadata": {},
   "outputs": [
    {
     "name": "stdout",
     "output_type": "stream",
     "text": [
      "999.999\n"
     ]
    }
   ],
   "source": [
    "x = 4       # x is of type int\n",
    "x = \"Sara\" # x is now of type str\n",
    "x = 999.999\n",
    "print(x)"
   ]
  },
  {
   "cell_type": "markdown",
   "id": "027df5a0",
   "metadata": {},
   "source": [
    "### Variable Naming Rules\n",
    "- A variable name must start with a letter or the underscore character\n",
    "- A variable name cannot start with a number\n",
    "- A variable name can only contain alpha-numeric characters and underscores (A-z, 0-9, and _ )\n",
    "- Variable names are case-sensitive (age, Age and AGE are three different variables)\n",
    "- A variable name cannot be any of the Python keywords."
   ]
  },
  {
   "cell_type": "code",
   "execution_count": 15,
   "id": "c0ef758d",
   "metadata": {},
   "outputs": [
    {
     "name": "stdout",
     "output_type": "stream",
     "text": [
      "John\n",
      "Osama\n"
     ]
    }
   ],
   "source": [
    "myvar = \"John\"\n",
    "Myvar = \"Osama\"\n",
    "my_var = \"John\"\n",
    "_my_var = \"John\"\n",
    "myVar = \"John\"\n",
    "MYVAR = \"John\"\n",
    "myvar2 = \"John\"\n",
    "print(myvar)\n",
    "print(Myvar)"
   ]
  },
  {
   "cell_type": "code",
   "execution_count": 19,
   "id": "b1391dac",
   "metadata": {},
   "outputs": [
    {
     "ename": "SyntaxError",
     "evalue": "invalid syntax (4006261740.py, line 3)",
     "output_type": "error",
     "traceback": [
      "\u001b[1;36m  Cell \u001b[1;32mIn[19], line 3\u001b[1;36m\u001b[0m\n\u001b[1;33m    my var = \"John\"\u001b[0m\n\u001b[1;37m       ^\u001b[0m\n\u001b[1;31mSyntaxError\u001b[0m\u001b[1;31m:\u001b[0m invalid syntax\n"
     ]
    }
   ],
   "source": [
    "2myvar = \"John\"\n",
    "my-var = \"John\"\n",
    "my var = \"John\""
   ]
  },
  {
   "cell_type": "markdown",
   "id": "bf655201",
   "metadata": {},
   "source": [
    "## Basic Data Types"
   ]
  },
  {
   "cell_type": "markdown",
   "id": "8ebc5acd",
   "metadata": {},
   "source": [
    "### Defining a Variable"
   ]
  },
  {
   "cell_type": "code",
   "execution_count": null,
   "id": "4839a38a",
   "metadata": {},
   "outputs": [],
   "source": []
  },
  {
   "cell_type": "code",
   "execution_count": 9,
   "id": "0bc8c9f3",
   "metadata": {},
   "outputs": [],
   "source": [
    "x = 5"
   ]
  },
  {
   "cell_type": "code",
   "execution_count": 10,
   "id": "27197252",
   "metadata": {},
   "outputs": [
    {
     "name": "stdout",
     "output_type": "stream",
     "text": [
      "5\n"
     ]
    }
   ],
   "source": [
    "print(x)"
   ]
  },
  {
   "cell_type": "code",
   "execution_count": 11,
   "id": "4692e145",
   "metadata": {},
   "outputs": [
    {
     "data": {
      "text/plain": [
       "5"
      ]
     },
     "execution_count": 11,
     "metadata": {},
     "output_type": "execute_result"
    }
   ],
   "source": [
    "x"
   ]
  },
  {
   "cell_type": "code",
   "execution_count": 12,
   "id": "3508eacf",
   "metadata": {},
   "outputs": [
    {
     "ename": "SyntaxError",
     "evalue": "invalid decimal literal (1973045331.py, line 1)",
     "output_type": "error",
     "traceback": [
      "\u001b[1;36m  Cell \u001b[1;32mIn[12], line 1\u001b[1;36m\u001b[0m\n\u001b[1;33m    1x\u001b[0m\n\u001b[1;37m    ^\u001b[0m\n\u001b[1;31mSyntaxError\u001b[0m\u001b[1;31m:\u001b[0m invalid decimal literal\n"
     ]
    }
   ],
   "source": [
    "1x"
   ]
  },
  {
   "cell_type": "code",
   "execution_count": null,
   "id": "9b2103fa",
   "metadata": {},
   "outputs": [],
   "source": [
    "name = 'Ryan'"
   ]
  },
  {
   "cell_type": "code",
   "execution_count": null,
   "id": "cdc146dd",
   "metadata": {},
   "outputs": [
    {
     "data": {
      "text/plain": [
       "str"
      ]
     },
     "execution_count": 26,
     "metadata": {},
     "output_type": "execute_result"
    }
   ],
   "source": [
    "type(name)"
   ]
  },
  {
   "cell_type": "code",
   "execution_count": null,
   "id": "2e6ef304",
   "metadata": {},
   "outputs": [
    {
     "data": {
      "text/plain": [
       "int"
      ]
     },
     "execution_count": 27,
     "metadata": {},
     "output_type": "execute_result"
    }
   ],
   "source": [
    "type(x)"
   ]
  },
  {
   "cell_type": "code",
   "execution_count": null,
   "id": "243ccf14",
   "metadata": {},
   "outputs": [
    {
     "name": "stdout",
     "output_type": "stream",
     "text": [
      "99.999\n"
     ]
    },
    {
     "data": {
      "text/plain": [
       "float"
      ]
     },
     "execution_count": 29,
     "metadata": {},
     "output_type": "execute_result"
    }
   ],
   "source": [
    "floatValue = 99.999\n",
    "print(floatValue)\n",
    "type(floatValue)"
   ]
  },
  {
   "cell_type": "markdown",
   "id": "bdbde0ab",
   "metadata": {},
   "source": [
    "### Numbers"
   ]
  },
  {
   "cell_type": "code",
   "execution_count": null,
   "id": "68c3c813",
   "metadata": {},
   "outputs": [
    {
     "data": {
      "text/plain": [
       "float"
      ]
     },
     "metadata": {},
     "output_type": "display_data"
    }
   ],
   "source": [
    "type(1.5)"
   ]
  },
  {
   "cell_type": "code",
   "execution_count": null,
   "id": "18643870",
   "metadata": {},
   "outputs": [],
   "source": [
    "1.23456789"
   ]
  },
  {
   "cell_type": "code",
   "execution_count": null,
   "id": "ee12602b",
   "metadata": {},
   "outputs": [],
   "source": [
    "12345678.9"
   ]
  },
  {
   "cell_type": "code",
   "execution_count": null,
   "id": "c8e09baf",
   "metadata": {},
   "outputs": [
    {
     "data": {
      "text/plain": [
       "complex"
      ]
     },
     "metadata": {},
     "output_type": "display_data"
    }
   ],
   "source": [
    "type(2j)"
   ]
  },
  {
   "cell_type": "code",
   "execution_count": null,
   "id": "b5add5c2",
   "metadata": {},
   "outputs": [
    {
     "data": {
      "text/plain": [
       "(-1+0j)"
      ]
     },
     "metadata": {},
     "output_type": "display_data"
    }
   ],
   "source": [
    "1j * 1j"
   ]
  },
  {
   "cell_type": "code",
   "execution_count": null,
   "id": "918ca19a",
   "metadata": {},
   "outputs": [
    {
     "data": {
      "text/plain": [
       "int"
      ]
     },
     "metadata": {},
     "output_type": "display_data"
    }
   ],
   "source": [
    "x = 55\n",
    "type(x)"
   ]
  },
  {
   "cell_type": "markdown",
   "id": "09f5fa45",
   "metadata": {},
   "source": [
    "### Strings"
   ]
  },
  {
   "cell_type": "code",
   "execution_count": null,
   "id": "027f3c0b",
   "metadata": {},
   "outputs": [
    {
     "data": {
      "text/plain": [
       "'String 1 String 2'"
      ]
     },
     "metadata": {},
     "output_type": "display_data"
    }
   ],
   "source": [
    "'String 1 ' + 'String 2'"
   ]
  },
  {
   "cell_type": "code",
   "execution_count": null,
   "id": "25344b6c",
   "metadata": {},
   "outputs": [
    {
     "data": {
      "text/plain": [
       "'1   1'"
      ]
     },
     "execution_count": 30,
     "metadata": {},
     "output_type": "execute_result"
    }
   ],
   "source": [
    "'1' + '   1'"
   ]
  },
  {
   "cell_type": "code",
   "execution_count": null,
   "id": "81887fbe",
   "metadata": {},
   "outputs": [
    {
     "ename": "TypeError",
     "evalue": "can only concatenate str (not \"int\") to str",
     "output_type": "error",
     "traceback": [
      "\u001b[1;31m---------------------------------------------------------------------------\u001b[0m",
      "\u001b[1;31mTypeError\u001b[0m                                 Traceback (most recent call last)",
      "Cell \u001b[1;32mIn[31], line 1\u001b[0m\n\u001b[1;32m----> 1\u001b[0m \u001b[38;5;124;43m'\u001b[39;49m\u001b[38;5;124;43m1\u001b[39;49m\u001b[38;5;124;43m'\u001b[39;49m\u001b[43m \u001b[49m\u001b[38;5;241;43m+\u001b[39;49m\u001b[43m \u001b[49m\u001b[38;5;241;43m1\u001b[39;49m\n",
      "\u001b[1;31mTypeError\u001b[0m: can only concatenate str (not \"int\") to str"
     ]
    }
   ],
   "source": [
    "'1' + 1"
   ]
  },
  {
   "cell_type": "markdown",
   "id": "46c1cc0a",
   "metadata": {},
   "source": [
    "### Booleans"
   ]
  },
  {
   "cell_type": "code",
   "execution_count": null,
   "id": "9eaaeb57",
   "metadata": {},
   "outputs": [
    {
     "data": {
      "text/plain": [
       "True"
      ]
     },
     "metadata": {},
     "output_type": "display_data"
    }
   ],
   "source": [
    "True"
   ]
  },
  {
   "cell_type": "code",
   "execution_count": null,
   "id": "1500ff5e",
   "metadata": {},
   "outputs": [
    {
     "data": {
      "text/plain": [
       "False"
      ]
     },
     "metadata": {},
     "output_type": "display_data"
    }
   ],
   "source": [
    "False"
   ]
  },
  {
   "cell_type": "code",
   "execution_count": null,
   "id": "b24f6c1f",
   "metadata": {},
   "outputs": [],
   "source": [
    "true = True"
   ]
  },
  {
   "cell_type": "code",
   "execution_count": null,
   "id": "cd17d0e9",
   "metadata": {},
   "outputs": [
    {
     "data": {
      "text/plain": [
       "True"
      ]
     },
     "execution_count": 34,
     "metadata": {},
     "output_type": "execute_result"
    }
   ],
   "source": [
    "1 == 1"
   ]
  },
  {
   "cell_type": "code",
   "execution_count": null,
   "id": "67bb851b",
   "metadata": {},
   "outputs": [
    {
     "data": {
      "text/plain": [
       "False"
      ]
     },
     "metadata": {},
     "output_type": "display_data"
    }
   ],
   "source": [
    "1 == 2"
   ]
  },
  {
   "cell_type": "markdown",
   "id": "b2dcb37b",
   "metadata": {},
   "source": [
    "## Reading Input from Keyboard"
   ]
  },
  {
   "cell_type": "code",
   "execution_count": null,
   "id": "2786e0a8",
   "metadata": {},
   "outputs": [
    {
     "name": "stdout",
     "output_type": "stream",
     "text": [
      "Hello sam hal\n"
     ]
    }
   ],
   "source": [
    "# Get the user's first name.\n",
    "first_name = input('Enter your first name: ')\n",
    "\n",
    "# Get the user's last name.\n",
    "last_name = input('Enter your last name: ')\n",
    "\n",
    "# Print a greeting to the user.\n",
    "print('Hello', first_name, last_name)"
   ]
  },
  {
   "cell_type": "markdown",
   "id": "6d5c1559",
   "metadata": {},
   "source": [
    "## Reading Numbers with the input Function"
   ]
  },
  {
   "cell_type": "code",
   "execution_count": 1,
   "id": "847e2cc9",
   "metadata": {},
   "outputs": [
    {
     "name": "stdout",
     "output_type": "stream",
     "text": [
      "Here is the data you entered:\n",
      "Name: Osama\n",
      "Age: 25\n",
      "Income: -200.222\n"
     ]
    }
   ],
   "source": [
    "# Get the user's name, age, and income.\n",
    "age = int(input('What is your age? ')) #convert str to integer (casting)\n",
    "name = input('What is your name? ')\n",
    "income = float(input('What is your income? '))\n",
    "# Display the data.\n",
    "print('Here is the data you entered:')\n",
    "print('Name:', name)\n",
    "print('Age:', age)\n",
    "print('Income:', income)"
   ]
  },
  {
   "cell_type": "markdown",
   "id": "68e8f422",
   "metadata": {},
   "source": [
    "## Casting"
   ]
  },
  {
   "cell_type": "markdown",
   "id": "9c2bfbaa",
   "metadata": {},
   "source": [
    "### int"
   ]
  },
  {
   "cell_type": "code",
   "execution_count": 3,
   "id": "0fb7d5a6",
   "metadata": {},
   "outputs": [
    {
     "name": "stdout",
     "output_type": "stream",
     "text": [
      "1\n",
      "2.8\n",
      "3\n"
     ]
    }
   ],
   "source": [
    "x = int(1)   # x will be 1\n",
    "y = int(2.8) # y will be 2\n",
    "z = int(\"3\") # z will be 3\n",
    "print(x)\n",
    "print(y)\n",
    "print(z)"
   ]
  },
  {
   "cell_type": "markdown",
   "id": "534db222",
   "metadata": {},
   "source": [
    "### floats"
   ]
  },
  {
   "cell_type": "code",
   "execution_count": 5,
   "id": "d7e063db",
   "metadata": {},
   "outputs": [
    {
     "name": "stdout",
     "output_type": "stream",
     "text": [
      "1.0\n",
      "2.8\n",
      "3.0\n",
      "4.2\n"
     ]
    }
   ],
   "source": [
    "x = float(1)     # x will be 1.0\n",
    "y = float(2.8)   # y will be 2.8\n",
    "z = float(\"3\")   # z will be 3.0\n",
    "w = float(\"4.2\") # w will be 4.2\n",
    "print(x)\n",
    "print(y)\n",
    "print(z)\n",
    "print(w)"
   ]
  },
  {
   "cell_type": "markdown",
   "id": "b96e4898",
   "metadata": {},
   "source": [
    "### strings"
   ]
  },
  {
   "cell_type": "code",
   "execution_count": 6,
   "id": "6dcaf3aa",
   "metadata": {},
   "outputs": [
    {
     "name": "stdout",
     "output_type": "stream",
     "text": [
      "s1\n",
      "2\n",
      "3.0\n"
     ]
    }
   ],
   "source": [
    "x = str(\"s1\") # x will be 's1'\n",
    "y = str(2)    # y will be '2'\n",
    "z = str(3.0)  # z will be '3.0'\n",
    "print(x)\n",
    "print(y)\n",
    "print(z)"
   ]
  },
  {
   "cell_type": "markdown",
   "id": "0b220e54",
   "metadata": {},
   "source": [
    "## Performaing Calculation"
   ]
  },
  {
   "cell_type": "markdown",
   "id": "0a18052b",
   "metadata": {},
   "source": [
    "### Arithmetic Operators "
   ]
  },
  {
   "cell_type": "code",
   "execution_count": 7,
   "id": "818a0df3",
   "metadata": {},
   "outputs": [
    {
     "data": {
      "text/plain": [
       "2"
      ]
     },
     "execution_count": 7,
     "metadata": {},
     "output_type": "execute_result"
    }
   ],
   "source": [
    "1 + 1"
   ]
  },
  {
   "cell_type": "code",
   "execution_count": 9,
   "id": "a4152535",
   "metadata": {},
   "outputs": [
    {
     "data": {
      "text/plain": [
       "3"
      ]
     },
     "execution_count": 9,
     "metadata": {},
     "output_type": "execute_result"
    }
   ],
   "source": [
    "5 - 2"
   ]
  },
  {
   "cell_type": "code",
   "execution_count": 10,
   "id": "d611eef1",
   "metadata": {},
   "outputs": [
    {
     "data": {
      "text/plain": [
       "20"
      ]
     },
     "execution_count": 10,
     "metadata": {},
     "output_type": "execute_result"
    }
   ],
   "source": [
    "4 * 5"
   ]
  },
  {
   "cell_type": "code",
   "execution_count": 11,
   "id": "5461c9e2",
   "metadata": {},
   "outputs": [
    {
     "data": {
      "text/plain": [
       "25"
      ]
     },
     "execution_count": 11,
     "metadata": {},
     "output_type": "execute_result"
    }
   ],
   "source": [
    "5 ** 2"
   ]
  },
  {
   "cell_type": "code",
   "execution_count": 55,
   "id": "1ce6178c",
   "metadata": {},
   "outputs": [
    {
     "data": {
      "text/plain": [
       "3.3333333333333335"
      ]
     },
     "execution_count": 55,
     "metadata": {},
     "output_type": "execute_result"
    }
   ],
   "source": [
    "20 / 6 #division"
   ]
  },
  {
   "cell_type": "code",
   "execution_count": 12,
   "id": "729a098e",
   "metadata": {},
   "outputs": [
    {
     "data": {
      "text/plain": [
       "3"
      ]
     },
     "execution_count": 12,
     "metadata": {},
     "output_type": "execute_result"
    }
   ],
   "source": [
    "20 // 6  # integer division"
   ]
  },
  {
   "cell_type": "code",
   "execution_count": 16,
   "id": "4ce7796e",
   "metadata": {},
   "outputs": [
    {
     "data": {
      "text/plain": [
       "0"
      ]
     },
     "execution_count": 16,
     "metadata": {},
     "output_type": "execute_result"
    }
   ],
   "source": [
    "20 % 6 # reminder (mod)"
   ]
  },
  {
   "cell_type": "code",
   "execution_count": 33,
   "id": "616d2eb1",
   "metadata": {},
   "outputs": [
    {
     "name": "stdout",
     "output_type": "stream",
     "text": [
      "number is even\n"
     ]
    }
   ],
   "source": [
    "rem = 8 % 2\n",
    "if rem == 0:\n",
    "    print(\"number is even\")\n",
    "else:\n",
    "    print(\"number is odd\")"
   ]
  },
  {
   "cell_type": "markdown",
   "id": "01a15801",
   "metadata": {},
   "source": [
    "### Arithmetic Operators with Strings "
   ]
  },
  {
   "cell_type": "code",
   "execution_count": 34,
   "id": "fb76af38",
   "metadata": {},
   "outputs": [
    {
     "data": {
      "text/plain": [
       "'string 1string 2'"
      ]
     },
     "execution_count": 34,
     "metadata": {},
     "output_type": "execute_result"
    }
   ],
   "source": [
    "'string 1 ' + 'string 2'"
   ]
  },
  {
   "cell_type": "code",
   "execution_count": 35,
   "id": "8fdd638e",
   "metadata": {},
   "outputs": [
    {
     "data": {
      "text/plain": [
       "'- string 1 - - string 1 - - string 1 - - string 1 - '"
      ]
     },
     "execution_count": 35,
     "metadata": {},
     "output_type": "execute_result"
    }
   ],
   "source": [
    "'- string 1 - ' * 4"
   ]
  },
  {
   "cell_type": "code",
   "execution_count": 36,
   "id": "8336b4c4",
   "metadata": {},
   "outputs": [
    {
     "ename": "TypeError",
     "evalue": "can only concatenate str (not \"int\") to str",
     "output_type": "error",
     "traceback": [
      "\u001b[1;31m---------------------------------------------------------------------------\u001b[0m",
      "\u001b[1;31mTypeError\u001b[0m                                 Traceback (most recent call last)",
      "Cell \u001b[1;32mIn[36], line 1\u001b[0m\n\u001b[1;32m----> 1\u001b[0m \u001b[38;5;124;43m'\u001b[39;49m\u001b[38;5;124;43m 1\u001b[39;49m\u001b[38;5;124;43m'\u001b[39;49m\u001b[43m \u001b[49m\u001b[38;5;241;43m+\u001b[39;49m\u001b[43m \u001b[49m\u001b[38;5;241;43m4\u001b[39;49m\n",
      "\u001b[1;31mTypeError\u001b[0m: can only concatenate str (not \"int\") to str"
     ]
    }
   ],
   "source": [
    "' 1' + 4"
   ]
  },
  {
   "cell_type": "code",
   "execution_count": 42,
   "id": "2139a162",
   "metadata": {},
   "outputs": [
    {
     "data": {
      "text/plain": [
       "3"
      ]
     },
     "execution_count": 42,
     "metadata": {},
     "output_type": "execute_result"
    }
   ],
   "source": [
    "int(1.8888 + 2)"
   ]
  },
  {
   "cell_type": "code",
   "execution_count": 43,
   "id": "58f32231",
   "metadata": {},
   "outputs": [
    {
     "data": {
      "text/plain": [
       "8.0"
      ]
     },
     "execution_count": 43,
     "metadata": {},
     "output_type": "execute_result"
    }
   ],
   "source": [
    "4+8/2-3*2%2"
   ]
  },
  {
   "cell_type": "markdown",
   "id": "224f339e",
   "metadata": {},
   "source": [
    "## Breaking Long Statements into Multiple Lines"
   ]
  },
  {
   "cell_type": "code",
   "execution_count": 3,
   "id": "304f90c4",
   "metadata": {},
   "outputs": [
    {
     "name": "stdout",
     "output_type": "stream",
     "text": [
      "18\n"
     ]
    }
   ],
   "source": [
    "value1 = value2 =value3 = value4 =value5 = value6 = 3\n",
    "total = (value1 + value2 +\n",
    "         value3 + value4 +\n",
    "         value5 + value6)\n",
    "print(total)"
   ]
  },
  {
   "cell_type": "code",
   "execution_count": 6,
   "id": "96300846",
   "metadata": {},
   "outputs": [
    {
     "name": "stdout",
     "output_type": "stream",
     "text": [
      "OneTwo Three\n"
     ]
    }
   ],
   "source": [
    "print('One', end='')\n",
    "print('Two', end=' ')\n",
    "print('Three')\n"
   ]
  },
  {
   "cell_type": "code",
   "execution_count": 9,
   "id": "bf6a10b8",
   "metadata": {},
   "outputs": [
    {
     "name": "stdout",
     "output_type": "stream",
     "text": [
      "One*$$$$Two*$$$$Three\n"
     ]
    }
   ],
   "source": [
    "print('One', 'Two', 'Three', sep='*$$$$')\n"
   ]
  },
  {
   "cell_type": "markdown",
   "id": "4c11db30",
   "metadata": {},
   "source": [
    "## Fromatting"
   ]
  },
  {
   "cell_type": "code",
   "execution_count": 12,
   "id": "1a8fb3f4",
   "metadata": {},
   "outputs": [
    {
     "name": "stdout",
     "output_type": "stream",
     "text": [
      "The number is 133333333.29\n"
     ]
    }
   ],
   "source": [
    "print('The number is', format(133333333.289567, '.2f'))"
   ]
  },
  {
   "cell_type": "code",
   "execution_count": 60,
   "id": "b4796c3e",
   "metadata": {},
   "outputs": [
    {
     "name": "stdout",
     "output_type": "stream",
     "text": [
      "12,345.68\n"
     ]
    }
   ],
   "source": [
    "print(format(12345.6789, ',.2f'))"
   ]
  },
  {
   "cell_type": "code",
   "execution_count": 61,
   "id": "d279ecaf",
   "metadata": {},
   "outputs": [
    {
     "name": "stdout",
     "output_type": "stream",
     "text": [
      "123,456,789.46\n"
     ]
    }
   ],
   "source": [
    "print(format(123456789.456, ',.2f'))"
   ]
  },
  {
   "cell_type": "code",
   "execution_count": 20,
   "id": "8a69147d",
   "metadata": {},
   "outputs": [
    {
     "name": "stdout",
     "output_type": "stream",
     "text": [
      "The number is 1,234.68\n"
     ]
    }
   ],
   "source": [
    "print('The number is', format(1234.67890, ',.2f'))"
   ]
  },
  {
   "cell_type": "code",
   "execution_count": 23,
   "id": "7ba1d8d7",
   "metadata": {},
   "outputs": [
    {
     "name": "stdout",
     "output_type": "stream",
     "text": [
      "The price of the product is: 123456.8\n"
     ]
    }
   ],
   "source": [
    "price = 123456.7890\n",
    "print(f\"The price of the product is: {price:.1f}\")"
   ]
  },
  {
   "cell_type": "code",
   "execution_count": null,
   "id": "127f4df3",
   "metadata": {},
   "outputs": [],
   "source": []
  }
 ],
 "metadata": {
  "kernelspec": {
   "display_name": "Python 3 (ipykernel)",
   "language": "python",
   "name": "python3"
  },
  "language_info": {
   "codemirror_mode": {
    "name": "ipython",
    "version": 3
   },
   "file_extension": ".py",
   "mimetype": "text/x-python",
   "name": "python",
   "nbconvert_exporter": "python",
   "pygments_lexer": "ipython3",
   "version": "3.12.5"
  },
  "vscode": {
   "interpreter": {
    "hash": "949777d72b0d2535278d3dc13498b2535136f6dfe0678499012e853ee9abcab1"
   }
  }
 },
 "nbformat": 4,
 "nbformat_minor": 5
}
