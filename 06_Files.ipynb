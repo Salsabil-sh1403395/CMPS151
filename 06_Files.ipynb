{
 "cells": [
  {
   "cell_type": "markdown",
   "metadata": {},
   "source": [
    "# Chapter (6): Files and Exceptions"
   ]
  },
  {
   "cell_type": "markdown",
   "metadata": {},
   "source": [
    "## Writing and reading Data from a file"
   ]
  },
  {
   "cell_type": "markdown",
   "metadata": {},
   "source": [
    "Three steps when a program uses a file\n",
    "1. Open the file\n",
    "2. Process the file\n",
    "3. Close the file\n"
   ]
  },
  {
   "cell_type": "code",
   "execution_count": 4,
   "metadata": {},
   "outputs": [],
   "source": [
    "# This program writes three lines of data\n",
    "# to a file.\n",
    "def main():\n",
    "    # Open a file named philosophers.txt.\n",
    "    outfile = open('philosophers.txt', 'w')\n",
    "\n",
    "    # Write the names of three philosphers\n",
    "    # to the file.\n",
    "    outfile.write('John Locke\\n')\n",
    "    outfile.write('David Hume\\n')\n",
    "    outfile.write('Edmund Burke\\n')\n",
    "\n",
    "    # Close the file.\n",
    "    outfile.close()\n",
    "\n",
    "# Call the main function.\n",
    "if __name__ == '__main__':\n",
    "    main()"
   ]
  },
  {
   "cell_type": "markdown",
   "metadata": {},
   "source": [
    "## Opening a File\n",
    "- open function: used to open a file\n",
    "    - Creates a file object and associates it with a file on the disk\n",
    "    - General format: \t\n",
    "            file_object = open(filename, mode)\n",
    "- Mode: string specifying how the file will be opened\n",
    "    - Example: reading only ('r'), writing ('w'), and appending ('a’)\n",
    "\n",
    "- If open function receives a filename that does not contain a path, assumes that file is in same directory as program\n",
    "\n",
    "- If program is running and file is created, it is created in the same directory as the program\n",
    "    - Can specify alternative path and file name in the open function argument\n",
    "        - Prefix the path string literal with the letter r\n",
    "        test_file=open(r'C:\\Users\\Osama\\temp\\test.txt', 'w')\n"
   ]
  },
  {
   "cell_type": "code",
   "execution_count": 5,
   "metadata": {},
   "outputs": [
    {
     "name": "stdout",
     "output_type": "stream",
     "text": [
      "John Locke\n",
      "David Hume\n",
      "Edmund Burke\n",
      "\n"
     ]
    }
   ],
   "source": [
    "# This program reads and displays the contents\n",
    "# of the philosophers.txt file.\n",
    "def main():\n",
    "    # Open a file named philosophers.txt.\n",
    "    infile = open('philosophers.txt', 'r')\n",
    "\n",
    "    # Read the file's contents.\n",
    "    file_contents = infile.read()\n",
    "\n",
    "    # Close the file.\n",
    "    infile.close()\n",
    "\n",
    "    # Print the data that was read into\n",
    "    # memory.\n",
    "    print(file_contents)\n",
    "\n",
    "# Call the main function.\n",
    "if __name__ == '__main__':\n",
    "    main()"
   ]
  },
  {
   "cell_type": "markdown",
   "metadata": {},
   "source": [
    "## Writing Data to a File\n",
    "- Method: a function that belongs to an object \n",
    "    - Performs operations using that object\n",
    "- File object’s write method used to write data to the file\n",
    "    - Format: \tfile_variable.write(string)\n",
    "- File should be closed using file object close method\n",
    "    - Format: \tfile_variable.close()\n"
   ]
  },
  {
   "cell_type": "code",
   "execution_count": 6,
   "metadata": {},
   "outputs": [],
   "source": [
    "# This program writes three lines of data\n",
    "# to a file.\n",
    "def main():\n",
    "    # Open a file named philosophers.txt.\n",
    "    outfile = open('philosophers.txt', 'w')\n",
    "\n",
    "    # Write the names of three philosphers\n",
    "    # to the file.\n",
    "    outfile.write('John Locke\\n')\n",
    "    outfile.write('David Hume\\n')\n",
    "    outfile.write('Edmund Burke\\n')\n",
    "\n",
    "    # Close the file.\n",
    "    outfile.close()\n",
    "\n",
    "# Call the main function.\n",
    "if __name__ == '__main__':\n",
    "    main()"
   ]
  },
  {
   "cell_type": "markdown",
   "metadata": {},
   "source": [
    "## Reading Data From a File\n",
    "- **readline method**: file object method that reads a line from the file\n",
    "    - Line returned as a string, including '\\n'\n",
    "- Read position: marks the location of the next item to be read from a file\n"
   ]
  },
  {
   "cell_type": "code",
   "execution_count": 8,
   "metadata": {},
   "outputs": [
    {
     "name": "stdout",
     "output_type": "stream",
     "text": [
      "John Locke\n",
      "Edmund Burke\n",
      "\n"
     ]
    }
   ],
   "source": [
    "# This program reads the contents of the\n",
    "# philosophers.txt file one line at a time.\n",
    "def main():\n",
    "    # Open a file named philosophers.txt.\n",
    "    infile = open('philosophers.txt', 'r')\n",
    "\n",
    "    # Read three lines from the file\n",
    "    line1 = infile.readline()\n",
    "    line2 = infile.readline()\n",
    "    line3 = infile.readline()\n",
    "\n",
    "    # Close the file.\n",
    "    infile.close()\n",
    "\n",
    "    # Print the data that was read into\n",
    "    # memory.\n",
    "    print(line1, end='')\n",
    "    print(line2)\n",
    "    print(line3)\n",
    "\n",
    "# Call the main function.\n",
    "if __name__ == '__main__':\n",
    "    main()"
   ]
  },
  {
   "cell_type": "markdown",
   "metadata": {},
   "source": [
    "## Concatenating or Stripping Newline\n",
    "- In most cases, data items written to a file are values referenced by variables\n",
    "    - Usually necessary to concatenate a '\\n' to data before writing it\n",
    "        - Carried out using the + operator in the argument of the write method\n",
    "- In many cases need to remove '\\n' from string after it is read from a file\n",
    "    - **rstrip method**: string method that strips specific characters from end of the string\n"
   ]
  },
  {
   "cell_type": "code",
   "execution_count": 11,
   "metadata": {},
   "outputs": [
    {
     "name": "stdout",
     "output_type": "stream",
     "text": [
      "Enter the names of three friends.\n",
      "The names were written to friends.txt.\n"
     ]
    }
   ],
   "source": [
    "# This program gets three names from the user\n",
    "# and writes them to a file.\n",
    "\n",
    "def main():\n",
    "    # Get three names.\n",
    "    print('Enter the names of three friends.')\n",
    "    name1 = input('Friend #1: ')\n",
    "    name2 = input('Friend #2: ')\n",
    "    name3 = input('Friend #3: ')\n",
    "\n",
    "    # Open a file named friends.txt.\n",
    "    myfile = open('friends.txt', 'w')\n",
    "\n",
    "    # Write the names to the file.\n",
    "    myfile.write(name1 + '\\n')\n",
    "    myfile.write(name2 + '\\n')\n",
    "    myfile.write(name3 + '\\n')\n",
    "\n",
    "    # Close the file.\n",
    "    myfile.close()\n",
    "    print('The names were written to friends.txt.')\n",
    "\n",
    "# Call the main function.\n",
    "if __name__ == '__main__':\n",
    "    main()"
   ]
  },
  {
   "cell_type": "code",
   "execution_count": 10,
   "metadata": {},
   "outputs": [
    {
     "name": "stdout",
     "output_type": "stream",
     "text": [
      "Ali\n",
      "Maher\n",
      "Salem\n"
     ]
    }
   ],
   "source": [
    "# This program reads the contents of the\n",
    "# philosophers.txt file one one line at a time.\n",
    "def main():\n",
    "    # Open a file named philosophers.txt.\n",
    "    infile = open('friends.txt', 'r')\n",
    "\n",
    "    # Read three lines from the file\n",
    "    line1 = infile.readline()\n",
    "    line2 = infile.readline()\n",
    "    line3 = infile.readline()\n",
    "    \n",
    "    # Strip the \\n each string\n",
    "    line1 = line1.rstrip('\\n')    \n",
    "    line2 = line2.rstrip('\\n')\n",
    "    line3 = line3.rstrip('\\n')\n",
    "    \n",
    "    # Close the file.\n",
    "    infile.close()\n",
    "\n",
    "    # Print the data that was read into\n",
    "    # memory.\n",
    "    print(line1)\n",
    "    print(line2)\n",
    "    print(line3)\n",
    "\n",
    "# Call the main function.\n",
    "if __name__ == '__main__':\n",
    "    main()"
   ]
  },
  {
   "cell_type": "markdown",
   "metadata": {},
   "source": [
    "## Appending Data to an Existing File\n",
    ">When open file with 'w' mode, if the file already exists it is overwritten \n",
    "- To append data to a file use the 'a' mode \n",
    "    - If file exists, it is not erased, and if it does not exist it is created\n",
    "    - Data is written to the file at the end of the current contents\n"
   ]
  },
  {
   "cell_type": "code",
   "execution_count": 12,
   "metadata": {},
   "outputs": [
    {
     "name": "stdout",
     "output_type": "stream",
     "text": [
      "The names were added/appended to friends.txt.\n"
     ]
    }
   ],
   "source": [
    "# This program gets three names from the user\n",
    "# and writes them to a file.\n",
    "\n",
    "def main():\n",
    "\n",
    "    # Open a file named friends.txt.\n",
    "    myfile = open('friends.txt', 'a')\n",
    "\n",
    "    # Write the names to append to the file.\n",
    "    myfile.write('Ali\\n')\n",
    "    myfile.write('Ahmed\\n')\n",
    "    myfile.write('Adel\\n')\n",
    "\n",
    "    # Close the file.\n",
    "    myfile.close()\n",
    "    print('The names were added/appended to friends.txt.')\n",
    "\n",
    "# Call the main function.\n",
    "if __name__ == '__main__':\n",
    "    main()"
   ]
  },
  {
   "cell_type": "markdown",
   "metadata": {},
   "source": [
    "## Writing Numeric Data to a File\n",
    "- Numbers must be converted to strings before they are written to a file\n",
    "    - `str function`: converts value to string\n"
   ]
  },
  {
   "cell_type": "code",
   "execution_count": 13,
   "metadata": {},
   "outputs": [
    {
     "name": "stdout",
     "output_type": "stream",
     "text": [
      "Data written to numbers.txt\n"
     ]
    }
   ],
   "source": [
    "# This program demonstrates how numbers\n",
    "# must be converted to strings before they\n",
    "# are written to a text file.\n",
    "\n",
    "def main():\n",
    "    # Open a file for writing.\n",
    "    outfile = open('numbers.txt', 'w')\n",
    "\n",
    "    # Get three numbers from the user.\n",
    "    num1 = int(input('Enter a number: '))\n",
    "    num2 = int(input('Enter another number: '))\n",
    "    num3 = int(input('Enter another number: '))\n",
    "\n",
    "    # Write the numbers to the file.\n",
    "    outfile.write(str(num1) + '\\n')\n",
    "    outfile.write(str(num2) + '\\n')\n",
    "    outfile.write(str(num3) + '\\n')\n",
    "\n",
    "    # Close the file.\n",
    "    outfile.close()\n",
    "    print('Data written to numbers.txt')\n",
    "\n",
    "# Call the main function.\n",
    "if __name__ == '__main__':\n",
    "    main()"
   ]
  },
  {
   "cell_type": "markdown",
   "metadata": {},
   "source": [
    "## Reading Numeric Data from a File\n",
    "- Number are read from a text file as strings\n",
    "    - Must be converted to numeric type in order to perform mathematical operations\n",
    "    - Use int and float functions to convert string to numeric value\n"
   ]
  },
  {
   "cell_type": "code",
   "execution_count": 16,
   "metadata": {},
   "outputs": [
    {
     "name": "stdout",
     "output_type": "stream",
     "text": [
      "The numbers are: 1111, 2222, 3333\n",
      "Their total is: 6666\n"
     ]
    }
   ],
   "source": [
    "# This program demonstrates how numbers that are\n",
    "# read from a file must be converted from strings\n",
    "# before they are used in a math operation.\n",
    "\n",
    "def main():\n",
    "    # Open a file for reading.\n",
    "    mybeatifufile = open('numbers.txt', 'r')\n",
    "\n",
    "    # Read three numbers from the file.\n",
    "    num1 = int(mybeatifufile.readline()) ## casting to int convert to int\n",
    "    num2 = int(mybeatifufile.readline())\n",
    "    num3 = int(mybeatifufile.readline())\n",
    "\n",
    "    # Close the file.\n",
    "    mybeatifufile.close()\n",
    "\n",
    "    # Add the three numbers.\n",
    "    total = num1 + num2 + num3\n",
    "\n",
    "    # Display the numbers and their total.\n",
    "    print(f'The numbers are: {num1}, {num2}, {num3}')\n",
    "    print(f'Their total is: {total}')\n",
    "\n",
    "# Call the main function.\n",
    "if __name__ == '__main__':\n",
    "    main()"
   ]
  },
  {
   "cell_type": "markdown",
   "metadata": {},
   "source": [
    "## Using Loops to Process Files\n",
    "- Files typically used to hold large amounts of data\n",
    "    - Loop typically involved in reading from and writing to a file\n",
    "- Often the number of items stored in file is unknown\n",
    "    - The readline method uses an empty string as a sentinel when end of file is reached\n",
    "    - Can write a while loop with the condition \t`while line != ''`\n"
   ]
  },
  {
   "cell_type": "code",
   "execution_count": 22,
   "metadata": {},
   "outputs": [
    {
     "name": "stdout",
     "output_type": "stream",
     "text": [
      "1000.00\n",
      "2000.00\n",
      "3000.00\n",
      "4000.00\n",
      "5000.00\n"
     ]
    }
   ],
   "source": [
    "# This program reads all of the values in\n",
    "# the sales.txt file.\n",
    "\n",
    "def main():\n",
    "    # Open the sales.txt file for reading.\n",
    "    sales_file = open('sales.txt', 'r')\n",
    "\n",
    "    # Read the first line from the file, but\n",
    "    # don't convert to a number yet. We still\n",
    "    # need to test for an empty string.\n",
    "    line = sales_file.readline()\n",
    "\n",
    "    # As long as an empty string is not returned\n",
    "    # from readline, continue processing.\n",
    "    while line != '':\n",
    "        # Convert line to a float.\n",
    "        amount = float(line)\n",
    "\n",
    "        # Format and display the amount.\n",
    "        print(f'{amount:.2f}')\n",
    "\n",
    "        # Read the next line.\n",
    "        line = sales_file.readline()\n",
    "        \n",
    "    # Close the file.\n",
    "    sales_file.close()\n",
    "\n",
    "# Call the main function.\n",
    "if __name__ == '__main__':\n",
    "    main()"
   ]
  },
  {
   "cell_type": "markdown",
   "metadata": {},
   "source": [
    "## Using Python’s for Loop to Read Lines\n",
    "- Python allows the programmer to write a for loop that automatically reads lines in a file and stops when end of file is reached\n",
    "    - Format: \t`for line in file_object:\n",
    "                        statements`\n",
    "    - The loop iterates once over each line in the file\n"
   ]
  },
  {
   "cell_type": "code",
   "execution_count": 2,
   "metadata": {},
   "outputs": [
    {
     "name": "stdout",
     "output_type": "stream",
     "text": [
      "1000.00\n",
      "2000.00\n",
      "3000.00\n",
      "4000.00\n",
      "5000.00\n"
     ]
    }
   ],
   "source": [
    "# This program uses the for loop to read\n",
    "# all of the values in the sales.txt file.\n",
    "\n",
    "def main():\n",
    "    # Open the sales.txt file for reading.\n",
    "    sales_file = open('sales.txt', 'r')\n",
    "\n",
    "    # Read all the lines from the file.\n",
    "    for line in sales_file:\n",
    "        # Convert line to a float.\n",
    "        amount = float(line)\n",
    "        # Format and display the amount.\n",
    "        print(f'{amount:.2f}')\n",
    "        \n",
    "    # Close the file.\n",
    "    sales_file.close()\n",
    "\n",
    "# Call the main function.\n",
    "if __name__ == '__main__':\n",
    "    main()"
   ]
  },
  {
   "cell_type": "markdown",
   "metadata": {},
   "source": [
    "## Processing Records\n",
    "- Record: set of data that describes one item\n",
    "- Field: single piece of data within a record\n",
    "- Write record to sequential access file by writing the fields one after the other\n",
    "- Read record from sequential access file by reading each field until record complete\n",
    "- When working with records, it is also important to be able to:\n",
    "    - Add records\n",
    "    - Display records\n",
    "    - Search for a specific record\n",
    "    - Modify records\n"
   ]
  },
  {
   "cell_type": "code",
   "execution_count": 3,
   "metadata": {},
   "outputs": [
    {
     "name": "stdout",
     "output_type": "stream",
     "text": [
      "Enter data for employee #1\n",
      "\n",
      "Enter data for employee #2\n",
      "\n",
      "Employee records written to employees.txt.\n"
     ]
    }
   ],
   "source": [
    "# This program gets employee data from the user and\n",
    "# saves it as records in the employee.txt file.\n",
    "\n",
    "def main():\n",
    "    # Get the number of employee records to create.\n",
    "    num_emps = int(input('How many employee records ' +\n",
    "                        'do you want to create? '))\n",
    "\n",
    "    # Open a file for writing.\n",
    "    emp_file = open('employees.txt', 'w')\n",
    "\n",
    "    # Get each employee's data and write it to the file.\n",
    "    for count in range(1, num_emps + 1):\n",
    "        # Get the data for an employee.\n",
    "        print(f'Enter data for employee #{count}')\n",
    "        name = input('Name: ')\n",
    "        id_num = input('ID number: ')\n",
    "        dept = input('Department: ')\n",
    "\n",
    "        # Write the data as a record to the file.\n",
    "        emp_file.write(f'{name}\\n')\n",
    "        emp_file.write(f'{id_num}\\n')\n",
    "        emp_file.write(f'{dept}\\n')\n",
    "\n",
    "        # Display a blank line.\n",
    "        print()\n",
    "\n",
    "    # Close the file.\n",
    "    emp_file.close()\n",
    "    print('Employee records written to employees.txt.')\n",
    "\n",
    "# Call the main function.\n",
    "if __name__ == '__main__':\n",
    "    main()"
   ]
  },
  {
   "cell_type": "code",
   "execution_count": 4,
   "metadata": {},
   "outputs": [
    {
     "name": "stdout",
     "output_type": "stream",
     "text": [
      "Name: Momo\n",
      "ID: 1111\n",
      "Dept: xxx\n",
      "\n",
      "Name: Fifi\n",
      "ID: 2222\n",
      "Dept: YYY\n",
      "\n"
     ]
    }
   ],
   "source": [
    "# This program displays the records that are\n",
    "# in the employees.txt file.\n",
    "\n",
    "def main():\n",
    "    # Open the employees.txt file.\n",
    "    emp_file = open('employees.txt', 'r')\n",
    "\n",
    "    # Read the first line from the file, which is\n",
    "    # the name field of the first record.\n",
    "    name = emp_file.readline()\n",
    "\n",
    "    # If a field was read, continue processing.\n",
    "    while name != '':\n",
    "        # Read the ID number field.\n",
    "        id_num = emp_file.readline()\n",
    "\n",
    "        # Read the department field.\n",
    "        dept = emp_file.readline()\n",
    "\n",
    "        # Strip the newlines from the fields.\n",
    "        name = name.rstrip('\\n')\n",
    "        id_num = id_num.rstrip('\\n')\n",
    "        dept = dept.rstrip('\\n')\n",
    "\n",
    "        # Display the record.\n",
    "        print(f'Name: {name}')\n",
    "        print(f'ID: {id_num}')\n",
    "        print(f'Dept: {dept}')\n",
    "        print()\n",
    "\n",
    "        # Read the name field of the next record.\n",
    "        name = emp_file.readline()\n",
    "\n",
    "    # Close the file.\n",
    "    emp_file.close()\n",
    "\n",
    "# Call the main function.\n",
    "if __name__ == '__main__':\n",
    "    main()"
   ]
  },
  {
   "cell_type": "markdown",
   "metadata": {},
   "source": [
    "## Exercises\n",
    ">Write a program to read data of 10 students, and save them to a file called “students.txt”. For each student, it reads student’s name, and grade. In the file, each line contains a name will be followed by a line contains the grade. \n"
   ]
  },
  {
   "cell_type": "code",
   "execution_count": 1,
   "metadata": {},
   "outputs": [],
   "source": [
    "\n",
    "def main():\n",
    "    students_file = open('students.txt', 'w')\n",
    "    for i in range (1, 3):\n",
    "        name = input(f'Enter student {i} name: ')\n",
    "        grade = input(f'Enter student {i} grade: ')\n",
    "        students_file.write(name + '\\n')\n",
    "        students_file.write(str(grade) + '\\n')\n",
    "    students_file.close()\n",
    "\n",
    "main()\n"
   ]
  },
  {
   "cell_type": "code",
   "execution_count": null,
   "metadata": {},
   "outputs": [],
   "source": [
    "students_file=open('students.txt','w')\n",
    "for i in range(10):\n",
    "    name=input('Enter student name ')\n",
    "    grade=float(input('Enter grade'))\n",
    "    students_file.write(name+'\\n')\n",
    "    students_file.write(str(grade)+'\\n')\n",
    "students_file.close()\n"
   ]
  },
  {
   "cell_type": "markdown",
   "metadata": {},
   "source": [
    "## Exercises\n",
    ">Write a program to opens the file “Students.txt”,  process the data to display the name of the students who has the highest grade. (assume the number of students records is unkown)\n"
   ]
  },
  {
   "cell_type": "code",
   "execution_count": null,
   "metadata": {},
   "outputs": [],
   "source": [
    "\n",
    "def main(filename):\n",
    "    max = 0\n",
    "    file = open(filename, 'r')\n",
    "    name = file.readline().strip('\\n')\n",
    "    while name != '':\n",
    "        grade = float(file.readline().strip('\\n'))\n",
    "        if grade > max:\n",
    "            max = grade\n",
    "        name = file.readline().strip('\\n')\n",
    "    file.close()\n",
    "    return max\n",
    "\n",
    "print(f'max grades among students is {main('students.txt')}')\n",
    "    "
   ]
  },
  {
   "cell_type": "code",
   "execution_count": 3,
   "metadata": {},
   "outputs": [
    {
     "name": "stdout",
     "output_type": "stream",
     "text": [
      "The name of the students with max. grade: Sara\n"
     ]
    }
   ],
   "source": [
    "file=open('students.txt','r')\n",
    "name=file.readline().rstrip('\\n')\n",
    "max=0\n",
    "studentname=name\n",
    "while name!='':\n",
    "    grade=float(file.readline().rstrip('\\n'))\n",
    "    if grade>max:\n",
    "        max=grade\n",
    "        studentname=name\n",
    "    name=file.readline().rstrip('\\n')\n",
    "file.close()\n",
    "print('The name of the students with max. grade:',studentname)\n"
   ]
  },
  {
   "cell_type": "markdown",
   "metadata": {},
   "source": [
    "## Exceptions\n",
    "- Exception: error that occurs while a program is running\n",
    "    - Usually causes program to abruptly halt\n",
    "- Traceback: error message that gives information regarding line numbers that caused the exception\n",
    "    - Indicates the type of exception and brief description of the error that caused exception to be raised\n"
   ]
  },
  {
   "cell_type": "code",
   "execution_count": null,
   "metadata": {},
   "outputs": [],
   "source": [
    "# This program divides a number by another number.\n",
    "\n",
    "def main():\n",
    "    # Get two numbers.\n",
    "    num1 = int(input('Enter a number: '))\n",
    "    num2 = int(input('Enter another number: '))\n",
    "\n",
    "    # Divide num1 by num2 and display the result.\n",
    "    result = num1 / num2\n",
    "    print(num1, 'divided by', num2, 'is', result)\n",
    "\n",
    "main()\t# Call the main function.\n"
   ]
  },
  {
   "cell_type": "code",
   "execution_count": 5,
   "metadata": {},
   "outputs": [
    {
     "ename": "ValueError",
     "evalue": "invalid literal for int() with base 10: 'four'",
     "output_type": "error",
     "traceback": [
      "\u001b[1;31m---------------------------------------------------------------------------\u001b[0m",
      "\u001b[1;31mValueError\u001b[0m                                Traceback (most recent call last)",
      "Cell \u001b[1;32mIn[5], line 16\u001b[0m\n\u001b[0;32m     13\u001b[0m     \u001b[38;5;66;03m# Display the gross pay.\u001b[39;00m\n\u001b[0;32m     14\u001b[0m     \u001b[38;5;28mprint\u001b[39m(\u001b[38;5;124m'\u001b[39m\u001b[38;5;124mGross pay: $\u001b[39m\u001b[38;5;124m'\u001b[39m, \u001b[38;5;28mformat\u001b[39m(gross_pay, \u001b[38;5;124m'\u001b[39m\u001b[38;5;124m,.2f\u001b[39m\u001b[38;5;124m'\u001b[39m), sep\u001b[38;5;241m=\u001b[39m\u001b[38;5;124m'\u001b[39m\u001b[38;5;124m'\u001b[39m)\n\u001b[1;32m---> 16\u001b[0m \u001b[43mmain\u001b[49m\u001b[43m(\u001b[49m\u001b[43m)\u001b[49m\t\u001b[38;5;66;03m# Call the main function\u001b[39;00m\n",
      "Cell \u001b[1;32mIn[5], line 5\u001b[0m, in \u001b[0;36mmain\u001b[1;34m()\u001b[0m\n\u001b[0;32m      3\u001b[0m \u001b[38;5;28;01mdef\u001b[39;00m \u001b[38;5;21mmain\u001b[39m():\n\u001b[0;32m      4\u001b[0m     \u001b[38;5;66;03m# Get the number of hours worked.\u001b[39;00m\n\u001b[1;32m----> 5\u001b[0m     hours \u001b[38;5;241m=\u001b[39m \u001b[38;5;28;43mint\u001b[39;49m\u001b[43m(\u001b[49m\u001b[38;5;28;43minput\u001b[39;49m\u001b[43m(\u001b[49m\u001b[38;5;124;43m'\u001b[39;49m\u001b[38;5;124;43mHow many hours did you work? \u001b[39;49m\u001b[38;5;124;43m'\u001b[39;49m\u001b[43m)\u001b[49m\u001b[43m)\u001b[49m\n\u001b[0;32m      7\u001b[0m     \u001b[38;5;66;03m# Get the hourly pay rate.\u001b[39;00m\n\u001b[0;32m      8\u001b[0m     pay_rate \u001b[38;5;241m=\u001b[39m \u001b[38;5;28mfloat\u001b[39m(\u001b[38;5;28minput\u001b[39m(\u001b[38;5;124m'\u001b[39m\u001b[38;5;124mEnter your hourly pay rate: \u001b[39m\u001b[38;5;124m'\u001b[39m))\n",
      "\u001b[1;31mValueError\u001b[0m: invalid literal for int() with base 10: 'four'"
     ]
    }
   ],
   "source": [
    "# This program calculates gross pay.\n",
    "\n",
    "def main():\n",
    "    # Get the number of hours worked.\n",
    "    hours = int(input('How many hours did you work? '))\n",
    "\n",
    "    # Get the hourly pay rate.\n",
    "    pay_rate = float(input('Enter your hourly pay rate: '))\n",
    "\n",
    "    # Calculate the gross pay.\n",
    "    gross_pay = hours * pay_rate\n",
    "\n",
    "    # Display the gross pay.\n",
    "    print('Gross pay: $', format(gross_pay, ',.2f'), sep='')\n",
    "\n",
    "main()\t# Call the main function"
   ]
  },
  {
   "cell_type": "markdown",
   "metadata": {},
   "source": [
    "- Many exceptions can be prevented by careful coding\n",
    "    - Example: input validation\n",
    "    - Usually involve a simple decision construct\n",
    "- Some exceptions cannot be avoided by careful coding\n",
    "    - Examples \n",
    "        - Trying to convert non-numeric string to an integer\n",
    "        - Trying to open for reading a file that doesn’t exist\n"
   ]
  },
  {
   "cell_type": "code",
   "execution_count": null,
   "metadata": {},
   "outputs": [],
   "source": [
    "# This program divides a number by another number.\n",
    "\n",
    "def main():\n",
    "    # Get two numbers.\n",
    "    num1 = int(input('Enter a number: '))\n",
    "    num2 = int(input('Enter another number: '))\n",
    "\n",
    "    # If num2 is not zero, divide num1 by num2\n",
    "    # and display the result.\n",
    "    if num2 != 0:     \n",
    "        result = num1 / num2\n",
    "        print(num1, 'divided by', num2, 'is', result)\n",
    "    else:\n",
    "        print('Cannot divide by zero.')\n",
    "            \n",
    "main()\t# Call the main function."
   ]
  },
  {
   "cell_type": "code",
   "execution_count": 7,
   "metadata": {},
   "outputs": [
    {
     "name": "stdout",
     "output_type": "stream",
     "text": [
      "ERROR: Hours worked and hourly pay rate must\n",
      "be valid integers.\n"
     ]
    }
   ],
   "source": [
    "# This program calculates gross pay.\n",
    "\n",
    "def main():\n",
    "    try:\n",
    "        # Get the number of hours worked.\n",
    "        hours = int(input('How many hours did you work? '))\n",
    "\n",
    "        # Get the hourly pay rate.\n",
    "        pay_rate = float(input('Enter your hourly pay rate: '))\n",
    "\n",
    "        # Calculate the gross pay.\n",
    "        gross_pay = hours * pay_rate\n",
    "\n",
    "        # Display the gross pay.\n",
    "        print('Gross pay: $', format(gross_pay, ',.2f'), sep='')\n",
    "    except ValueError:\n",
    "        print('ERROR: Hours worked and hourly pay rate must')\n",
    "        print('be valid integers.')\n",
    "\n",
    "main()\t# Call the main function."
   ]
  },
  {
   "cell_type": "markdown",
   "metadata": {},
   "source": [
    "## Exceptions Handling"
   ]
  },
  {
   "cell_type": "code",
   "execution_count": null,
   "metadata": {},
   "outputs": [],
   "source": [
    "# This program displays the contents\n",
    "# of a file.\n",
    "\n",
    "def main():\n",
    "    # Get the name of a file.\n",
    "    filename = input('Enter a filename: ')\n",
    "\n",
    "    # Open the file.\n",
    "    infile = open(filename, 'r')\n",
    "\n",
    "    # Read the file's contents.\n",
    "    contents = infile.read()\n",
    "\n",
    "    # Display the file's contents.\n",
    "    print(contents)\n",
    "\n",
    "    # Close the file.\n",
    "    infile.close()\n",
    "\n",
    "# Call the main function.\n",
    "main()"
   ]
  },
  {
   "cell_type": "code",
   "execution_count": 9,
   "metadata": {},
   "outputs": [
    {
     "name": "stdout",
     "output_type": "stream",
     "text": [
      "[Errno 2] No such file or directory: 'noname.tt'\n"
     ]
    }
   ],
   "source": [
    "# This program displays the contents\n",
    "# of a file.\n",
    "\n",
    "def main():\n",
    "    # Get the name of a file.\n",
    "    filename = input('Enter a filename: ')\n",
    "\n",
    "    try:\n",
    "        # Open the file.\n",
    "        infile = open(filename, 'r')\n",
    "\n",
    "        # Read the file's contents.\n",
    "        contents = infile.read()\n",
    "\n",
    "        # Display the file's contents.\n",
    "        print(contents)\n",
    "\n",
    "        # Close the file.\n",
    "        infile.close()\n",
    "    except IOError as err:\n",
    "        print(err)\n",
    "        # print('An error occurred trying to read')\n",
    "        # print('the file', filename)\n",
    "\n",
    "# Call the main function.\n",
    "main()\n"
   ]
  },
  {
   "cell_type": "markdown",
   "metadata": {},
   "source": [
    "## Exceptions Handling\n",
    "-Exception handler: code that responds when exceptions are raised and prevents program from crashing\n",
    "    -  In Python, written as try/except statement \n",
    "    -  General format:              \n",
    "                           try:\n",
    "                                statements\n",
    "                            except exceptionName:\n",
    "                                statements\n",
    "                            \n",
    "    - Try suite: statements that can potentially raise an exception\n",
    "    - Handler: statements contained in except block\n",
    "\n",
    "- If statement in try suite raises exception: \n",
    "    - Exception specified in except clause:\n",
    "        - Handler immediately following except clause executes\n",
    "        - Continue program after try/except statement\n",
    "    - Other exceptions:\n",
    "        - Program halts with traceback error message\n",
    "\n",
    "- If no exception is raised, handlers are skipped\n"
   ]
  },
  {
   "cell_type": "markdown",
   "metadata": {},
   "source": [
    "## Displaying an Exception’s Default Error Message\n",
    "- Exception object: object created in memory when an exception is thrown\n",
    "    - Usually contains default error message pertaining to the exception\n",
    "    - Can assign the exception object to a variable in an except clause\n",
    "        - Example: \t\texcept ValueError as err:\n",
    "    - Can pass exception object variable to print function to display the default error message\n"
   ]
  },
  {
   "cell_type": "code",
   "execution_count": 8,
   "metadata": {},
   "outputs": [
    {
     "name": "stdout",
     "output_type": "stream",
     "text": [
      "invalid literal for int() with base 10: 'forty'\n"
     ]
    }
   ],
   "source": [
    "# This program calculates gross pay.\n",
    "\n",
    "def main():\n",
    "    try:\n",
    "        # Get the number of hours worked.\n",
    "        hours = int(input('How many hours did you work? '))\n",
    "\n",
    "        # Get the hourly pay rate.\n",
    "        pay_rate = float(input('Enter your hourly pay rate: '))\n",
    "\n",
    "        # Calculate the gross pay.\n",
    "        gross_pay = hours * pay_rate\n",
    "\n",
    "        # Display the gross pay.\n",
    "        print('Gross pay: $', format(gross_pay, ',.2f'), sep='')\n",
    "    except ValueError as err:\n",
    "        print(err)\n",
    "\n",
    "# Call the main function.\n",
    "main()"
   ]
  },
  {
   "cell_type": "markdown",
   "metadata": {},
   "source": [
    "## The else Clause\n",
    "- try/except statement may include an optional else clause, which appears after all the except clauses\n",
    "    - Aligned with try and except clauses\n",
    "    - Syntax similar to else clause in decision structure\n",
    "- Else suite: block of statements executed after statements in try suite, only if no exceptions were raised\n",
    "    - If exception was raised, the else suite is skipped\n"
   ]
  },
  {
   "cell_type": "code",
   "execution_count": 13,
   "metadata": {},
   "outputs": [
    {
     "name": "stdout",
     "output_type": "stream",
     "text": [
      "[Errno 2] No such file or directory: 'sales_.txt'\n",
      "code clean up....\n"
     ]
    }
   ],
   "source": [
    "# This program displays the total of the amounts in the sales_data.txt file.\n",
    "\n",
    "def main():\n",
    "    total = 0.0\t# Initialize an accumulator.\n",
    "        \n",
    "    try:\n",
    "        infile = open('sales_.txt', 'r')     # Open the sales_data.txt file.\n",
    "\n",
    "        for line in infile:\t# Read the values from the file and accumulate them.\n",
    "            amount = float(line)\n",
    "            total += amount\n",
    "\n",
    "        infile.close()\t  # Close the file.\n",
    "    except Exception as err:\n",
    "        print(err)\n",
    "    else:\n",
    "        print(format(total, ',.2f'))\t # Print the total.\n",
    "    finally:\n",
    "            print(\"code clean up....\")\n",
    "        \n",
    "\n",
    "main()\t# Call the main function."
   ]
  },
  {
   "cell_type": "markdown",
   "metadata": {},
   "source": [
    "## The finally Clause\n",
    "- try/except statement may include an optional finally clause, which appears after all the except clauses\n",
    "    - Aligned with try and except clauses\n",
    "    - General format: \t\t\n",
    "           ` finally:\n",
    "                statements`\n",
    "    - Finally suite: block of statements after the  finally clause\n",
    "        - Execute whether an exception occurs or not\n",
    "        - Purpose is to perform cleanup before exiting\n"
   ]
  },
  {
   "cell_type": "markdown",
   "metadata": {},
   "source": [
    "> Example of using finally to cleanup and using nested try statements to spcifiy more the source of error!"
   ]
  },
  {
   "cell_type": "code",
   "execution_count": 15,
   "metadata": {},
   "outputs": [
    {
     "name": "stdout",
     "output_type": "stream",
     "text": [
      "Something went wrong when opening the file\n"
     ]
    },
    {
     "ename": "",
     "evalue": "",
     "output_type": "error",
     "traceback": [
      "\u001b[1;31mThe Kernel crashed while executing code in the current cell or a previous cell. \n",
      "\u001b[1;31mPlease review the code in the cell(s) to identify a possible cause of the failure. \n",
      "\u001b[1;31mClick <a href='https://aka.ms/vscodeJupyterKernelCrash'>here</a> for more info. \n",
      "\u001b[1;31mView Jupyter <a href='command:jupyter.viewOutput'>log</a> for further details."
     ]
    }
   ],
   "source": [
    "# Example of using finally to cleanup!\n",
    "# Try to open and write to a file that is not writable:\n",
    "\n",
    "try:\n",
    "  f = open(\"demofile.txt\")\n",
    "  try:\n",
    "    f.write(\"Ahmed Mohammad\")\n",
    "  except:\n",
    "    print(\"Something went wrong when writing to the file\")\n",
    "  finally:\n",
    "    f.close()\n",
    "except:\n",
    "  print(\"Something went wrong when opening the file\")"
   ]
  },
  {
   "cell_type": "markdown",
   "metadata": {},
   "source": [
    "## What If an Exception Is Not Handled?\n",
    "- Two ways for exception to go unhandled:\n",
    "    - No except clause specifying exception of the right type\n",
    "    - Exception raised outside a try suite\n",
    "\n",
    "- In both cases, exception will cause the program to halt\n",
    "    - Python documentation provides information about exceptions that can be raised by \n",
    "different functions\n"
   ]
  },
  {
   "cell_type": "markdown",
   "metadata": {},
   "source": []
  }
 ],
 "metadata": {
  "kernelspec": {
   "display_name": "Python 3",
   "language": "python",
   "name": "python3"
  },
  "language_info": {
   "codemirror_mode": {
    "name": "ipython",
    "version": 3
   },
   "file_extension": ".py",
   "mimetype": "text/x-python",
   "name": "python",
   "nbconvert_exporter": "python",
   "pygments_lexer": "ipython3",
   "version": "3.12.7"
  }
 },
 "nbformat": 4,
 "nbformat_minor": 2
}
