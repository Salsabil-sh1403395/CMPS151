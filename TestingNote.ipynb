{
 "cells": [
  {
   "cell_type": "markdown",
   "metadata": {},
   "source": [
    "> Ex: \n",
    ">Write a Python program to draw a rectangle that takes two integers as input: the number of rows and the number of columns. \n",
    ">The program should then print a rectangle of asterisks (*) with the specified dimensions.\n",
    "\n",
    "Example: If the input is 4 rows and 5 columns, the output should be:\n",
    "\n",
    "```python\n",
    "*****\n",
    "*****\n",
    "*****\n",
    "*****\n",
    "```"
   ]
  },
  {
   "cell_type": "code",
   "execution_count": null,
   "metadata": {},
   "outputs": [],
   "source": [
    "# Write a Python program to draw a rectangle\n",
    "rows = int(input(\"Enter the number of rows: \"))\n",
    "cols = int(input(\"Enter the number of columns: \"))\n",
    "\n",
    "for i in range(rows):\n",
    "    for j in range(cols):\n",
    "        print('*', end='')\n",
    "    print('')\n",
    "    \n",
    "# for i in range(rows):\n",
    "#         print('*' * cols)\n"
   ]
  },
  {
   "cell_type": "markdown",
   "metadata": {},
   "source": [
    "> Write a Python program that takes an integer input ( n ) and prints a right-angled triangle of symbols with ( n ) rows.\n",
    ">> **Use nested loop**  \n",
    "\n",
    "Example:\n",
    "\n",
    "For ( n = 5 ), the output should be:\n",
    "\n",
    "```python\n",
    "*\n",
    "**\n",
    "***\n",
    "****\n",
    "*****\n",
    "```"
   ]
  },
  {
   "cell_type": "code",
   "execution_count": null,
   "metadata": {},
   "outputs": [],
   "source": [
    "n = int(input(\"Enter the number of rows: \"))\n",
    "\n",
    "for i in range (1, n+1):\n",
    "    for j in range (1, i+1):\n",
    "        print('*', end='')\n",
    "    print('')\n",
    "    "
   ]
  },
  {
   "cell_type": "markdown",
   "metadata": {},
   "source": [
    "> Write a Python program that takes an integer input ( n ) and prints a right-angled triangle of symbols with ( n ) rows.\n",
    ">> **Use only one loop**  \n",
    "\n",
    "Example:\n",
    "\n",
    "For ( n = 5 ), the output should be:\n",
    "\n",
    "```python\n",
    "*\n",
    "**\n",
    "***\n",
    "****\n",
    "*****\n",
    "```"
   ]
  },
  {
   "cell_type": "code",
   "execution_count": null,
   "metadata": {},
   "outputs": [],
   "source": [
    "# Get the number of rows from the user\n",
    "n = int(input(\"Enter the number of rows: \"))\n",
    "\n",
    "# Loop through each row\n",
    "for i in range(1, n + 1):\n",
    "    # Print the symbols for the current row\n",
    "    print('*' * i)"
   ]
  },
  {
   "cell_type": "markdown",
   "metadata": {},
   "source": []
  },
  {
   "cell_type": "markdown",
   "metadata": {},
   "source": [
    "> Write a Python program that prints a middle-aligned triangle of symbols. \n",
    ">>**The height of the triangle should be determined by the user input.**\n",
    "\n",
    "For example, if the user inputs 5, the output should be:\n",
    "\n",
    " ```python\n",
    "     *\n",
    "    ***\n",
    "   *****\n",
    "  *******\n",
    " *********\n",
    " ```"
   ]
  },
  {
   "cell_type": "code",
   "execution_count": 9,
   "metadata": {},
   "outputs": [
    {
     "name": "stdout",
     "output_type": "stream",
     "text": [
      "     @\n",
      "    @@@\n",
      "   @@@@@\n",
      "  @@@@@@@\n",
      " @@@@@@@@@\n"
     ]
    }
   ],
   "source": [
    "# using more than one loop\n",
    "h = (int)(input('Enter n:'))\n",
    "ch = input('Enter char: ')\n",
    "\n",
    "for i in range (h):\n",
    "    for j in range(h-i):\n",
    "        print(' ', end='')\n",
    "    for k in range (2*i+1):\n",
    "        print(ch, end='')\n",
    "    print('')\n",
    "\n",
    "\n",
    "    \n",
    "    "
   ]
  },
  {
   "cell_type": "code",
   "execution_count": null,
   "metadata": {},
   "outputs": [],
   "source": [
    "# using one loop\n",
    "h = (int)(input('Enter n:'))\n",
    "ch = input('Enter char: ')\n",
    "\n",
    "for i in range (h):\n",
    "    spaces = h - i\n",
    "    symbols = 2 * i + 1\n",
    "    print(' ' * spaces + ch * symbols)\n",
    "    \n",
    "    "
   ]
  },
  {
   "cell_type": "code",
   "execution_count": null,
   "metadata": {},
   "outputs": [],
   "source": []
  }
 ],
 "metadata": {
  "kernelspec": {
   "display_name": "Python 3",
   "language": "python",
   "name": "python3"
  },
  "language_info": {
   "codemirror_mode": {
    "name": "ipython",
    "version": 3
   },
   "file_extension": ".py",
   "mimetype": "text/x-python",
   "name": "python",
   "nbconvert_exporter": "python",
   "pygments_lexer": "ipython3",
   "version": "3.12.7"
  }
 },
 "nbformat": 4,
 "nbformat_minor": 2
}
