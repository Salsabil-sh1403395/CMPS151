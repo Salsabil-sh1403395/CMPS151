{
 "cells": [
  {
   "cell_type": "markdown",
   "metadata": {},
   "source": [
    "# Chapter (1): Introduction to Computers and Programming "
   ]
  },
  {
   "cell_type": "markdown",
   "metadata": {},
   "source": []
  },
  {
   "cell_type": "markdown",
   "metadata": {},
   "source": [
    "## Hello World!"
   ]
  },
  {
   "cell_type": "code",
   "execution_count": 6,
   "metadata": {},
   "outputs": [
    {
     "name": "stdout",
     "output_type": "stream",
     "text": [
      "Hello, I am Python!***Hello World\n",
      "Hello*World Hello again\n"
     ]
    }
   ],
   "source": [
    "#This is my first Python Program \n",
    "#this is a comment\n",
    "print('Hello, I am Python!', end='***')\n",
    "\n",
    "# # # defualt print space and newline \n",
    "print('Hello', 'World')\n",
    "\n",
    "# # # modify separator and endline!\n",
    "print('Hello', 'World', sep='*', end=' '    ) \n",
    "print('Hello', \"again\")\n"
   ]
  },
  {
   "cell_type": "code",
   "execution_count": null,
   "metadata": {},
   "outputs": [],
   "source": [
    "#check version\n",
    "import sys\n",
    "print(sys.version)\n",
    "\n",
    "\n",
    "print(\"Hello, This is Python!!\")\n",
    "\n",
    "# play with separators\n",
    "print(\"Hello\", \"world\", sep=\"*\", end=';')\n",
    "print(\"Hello\",\"world\", )\n"
   ]
  },
  {
   "cell_type": "markdown",
   "metadata": {},
   "source": [
    "### Challenges\n",
    "Write an algorithm to calculate the area of a circle\n",
    "\n",
    "Input: Read the radius of the circle .\n",
    "Process: Calculate the area using the formula: Area=π×r2\n",
    "Output: Display the calculated area.\n",
    "\n",
    "\n"
   ]
  },
  {
   "cell_type": "code",
   "execution_count": null,
   "metadata": {},
   "outputs": [],
   "source": [
    "import math\n",
    "# Input: radius of the circle \n",
    "radius = float(input(\"Enter the radius of the circle: \")) \n",
    "# Calculate the area \n",
    "area = math.pi * radius ** 2\n",
    "# Output the area \n",
    "print(f\"The area of the circle with radius {radius} is {area:.2f}\")"
   ]
  },
  {
   "cell_type": "markdown",
   "metadata": {},
   "source": [
    "## Sum two numbers (implement flowchart)"
   ]
  },
  {
   "cell_type": "code",
   "execution_count": null,
   "metadata": {},
   "outputs": [],
   "source": [
    "# add two numbers first version!\n",
    "x = 5\n",
    "y = 3\n",
    "\n",
    "### Processing\n",
    "sum = x + y  # total\n",
    "avg = sum /2 # average\n",
    "\n",
    "# Output\n",
    "print (\"sum is : {x + y}\")  # what's is the output?\n",
    "print (f\"sum is : {x + y}\") # what's the output in this case?"
   ]
  },
  {
   "cell_type": "code",
   "execution_count": null,
   "metadata": {},
   "outputs": [],
   "source": [
    "# Add two numbers 2nd version\n",
    "### Input\n",
    "n1 = input (\"input number 1: \")\n",
    "n2 = input (\"enter number 2: \")\n",
    "\n",
    "# Processing\n",
    "sum =int (n1) + int (n2)\n",
    "avg = sum / 2\n",
    "\n",
    "# output v1\n",
    "print(\"totol is: \", sum)\n",
    "print(\"average is: \", avg)\n",
    "\n",
    "#output v2\n",
    "print(f\"total of {n1} + {n2} is {sum}\")\n",
    "print(f\"average of {n1} + {n2} is {avg}\")\n",
    "\n",
    "# Simple output (with Unicode)\n",
    "# print(\"Hello, I'm Python!\")\n",
    "\n",
    "# Input, assignment\n",
    "# name = input('What is your name?\\n')\n",
    "# print(f'Hi, {name}.')\n",
    "# print(name)\n",
    "# print(\"Hi, \" + name + \".\")"
   ]
  },
  {
   "cell_type": "code",
   "execution_count": null,
   "metadata": {},
   "outputs": [],
   "source": []
  }
 ],
 "metadata": {
  "kernelspec": {
   "display_name": "Python 3",
   "language": "python",
   "name": "python3"
  },
  "language_info": {
   "codemirror_mode": {
    "name": "ipython",
    "version": 3
   },
   "file_extension": ".py",
   "mimetype": "text/x-python",
   "name": "python",
   "nbconvert_exporter": "python",
   "pygments_lexer": "ipython3",
   "version": "3.12.10"
  }
 },
 "nbformat": 4,
 "nbformat_minor": 2
}
