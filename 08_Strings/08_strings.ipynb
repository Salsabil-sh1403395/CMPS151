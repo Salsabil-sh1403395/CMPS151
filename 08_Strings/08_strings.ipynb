{
 "cells": [
  {
   "cell_type": "markdown",
   "metadata": {},
   "source": [
    "# Chapter (8): More About Strings"
   ]
  },
  {
   "cell_type": "markdown",
   "metadata": {},
   "source": []
  },
  {
   "cell_type": "markdown",
   "metadata": {},
   "source": [
    ">Gas Price Problem from textbook"
   ]
  },
  {
   "cell_type": "markdown",
   "metadata": {},
   "source": [
    "In the student sample program files for this chapter, you will find a text file named GasPrices.txt. The file contains the weekly average prices for a gallon of gas in the United States, beginning on April 5th, 1993, and ending on August 26th, 2013. Figure 8-7 shows an example of the first few lines of the file’s contents: Figure 8-8\n",
    "\n",
    "Each line in the file contains the average price for a gallon of gas on a specific date. Each line is formatted in the following way:\n",
    "\n",
    "MM-DD-YYYY:Price\n",
    "\n",
    "MM is the two-digit month, DD is the two-digit day, and YYYY is the four-digit year. Price is the average price per gallon of gas on the specified date.\n",
    "For this assignment, you are to write one or more programs that read the contents of the file and perform the following calculations:\n",
    "\n",
    "- Average Price Per Year: Calculate the average price of gas per year, for each year in the file. (The file’s data starts in April of 1993, and it ends in August 2013. Use the data that is present for the years 1993 and 2013.)\n",
    "\n",
    "- Average Price Per Month: Calculate the average price for each month in the file.\n",
    "\n",
    "- Highest and Lowest Prices Per Year: For each year in the file, determine the date and amount for the lowest price, and the highest price.\n",
    "\n",
    "- List of Prices, Lowest to Highest: Generate a text file that lists the dates and prices, sorted from the lowest price to the highest.\n",
    "\n",
    "- List of Prices, Highest to lowest: Generate a text file that lists the dates and prices, sorted from the highest price to the lowest.\n",
    "\n",
    "You can write one program to perform all of these calculations, or you can write different programs, one for each calculation.\n",
    "\n"
   ]
  },
  {
   "cell_type": "markdown",
   "metadata": {},
   "source": []
  }
 ],
 "metadata": {
  "language_info": {
   "name": "python"
  }
 },
 "nbformat": 4,
 "nbformat_minor": 2
}
