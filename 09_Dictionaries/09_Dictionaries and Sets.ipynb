{
 "cells": [
  {
   "cell_type": "markdown",
   "metadata": {},
   "source": [
    "# Chapter (9): Dictionaries and Sets"
   ]
  },
  {
   "cell_type": "markdown",
   "metadata": {},
   "source": [
    "## Dictionary\n",
    "- A dictionary is an object that stores a collection of data. \n",
    "- Each element in a dictionary has two parts: a key and a value. \n",
    "- A dictionary is a collection which is ordered*, changeable and do not allow duplicates.\n",
    "\n",
    "- **As of Python version 3.7, dictionaries are ordered. In Python 3.6 and earlier, dictionaries are unordered.**"
   ]
  },
  {
   "cell_type": "markdown",
   "metadata": {},
   "source": [
    "`dictionary = {key1:val1, key2:val2,….}`"
   ]
  },
  {
   "cell_type": "code",
   "execution_count": 1,
   "metadata": {},
   "outputs": [
    {
     "name": "stdout",
     "output_type": "stream",
     "text": [
      "{'Salem': '555−1111', 'Salema': '555−2222', 'Ahmed': '555−3333'}\n"
     ]
    }
   ],
   "source": [
    "phonebook = {'Salem':'555−1111', 'Salema':'555−2222', 'Ahmed':'555−3333'}\n",
    "print(phonebook)"
   ]
  },
  {
   "cell_type": "markdown",
   "metadata": {},
   "source": [
    "> Retrieving a Value from a Dictionary\n",
    "- Elements in dictionary are unsorted.\n",
    "- To retrieve a value from dictionary: \n",
    "dictionary[key]\n",
    "\n",
    "\n"
   ]
  },
  {
   "cell_type": "code",
   "execution_count": 7,
   "metadata": {},
   "outputs": [
    {
     "name": "stdout",
     "output_type": "stream",
     "text": [
      "'Ali'\n",
      "continue\n"
     ]
    }
   ],
   "source": [
    "try:\n",
    "    phonebook = {'Salem':'555−1111', 'Salema':'555−2222', 'Ahmed':'555−3333'}\n",
    "    # print(phonebook['Ahmed'])\n",
    "    print(phonebook['Ali'])\n",
    "except Exception as err:\n",
    "    print(err)\n",
    "    \n",
    "print('continue')"
   ]
  },
  {
   "cell_type": "markdown",
   "metadata": {},
   "source": [
    "> Using in and not  in operators with Dictionaries, and len function. \n"
   ]
  },
  {
   "cell_type": "code",
   "execution_count": 8,
   "metadata": {},
   "outputs": [
    {
     "name": "stdout",
     "output_type": "stream",
     "text": [
      "Not Fount!\n",
      "3\n"
     ]
    }
   ],
   "source": [
    "phonebook = {'Salem':'555−1111', 'Salema':'555−2222', 'Ahmed':'555−3333'}\n",
    "if 'Ali' in phonebook:\n",
    "    print('Found')\n",
    "else:\n",
    "    print('Not Fount!')\n",
    "    \n",
    "print(len(phonebook))\n"
   ]
  },
  {
   "cell_type": "markdown",
   "metadata": {},
   "source": [
    "> Adding Elements to an Existing Dictionary\n",
    "- Dictionaries are **mutable** objects\n",
    "- To add a new key-value pair:\n",
    "                `dictionary[key] = value`\n",
    "    - If key exists in the dictionary, the value associated with it will be changed.\n"
   ]
  },
  {
   "cell_type": "code",
   "execution_count": 10,
   "metadata": {},
   "outputs": [
    {
     "name": "stdout",
     "output_type": "stream",
     "text": [
      "{'Ahmed': 90, 'Khaled': 55, 'Sara': 78, 'Nouf': 99}\n",
      "{'Ahmed': 80, 'Khaled': 55, 'Sara': 78, 'Nouf': 99}\n"
     ]
    }
   ],
   "source": [
    "grades={'Ahmed':90,'Khaled':55,'Sara':78}\n",
    "grades['Nouf']= 99\n",
    "print(grades)\n",
    "grades['Ahmed']=80\n",
    "print(grades)"
   ]
  },
  {
   "cell_type": "markdown",
   "metadata": {},
   "source": [
    "> Deleting Elements From an Existing Dictionary\n",
    "- To delete a key-value pair:\n",
    "            `del dictionary[key]`\n",
    "    - If key is not in the dictionary, KeyError exception is raised\n"
   ]
  },
  {
   "cell_type": "code",
   "execution_count": 11,
   "metadata": {},
   "outputs": [
    {
     "name": "stdout",
     "output_type": "stream",
     "text": [
      "{'Ahmed': 90, 'Sara': 78}\n"
     ]
    }
   ],
   "source": [
    "grades={'Ahmed':90,'Khaled':55,'Sara':78}\n",
    "del grades['Khaled']\n",
    "print(grades)\n"
   ]
  },
  {
   "cell_type": "markdown",
   "metadata": {},
   "source": [
    "> Mixing Data Types\n",
    "- The values of a dictionary can be of any type, but the keys must be of an immutable data type such as strings, numbers, or tuples.\n",
    "- One dictionary can include keys of several different immutable types.\n",
    "- Values stored in a single dictionary can be of different types\n"
   ]
  },
  {
   "cell_type": "code",
   "execution_count": 12,
   "metadata": {},
   "outputs": [
    {
     "name": "stdout",
     "output_type": "stream",
     "text": [
      "{'Ahmed': [90, 89, 79], 'Khaled': [55, 66, 73]}\n",
      "{'abc': 1, 999: 'yada yada', (3, 6, 9): [3, 6, 9]}\n"
     ]
    }
   ],
   "source": [
    "grades={'Ahmed':[90,89,79],'Khaled':[55,66,73]}\n",
    "print(grades)\n",
    "mixed_up = {'abc':1, 999:'yada yada', (3, 6, 9):[3, 6, 9]}\n",
    "print(mixed_up)"
   ]
  },
  {
   "cell_type": "code",
   "execution_count": 13,
   "metadata": {},
   "outputs": [
    {
     "name": "stdout",
     "output_type": "stream",
     "text": [
      "{'brand': 'Ford', 'electric': False, 'year': 1964, 'colors': ['red', 'white', 'blue']}\n"
     ]
    }
   ],
   "source": [
    "carsdict = {\n",
    "  \"brand\": \"Ford\",\n",
    "  \"electric\": False,\n",
    "  \"year\": 1964,\n",
    "  \"colors\": [\"red\", \"white\", \"blue\"]\n",
    "}\n",
    "print(carsdict)"
   ]
  },
  {
   "cell_type": "markdown",
   "metadata": {},
   "source": [
    "> Creating an Empty Dictionary\n",
    "- To create an empty dictionary:\n",
    "    - Use {}\n",
    "    - Use built-in function dict() (Constructor)\n",
    "    - Elements can be added to the dictionary as program executes\n"
   ]
  },
  {
   "cell_type": "code",
   "execution_count": 14,
   "metadata": {},
   "outputs": [
    {
     "name": "stdout",
     "output_type": "stream",
     "text": [
      "{}\n",
      "{'Ahmed': 89}\n"
     ]
    }
   ],
   "source": [
    "grades = {}\n",
    "print(grades)\n",
    "grades['Ahmed']=89\n",
    "print(grades)\n"
   ]
  },
  {
   "cell_type": "code",
   "execution_count": null,
   "metadata": {},
   "outputs": [
    {
     "name": "stdout",
     "output_type": "stream",
     "text": [
      "{}\n",
      "{'Ahmed': 89}\n",
      "{'brand': 'Nissan', 'year': 2024, 'color': 'red'}\n"
     ]
    }
   ],
   "source": [
    "# grades = dict()\n",
    "# print(grades)\n",
    "# grades['Ahmed']= 89\n",
    "# print(grades)\n",
    "\n",
    "carsdict = dict(brand = 'Nissan', year = 2024, color = 'red')\n",
    "print(carsdict)"
   ]
  },
  {
   "cell_type": "markdown",
   "metadata": {},
   "source": [
    "> Using for Loop to Iterate Over a Dictionary\n"
   ]
  },
  {
   "cell_type": "code",
   "execution_count": 20,
   "metadata": {},
   "outputs": [
    {
     "name": "stdout",
     "output_type": "stream",
     "text": [
      "Ahmed\n",
      "Khaled\n",
      "Sara\n",
      "[90, 89, 79]\n",
      "55\n",
      "78\n",
      "Ahmed:[90, 89, 79]\n",
      "Khaled:55\n",
      "Sara:78\n"
     ]
    }
   ],
   "source": [
    "# Print all key names in the dictionary, one by one:\n",
    "grades={'Ahmed':[90,89,79],'Khaled':55,'Sara':78}\n",
    "for x in grades: # for each key\n",
    "    print(x) \n",
    "    \n",
    "# Print all values in the dictionary, one by one:\n",
    "for y in grades:\n",
    "    print(grades[y])\n",
    "\n",
    "# Print all keys and valuse in the dictionary, one by one:\n",
    "for y in grades:\n",
    "    print(f'{y}:{grades[y]}')\n"
   ]
  },
  {
   "cell_type": "markdown",
   "metadata": {},
   "source": [
    "> Some Dictionary Methods\n",
    "- Method\tDescription\n",
    "- clear()\tRemoves all the elements from the dictionary\n",
    "- copy()\tReturns a copy of the dictionary\n",
    "- fromkeys()\tReturns a dictionary with the specified keys and value\n",
    "- get()\tReturns the value of the specified key\n",
    "- items()\tReturns a list containing a tuple for each key value pair\n",
    "- keys()\tReturns a list containing the dictionary's keys\n",
    "- pop()\tRemoves the element with the specified key\n",
    "- popitem()\tRemoves the last inserted key-value pair\n",
    "- setdefault()\tReturns the value of the specified key. If the key does not - exist: insert the key, with the specified value\n",
    "- update()\tUpdates the dictionary with the specified key-value pairs\n",
    "- values()\tReturns a list of all the values in the dictionary"
   ]
  },
  {
   "cell_type": "code",
   "execution_count": 26,
   "metadata": {},
   "outputs": [
    {
     "name": "stdout",
     "output_type": "stream",
     "text": [
      "{}\n",
      "\n",
      " get() Method\n",
      "78\n",
      "Ha Ha Ha Not found\n",
      "\n",
      " items Method\n",
      "dict_items([('Ahmed', [90, 89, 79]), ('Khaled', 55), ('Sara', 78)])\n",
      "Ahmed [90, 89, 79]\n",
      "Khaled 55\n",
      "Sara 78\n",
      "\n",
      " keys Method\n",
      "dict_keys(['Ahmed', 'Khaled', 'Sara'])\n",
      "Ahmed\n",
      "Khaled\n",
      "Sara\n",
      "\n",
      " values Method\n",
      "dict_values([[90, 89, 79], 55, 78])\n",
      "[90, 89, 79]\n",
      "55\n",
      "78\n"
     ]
    }
   ],
   "source": [
    "# clear method: deletes all the elements in a dictionary \n",
    "grades={'Ahmed':[90,89,79],'Khaled':55,'Sara':78}\n",
    "grades.clear()\n",
    "print(grades)\n",
    "\n",
    "# get method: gets a value associated with specified key from the dictionary\n",
    "# Format: dictionary.get(key, default)\n",
    "    ## default is returned if key is not found\n",
    "print('\\n get() Method')\n",
    "grades={'Ahmed':[90,89,79],'Khaled':55,'Sara':78}\n",
    "x = grades.get('Sara','Not found')\n",
    "print(x)\n",
    "y = grades.get('Nouf','Ha Ha Ha Not found')\n",
    "print(y)\n",
    "\n",
    "#items method: returns all the dictionaries keys and associated values\n",
    "    # Format: dictionary.items()\n",
    "# Returned as a dictionary view\n",
    "    # Each element in dictionary view is a tuple which contains a key and its associated value\n",
    "    # Use a for loop to iterate over the tuples in the sequence\n",
    "    # Can use a variable which receives a tuple, or can use two variables which receive key and value\n",
    "print('\\n items Method')\n",
    "grades={'Ahmed':[90,89,79],'Khaled':55,'Sara':78}\n",
    "x = grades.items()\n",
    "print(x)\n",
    "for k,v in x:\n",
    "    print(k,v)\n",
    "\n",
    "# keys method: returns all the dictionaries keys as a sequence\n",
    "print('\\n keys Method')\n",
    "grades={'Ahmed':[90,89,79],'Khaled':55,'Sara':78}\n",
    "x = grades.keys()\n",
    "print(x)\n",
    "for k in x:\n",
    "    print(k)\n",
    "    \n",
    "# values method: returns all the dictionaries values as a sequence\n",
    "print('\\n values Method')\n",
    "grades={'Ahmed':[90,89,79],'Khaled':55,'Sara':78}\n",
    "x = grades.values()\n",
    "print(x)\n",
    "for v in x:\n",
    "    print(v)\n",
    "\n"
   ]
  },
  {
   "cell_type": "markdown",
   "metadata": {},
   "source": [
    "> pop\n",
    "- pop method: returns value associated with specified key and removes that key-value pair from the dictionary\n",
    "- Format: dictionary.pop(key, default)\n",
    "    - default is returned if key is not found"
   ]
  },
  {
   "cell_type": "code",
   "execution_count": null,
   "metadata": {},
   "outputs": [
    {
     "name": "stdout",
     "output_type": "stream",
     "text": [
      "Not found\n",
      "{'Ahmed': [90, 89, 79], 'Khaled': 55, 'Sara': 78}\n"
     ]
    }
   ],
   "source": [
    "grades={'Ahmed':[90,89,79],'Khaled':55,'Sara':78}\n",
    "x = grades.pop('Khaled','Not found')\n",
    "print(x)\n",
    "print(grades)\n"
   ]
  },
  {
   "cell_type": "markdown",
   "metadata": {},
   "source": [
    "> popitem\n",
    "- popitem method: Removes the last inserted key-value pair\n",
    "    - Format: dictionary.popitem()"
   ]
  },
  {
   "cell_type": "code",
   "execution_count": 5,
   "metadata": {},
   "outputs": [
    {
     "name": "stdout",
     "output_type": "stream",
     "text": [
      "('Sara', 78)\n",
      "('Khaled', 55)\n",
      "{'Ahmed': [90, 89, 79]}\n"
     ]
    }
   ],
   "source": [
    "grades={'Ahmed':[90,89,79],'Khaled':55,'Sara':78}\n",
    "x = grades.popitem()\n",
    "print(x)\n",
    "x = grades.popitem()\n",
    "print(x)\n",
    "print(grades)\n"
   ]
  },
  {
   "cell_type": "markdown",
   "metadata": {},
   "source": [
    "### Exercise\n",
    "Write a function that receives a dictionary contains employees’ names and their salaries. The function will remove all employees whose salaries greater than 6000. Call the function. \n",
    "\n"
   ]
  },
  {
   "cell_type": "code",
   "execution_count": 27,
   "metadata": {},
   "outputs": [
    {
     "name": "stdout",
     "output_type": "stream",
     "text": [
      "{'Ahmed': 4000, 'Naser': 6500, 'Sara': 7000}\n",
      "{'Ahmed': 4000}\n"
     ]
    }
   ],
   "source": [
    "def remove_emp (emp_dict):\n",
    "    tmp = []\n",
    "    \n",
    "    for k,v in emp_dict.items():\n",
    "        if v > 6000:\n",
    "            tmp.append(k)\n",
    "            \n",
    "    for i in range (len(tmp)):\n",
    "        del emp_dict[tmp[i]]\n",
    "\n",
    "\n",
    "def main():\n",
    "    employees = {'Ahmed': 4000, 'Naser': 6500, 'Sara':7000}\n",
    "    print(employees)\n",
    "    remove_emp (employees)\n",
    "    print(employees)\n",
    "    \n",
    "main()\n",
    "    "
   ]
  },
  {
   "cell_type": "code",
   "execution_count": null,
   "metadata": {},
   "outputs": [],
   "source": [
    "# Write a function that receives a dictionary contains employees’ names and their salaries. \n",
    "# The function will remove all employees whose salaries greater than 6000. Call the function. \n",
    "def remove (employeesdict):\n",
    "    tmp = [] # list of keys\n",
    "    \n",
    "    for k, v in employeesdict.items():\n",
    "        if v > 6000:\n",
    "            tmp.append(k)\n",
    "    for i in range (len(tmp)):\n",
    "        del employeesdict[tmp[i]]\n",
    "        \n",
    "    \n",
    "def main():\n",
    "    employees={'Ahmed':5000,'Naser':7800,'Sara':6500}\n",
    "    print(employees)\n",
    "    remove(employees)\n",
    "    print(employees)\n",
    "    \n",
    "main()"
   ]
  },
  {
   "cell_type": "markdown",
   "metadata": {},
   "source": [
    "## Sets"
   ]
  },
  {
   "cell_type": "markdown",
   "metadata": {},
   "source": [
    ">A set is a collection which is unordered, unchangeable*, and unindexed.  \n",
    "    >> Set: object that stores a collection of data in same way as mathematical set\n",
    "- All items must be unique\n",
    "- Set is unordered\n",
    "- Elements can be of different data types\n",
    "set function: used to create a set\n",
    "- For empty set, call set()\n",
    "    - If argument is a string, each character becomes a set element\n",
    "    - If argument contains duplicates, only one of the duplicates will appear in the set\n"
   ]
  },
  {
   "cell_type": "code",
   "execution_count": 1,
   "metadata": {},
   "outputs": [
    {
     "name": "stdout",
     "output_type": "stream",
     "text": [
      "{'cherry', 'apple', 'banana'}\n",
      "{'aabc'}\n"
     ]
    }
   ],
   "source": [
    "thisset = set((\"apple\", \"banana\", \"cherry\", 'apple')) # note the double round-brackets\n",
    "print(thisset)\n",
    "\n",
    "thisset = {'aabc'}\n",
    "print(thisset)"
   ]
  },
  {
   "cell_type": "markdown",
   "metadata": {},
   "source": [
    "> For set of strings, pass them to the function as a list\n"
   ]
  },
  {
   "cell_type": "code",
   "execution_count": null,
   "metadata": {},
   "outputs": [],
   "source": [
    "x = set('one','two','three') #Error\n",
    "print(x)"
   ]
  },
  {
   "cell_type": "code",
   "execution_count": null,
   "metadata": {},
   "outputs": [],
   "source": [
    "x = set(['one','two','three'])\n",
    "print(x)\n"
   ]
  },
  {
   "cell_type": "markdown",
   "metadata": {},
   "source": [
    ">Getting the Number of and Adding Elements"
   ]
  },
  {
   "cell_type": "code",
   "execution_count": 10,
   "metadata": {},
   "outputs": [
    {
     "name": "stdout",
     "output_type": "stream",
     "text": [
      "3\n",
      "4\n",
      "{'three', 'two', 'four', 'one'}\n"
     ]
    }
   ],
   "source": [
    "x=set(['one','two','three'])\n",
    "print(len(x))\n",
    "x.add('four')\n",
    "print(len(x))\n",
    "print(x)\n"
   ]
  },
  {
   "cell_type": "markdown",
   "metadata": {},
   "source": [
    ">Adding elements using Updating"
   ]
  },
  {
   "cell_type": "code",
   "execution_count": null,
   "metadata": {},
   "outputs": [],
   "source": [
    "x = set([1,3,5])\n",
    "x.update([2,9])\n",
    "print(x)\n",
    "y = set([4,7])\n",
    "x.update(y)\n",
    "print(x)\n",
    "\n"
   ]
  },
  {
   "cell_type": "markdown",
   "metadata": {},
   "source": [
    "> Deleting Elements From a Set\n",
    "- remove and discard methods: remove the specified item from the set\n",
    "    - The item that should be removed is passed to both methods as an argument\n",
    "    - Behave differently when the specified item is not found in the set\n",
    "        - remove method raises a KeyError exception\n",
    "        - discard method does not raise an exception\n",
    "- clear method: clears all the elements of the set\n",
    "        \n"
   ]
  },
  {
   "cell_type": "code",
   "execution_count": 11,
   "metadata": {},
   "outputs": [
    {
     "name": "stdout",
     "output_type": "stream",
     "text": [
      "{1, 5}\n"
     ]
    }
   ],
   "source": [
    "x = set([1,3,5])\n",
    "x.remove(3)\n",
    "print(x)\n",
    "\n",
    "# delete the set completely\n",
    "del x"
   ]
  },
  {
   "cell_type": "markdown",
   "metadata": {},
   "source": [
    "> Using the for Loop, in, and not in Operators With a Set"
   ]
  },
  {
   "cell_type": "code",
   "execution_count": 12,
   "metadata": {},
   "outputs": [
    {
     "name": "stdout",
     "output_type": "stream",
     "text": [
      "1\n",
      "3\n",
      "5\n"
     ]
    }
   ],
   "source": [
    "thisset = set([1,3,5])\n",
    "for x in thisset:\n",
    "    print(x)"
   ]
  },
  {
   "cell_type": "markdown",
   "metadata": {},
   "source": [
    ">Sets Operations \n",
    "- add()\t \tAdds an element to the set\n",
    "- clear()\t \tRemoves all the elements from the set\n",
    "- copy()\t \tReturns a copy of the set\n",
    "- difference()\t-\tReturns a set containing the difference between two or more sets\n",
    "- difference_update()\t-=\tRemoves the items in this set that are also included in another, specified set\n",
    "- discard()\t \tRemove the specified item\n",
    "- intersection()\t&\tReturns a set, that is the intersection of two other sets\n",
    "- intersection_update()\t&=\tRemoves the items in this set that are not present in other, specified set(s)\n",
    "- isdisjoint()\t \tReturns whether two sets have a intersection or not\n",
    "- issubset()\t<=\tReturns whether another set contains this set or not\n",
    " \t- <\tReturns whether all items in this set is present in other, specified set(s)\n",
    "- issuperset()\t>=\tReturns whether this set contains another set or not\n",
    " \t- \\>\tReturns whether all items in other, specified set(s) is present in this set\n",
    "- pop()\t \tRemoves an element from the set\n",
    "- remove()\t \tRemoves the specified element\n",
    "- symmetric_difference()\t^\tReturns a set with the symmetric differences of two sets\n",
    "- symmetric_difference_update()\t^=\tInserts the symmetric differences from this set and another\n",
    "- union()\t|\tReturn a set containing the union of sets\n",
    "- update()\t|=\tUpdate the set with the union of this set and others"
   ]
  },
  {
   "cell_type": "markdown",
   "metadata": {},
   "source": [
    "> Join \n",
    "- ou can use the | operator instead of the union() method, and you will get the same result."
   ]
  },
  {
   "cell_type": "code",
   "execution_count": 14,
   "metadata": {},
   "outputs": [
    {
     "name": "stdout",
     "output_type": "stream",
     "text": [
      "{1, 2, 3, 'a', 'c', 'b'}\n",
      "{1, 2, 3, 'a', 'c', 'b'}\n"
     ]
    }
   ],
   "source": [
    "set1 = {\"a\", \"b\", \"c\"}\n",
    "set2 = {1, 2, 3}\n",
    "\n",
    "set3 = set1 | set2\n",
    "set4 = set1.union(set2)\n",
    "print(set3)\n",
    "print(set4)"
   ]
  },
  {
   "cell_type": "markdown",
   "metadata": {},
   "source": [
    "- Join multiple sets with the union() method:"
   ]
  },
  {
   "cell_type": "code",
   "execution_count": null,
   "metadata": {},
   "outputs": [],
   "source": [
    "set1 = {\"a\", \"b\", \"c\"}\n",
    "set2 = {1, 2, 3}\n",
    "set3 = {\"John\", \"Elena\"}\n",
    "set4 = {\"apple\", \"bananas\", \"cherry\"}\n",
    "\n",
    "myset = set1.union(set2, set3, set4)\n",
    "print(myset)"
   ]
  },
  {
   "cell_type": "markdown",
   "metadata": {},
   "source": [
    "> `Difference"
   ]
  },
  {
   "cell_type": "markdown",
   "metadata": {},
   "source": [
    "`Difference of two sets: a set that contains the elements that appear in the first set but do not appear in the second set\n",
    "To find the difference of two sets:\n",
    "Use the difference method\n",
    "Format: set1.difference(set2)\n",
    "Use the - operator\n",
    "Format: set1 - set2`"
   ]
  },
  {
   "cell_type": "code",
   "execution_count": 16,
   "metadata": {},
   "outputs": [
    {
     "name": "stdout",
     "output_type": "stream",
     "text": [
      "{1, 3}\n",
      "{4}\n"
     ]
    }
   ],
   "source": [
    "x = set([1,3,5])\n",
    "y = set([4,5])\n",
    "z = x.difference(y)\n",
    "w = y.difference(x)\n",
    "print(z)\n",
    "print(w)\n"
   ]
  },
  {
   "cell_type": "code",
   "execution_count": null,
   "metadata": {},
   "outputs": [],
   "source": [
    "x=set([1,3,5])\n",
    "y=set([4,5])\n",
    "z=x-y\n",
    "print(z)\n"
   ]
  },
  {
   "cell_type": "markdown",
   "metadata": {},
   "source": [
    "> intersection"
   ]
  },
  {
   "cell_type": "markdown",
   "metadata": {},
   "source": [
    "- Intersection of two sets: a set that contains only the elements found in both sets\n",
    "- To find the intersection of two sets:\n",
    "    - Use the intersection method\n",
    "     - Format: set1.intersection(set2)\n",
    "    - Use the & operator\n",
    "        - Format: set1 & set2\n",
    "    - Both techniques return a new set which contains the intersection of both sets\n"
   ]
  },
  {
   "cell_type": "code",
   "execution_count": 17,
   "metadata": {},
   "outputs": [
    {
     "name": "stdout",
     "output_type": "stream",
     "text": [
      "{5}\n"
     ]
    }
   ],
   "source": [
    "x=set([1,3,5])\n",
    "y=set([4,5])\n",
    "z = x.intersection(y)\n",
    "print(z)"
   ]
  },
  {
   "cell_type": "code",
   "execution_count": null,
   "metadata": {},
   "outputs": [],
   "source": [
    "x=set([1,3,5])\n",
    "y=set([4,5])\n",
    "z=x & y\n",
    "print(z)"
   ]
  },
  {
   "cell_type": "markdown",
   "metadata": {},
   "source": [
    "- The intersection_update() method will also keep ONLY the duplicates, but it will change the original set instead of returning a new set"
   ]
  },
  {
   "cell_type": "code",
   "execution_count": 18,
   "metadata": {},
   "outputs": [
    {
     "name": "stdout",
     "output_type": "stream",
     "text": [
      "{'apple'}\n"
     ]
    }
   ],
   "source": [
    "set1 = {\"apple\", \"banana\", \"cherry\"}\n",
    "set2 = {\"google\", \"microsoft\", \"apple\"}\n",
    "\n",
    "set1.intersection_update(set2)\n",
    "\n",
    "print(set1)"
   ]
  },
  {
   "cell_type": "markdown",
   "metadata": {},
   "source": [
    "> Symmetric Difference\n",
    "- Symmetric difference of two sets: a set that contains the elements that are not shared by the two sets\n",
    "- To find the symmetric difference of two sets:\n",
    "    - Use the symmetric_difference method\n",
    "        - Format: set1.symmetric_difference(set2)\n",
    "    - Use the ^ operator\n",
    "        - Format: set1 ^ set2\n"
   ]
  },
  {
   "cell_type": "code",
   "execution_count": 19,
   "metadata": {},
   "outputs": [
    {
     "name": "stdout",
     "output_type": "stream",
     "text": [
      "{1, 3, 4}\n"
     ]
    }
   ],
   "source": [
    "x=set([1,3,5])\n",
    "y=set([4,5])\n",
    "z = x.symmetric_difference(y)\n",
    "print(z)\n"
   ]
  },
  {
   "cell_type": "code",
   "execution_count": null,
   "metadata": {},
   "outputs": [],
   "source": [
    "x=set([1,3,5])\n",
    "y=set([4,5])\n",
    "z=x^y\n",
    "print(z)"
   ]
  },
  {
   "cell_type": "markdown",
   "metadata": {},
   "source": [
    "> Finding Subsets and Supersets\n",
    "- Set A is subset of set B if all the elements in set A are included in set B\n",
    "- To determine whether set A is subset of set B\n",
    "    - Use the issubset method \n",
    "        - Format: setA.issubset(setB)\n",
    "    - Use the <= operator \n",
    "        - Format: setA <= setB\n"
   ]
  },
  {
   "cell_type": "code",
   "execution_count": 21,
   "metadata": {},
   "outputs": [
    {
     "name": "stdout",
     "output_type": "stream",
     "text": [
      "True\n",
      "True\n"
     ]
    }
   ],
   "source": [
    "a = set([1,3,5])\n",
    "b = set([5,1])\n",
    "result = b.issubset(a)\n",
    "print(result)\n",
    "\n",
    " # or you can use <=\n",
    "a = set([1,3,5])\n",
    "b = set([5,1])\n",
    "result = b <= a\n",
    "print(result)"
   ]
  },
  {
   "cell_type": "markdown",
   "metadata": {},
   "source": [
    "- Set A is superset of set B if it contains all the elements of set B\n",
    "- To determine whether set A is superset of set B\n",
    "    - Use the issuperset method\n",
    "        - Format: setA.issuperset(setB)\n",
    "    - Use the >= operator \n",
    "        - Format: setA >= setB\n"
   ]
  },
  {
   "cell_type": "code",
   "execution_count": 24,
   "metadata": {},
   "outputs": [
    {
     "name": "stdout",
     "output_type": "stream",
     "text": [
      "False\n",
      "True\n"
     ]
    }
   ],
   "source": [
    "a = set([1,3,5])\n",
    "b = set([5,1])\n",
    "result = b.issuperset(a)\n",
    "print(result)\n",
    "\n",
    "# or you can use >=\n",
    "a = set([1,3,5])\n",
    "b = set([5,1,4, 6,3])\n",
    "result = b >= a\n",
    "print(result)"
   ]
  },
  {
   "cell_type": "markdown",
   "metadata": {},
   "source": [
    ">### 3. File Encryption and Decryption\n",
    "Write a program that uses a dictionary to assign “codes” to each letter of the alphabet. For\n",
    "example:\n",
    "codes = { ‘A’ : ‘%’, ‘a’ : ‘9’, ‘B’ : ‘@’, ‘b’ : ‘#’, etc . . .}\n",
    "Using this example, the letter A would be assigned the symbol %, the letter a would be\n",
    "assigned the number 9, the letter B would be assigned the symbol @, and so forth.\n",
    "The program should open a specified text file, read its contents, then use the dictionary\n",
    "to write an encrypted version of the file’s contents to a second file. Each character in the\n",
    "second file should contain the code for the corresponding character in the first file.\n",
    "Write a second program that opens an encrypted file and displays its decrypted contents\n",
    "on the screen."
   ]
  },
  {
   "cell_type": "markdown",
   "metadata": {},
   "source": [
    ">### 4. Unique Words\n",
    "Write a program that opens a specified text file then displays a list of all the unique words\n",
    "found in the file."
   ]
  },
  {
   "cell_type": "markdown",
   "metadata": {},
   "source": [
    ">### 5. Random Number Frequencies\n",
    "\n",
    "Write a program that generates 100 random numbers between 1 and 10. The program\n",
    "should store the frequency of each number generated in a dictionary with the number as\n",
    "the key and the amount of times it has occurred as the value. For example, if the program\n",
    "generates the number 6 a total of 11 times, the dictionary will contain a key of 6 with an\n",
    "associated value of 11. Once all of the numbers have been generated, display information\n",
    "about the frequency of each number."
   ]
  },
  {
   "cell_type": "markdown",
   "metadata": {},
   "source": [
    ">### 10. Word Index\n",
    "\n",
    "Write a program that reads the contents of a text file. The program should create a dictionary\n",
    "in which the key-value pairs are described as follows:\n",
    "- Key. The keys are the individual words found in the file.\n",
    "- Values. Each value is a list that contains the line numbers in the file where the word\n",
    "(the key) is found.\n",
    "\n",
    "For example, suppose the word “robot” is found in lines 7, 18, 94, and 138. The dictionary\n",
    "would contain an element in which the key was the string “robot”, and the value was a list\n",
    "containing the numbers 7, 18, 94, and 138.\n",
    "\n",
    "Once the dictionary is built, the program should create another text file, known as a word\n",
    "index, listing the contents of the dictionary. The word index file should contain an alphabetical\n",
    "listing of the words that are stored as keys in the dictionary, along with the line\n",
    "numbers where the words appear in the original file. Figure 9-1 shows an example of an\n",
    "original text file (Kennedy.txt) and its index file (index.txt)."
   ]
  },
  {
   "cell_type": "markdown",
   "metadata": {},
   "source": [
    ">### 8. Pickled Vegetables (Not Covered in Theory)\n",
    "\n",
    "Write a program that keeps vegetable names and prices in a dictionary as key-value pairs.\n",
    "The program should display a menu that lets the user see a list of all vegetables and their\n",
    "prices, add a new vegetable and price, change the price of an existing vegetable, and delete\n",
    "an existing vegetable and price. The program should pickle the dictionary and save it to a\n",
    "file when the user exits the program. Each time the program starts, it should retrieve the\n",
    "dictionary from the file and unpickle it.\n"
   ]
  },
  {
   "cell_type": "markdown",
   "metadata": {},
   "source": [
    ">### 7. World Series Winners\n",
    "\n",
    "In this chapter’s source code folder (available on the Premium Companion Website at www.\n",
    "pearsonglobaleditions.com/gaddis), you will find a text file named WorldSeriesWinners.\n",
    "txt. This file contains a chronological list of the World Series’ winning teams from 1903\n",
    "through 2009. The first line in the file is the name of the team that won in 1903, and the\n",
    "last line is the name of the team that won in 2009. (Note the World Series was not played\n",
    "in 1904 or 1994. There are entries in the file indicating this.)\n",
    "Write a program that reads this file and creates a dictionary in which the keys are the names\n",
    "of the teams, and each key’s associated value is the number of times the team has won the\n",
    "World Series. The program should also create a dictionary in which the keys are the years,\n",
    "and each key’s associated value is the name of the team that won that year.\n",
    "The program should prompt the user for a year in the range of 1903 through 2009. It\n",
    "should then display the name of the team that won the World Series that year, and the\n",
    "number of times that team has won the World Series."
   ]
  },
  {
   "cell_type": "markdown",
   "metadata": {},
   "source": []
  }
 ],
 "metadata": {
  "kernelspec": {
   "display_name": "Python 3",
   "language": "python",
   "name": "python3"
  },
  "language_info": {
   "codemirror_mode": {
    "name": "ipython",
    "version": 3
   },
   "file_extension": ".py",
   "mimetype": "text/x-python",
   "name": "python",
   "nbconvert_exporter": "python",
   "pygments_lexer": "ipython3",
   "version": "3.12.7"
  }
 },
 "nbformat": 4,
 "nbformat_minor": 2
}
