{
 "cells": [
  {
   "cell_type": "markdown",
   "metadata": {},
   "source": [
    "# Chapter (9): Dictionaries and Sets"
   ]
  },
  {
   "cell_type": "markdown",
   "metadata": {},
   "source": [
    "## Dictionary\n",
    "- A dictionary is an object that stores a collection of data. \n",
    "- Each element in a dictionary has two parts: a key and a value. \n",
    "- A dictionary is a collection which is ordered*, changeable and do not allow duplicates.\n",
    "\n",
    "- **dictionaries in Python are ordered as of Python 3.7. This means that the items in a dictionary maintain the order in which they were inserted.** In earlier versions of Python (prior to 3.7), dictionaries were unordered, and the order of items was not guaranteed."
   ]
  },
  {
   "cell_type": "markdown",
   "metadata": {},
   "source": [
    "`dictionary = {key1:val1, key2:val2,….}`"
   ]
  },
  {
   "cell_type": "code",
   "execution_count": null,
   "metadata": {},
   "outputs": [],
   "source": [
    "phonebook = {'Salem':'555−1111', 'Salema':'555−2222', 'Ahmed':'555−3333'}\n",
    "print(phonebook)"
   ]
  },
  {
   "cell_type": "markdown",
   "metadata": {},
   "source": [
    "> Retrieving a Value from a Dictionary\n",
    "- Elements in dictionary are unsorted.\n",
    "- To retrieve a value from dictionary: \n",
    "dictionary[key]\n",
    "\n",
    "\n"
   ]
  },
  {
   "cell_type": "code",
   "execution_count": null,
   "metadata": {},
   "outputs": [],
   "source": [
    "try:\n",
    "    phonebook = {'Salem':'555−1111', 'Salema':'555−2222', 'Ahmed':'555−3333'}\n",
    "    # print(phonebook['Ahmed'])\n",
    "    print(phonebook['Ali'])\n",
    "except Exception as err:\n",
    "    print(err)\n",
    "    \n",
    "print('continue')"
   ]
  },
  {
   "cell_type": "markdown",
   "metadata": {},
   "source": [
    "> Using in and not  in operators with Dictionaries, and len function. \n"
   ]
  },
  {
   "cell_type": "code",
   "execution_count": null,
   "metadata": {},
   "outputs": [],
   "source": [
    "phonebook = {'Salem':'555−1111', 'Salema':'555−2222', 'Ahmed':'555−3333'}\n",
    "if 'Nasser' in phonebook:\n",
    "    print('Found')\n",
    "else:\n",
    "    print('Not Fount!')\n",
    "    \n",
    "print(len(phonebook))\n"
   ]
  },
  {
   "cell_type": "markdown",
   "metadata": {},
   "source": [
    "> Adding Elements to an Existing Dictionary\n",
    "- Dictionaries are **mutable** objects\n",
    "- To add a new key-value pair:\n",
    "                `dictionary[key] = value`\n",
    "    - If key exists in the dictionary, the value associated with it will be changed.\n"
   ]
  },
  {
   "cell_type": "code",
   "execution_count": null,
   "metadata": {},
   "outputs": [],
   "source": [
    "grades={'Ahmed':90,'Khaled':55,'Sara':78}\n",
    "grades['Nasser']= 99\n",
    "print(grades)\n",
    "grades['Ahmed']= 80\n",
    "print(grades)"
   ]
  },
  {
   "cell_type": "markdown",
   "metadata": {},
   "source": [
    "> Deleting Elements From an Existing Dictionary\n",
    "- To delete a key-value pair:\n",
    "            `del dictionary[key]`\n",
    "    - If key is not in the dictionary, KeyError exception is raised\n"
   ]
  },
  {
   "cell_type": "code",
   "execution_count": null,
   "metadata": {},
   "outputs": [],
   "source": [
    "grades={'Ahmed':90,'Khaled':55,'Sara':78}\n",
    "del grades['Ahmed']\n",
    "# del grades['Ali']\n",
    "print(grades)\n"
   ]
  },
  {
   "cell_type": "markdown",
   "metadata": {},
   "source": [
    "> Mixing Data Types\n",
    "- The values of a dictionary can be of any type, but the keys must be of an immutable data type such as strings, numbers, or tuples.\n",
    "- One dictionary can include keys of several different immutable types.\n",
    "- Values stored in a single dictionary can be of different types\n"
   ]
  },
  {
   "cell_type": "code",
   "execution_count": null,
   "metadata": {},
   "outputs": [],
   "source": [
    "grades={'Ahmed':[90,89,79],'Khaled':[55,66,73]}\n",
    "print(grades)\n",
    "mixed_up = {'abc':1, 999:'yada yada', (3, 6, 9):[3, 6, 9]}\n",
    "print(mixed_up)"
   ]
  },
  {
   "cell_type": "code",
   "execution_count": null,
   "metadata": {},
   "outputs": [],
   "source": [
    "carsdict = {\n",
    "  \"brand\": \"Ford\",\n",
    "  \"electric\": False,\n",
    "  \"year\": 1964,\n",
    "  \"colors\": [\"red\", \"white\", \"blue\"]\n",
    "}\n",
    "print(carsdict)"
   ]
  },
  {
   "cell_type": "markdown",
   "metadata": {},
   "source": [
    "> Creating an Empty Dictionary\n",
    "- To create an empty dictionary:\n",
    "    - Use {}\n",
    "    - Use built-in function dict() (Constructor)\n",
    "    - Elements can be added to the dictionary as program executes\n"
   ]
  },
  {
   "cell_type": "code",
   "execution_count": null,
   "metadata": {},
   "outputs": [],
   "source": [
    "grades = dict()\n",
    "print(grades)\n",
    "grades = dict(Ahmed=90, Khaled=55, Sara=78)\n",
    "grades['Ahmed']= 89\n",
    "print(grades)\n",
    "\n",
    "carsdict = dict(brand = 'Nissan', year = 2024, color = 'red')\n",
    "print(carsdict)"
   ]
  },
  {
   "cell_type": "markdown",
   "metadata": {},
   "source": [
    "> Using for Loop to Iterate Over a Dictionary\n"
   ]
  },
  {
   "cell_type": "code",
   "execution_count": null,
   "metadata": {},
   "outputs": [],
   "source": [
    "# Print all key names in the dictionary, one by one:\n",
    "grades={'Ahmed':[90,89,79],'Khaled':55,'Sara':78}\n",
    "for x in grades: # for each key\n",
    "    print(x) \n",
    "    \n",
    "# Print all values in the dictionary, one by one:\n",
    "for y in grades:\n",
    "    print(grades[y])\n",
    "\n",
    "# # Print all keys and valuse in the dictionary, one by one:\n",
    "for y in grades:\n",
    "    print(f'{y}:{grades[y]}')\n"
   ]
  },
  {
   "cell_type": "markdown",
   "metadata": {},
   "source": [
    "> Some Dictionary Methods\n",
    "- Method\tDescription\n",
    "- clear()\tRemoves all the elements from the dictionary\n",
    "- copy()\tReturns a copy of the dictionary\n",
    "- fromkeys()\tReturns a dictionary with the specified keys and value\n",
    "- get()\tReturns the value of the specified key\n",
    "- items()\tReturns a list containing a tuple for each key value pair\n",
    "- keys()\tReturns a list containing the dictionary's keys\n",
    "- pop()\tRemoves the element with the specified key\n",
    "- popitem()\tRemoves the last inserted key-value pair\n",
    "- setdefault()\tReturns the value of the specified key. If the key does not - exist: insert the key, with the specified value\n",
    "- update()\tUpdates the dictionary with the specified key-value pairs\n",
    "- values()\tReturns a list of all the values in the dictionary"
   ]
  },
  {
   "cell_type": "code",
   "execution_count": null,
   "metadata": {},
   "outputs": [],
   "source": [
    "# clear method: deletes all the elements in a dictionary \n",
    "grades={'Ahmed':[90,89,79],'Khaled':55,'Sara':78}\n",
    "grades.clear()\n",
    "print(grades)\n",
    "\n",
    "# get method: gets a value associated with specified key from the dictionary\n",
    "# Format: dictionary.get(key, default)\n",
    "    ## default is returned if key is not found\n",
    "print('\\n get() Method')\n",
    "grades={'Ahmed':[90,89,79],'Khaled':55,'Sara':78}\n",
    "x = grades.get('Sara','Not found')\n",
    "print(x)\n",
    "y = grades.get('Nasser','Ha Ha Ha Nasser Not found')\n",
    "print(y)\n",
    "\n",
    "#items method: returns all the dictionaries keys and associated values\n",
    "    # Format: dictionary.items()\n",
    "# Returned as a dictionary view\n",
    "    # Each element in dictionary view is a tuple which contains a key and its associated value\n",
    "    # Use a for loop to iterate over the tuples in the sequence\n",
    "    # Can use a variable which receives a tuple, or can use two variables which receive key and value\n",
    "print('\\n items Method')\n",
    "grades={'Ahmed':[90,89,79],'Khaled':55,'Sara':78}\n",
    "dictdata = grades.items()\n",
    "print(dictdata)\n",
    "for k,v in dictdata:\n",
    "    print(k,v)\n",
    "\n",
    "# keys method: returns all the dictionaries keys as a sequence\n",
    "print('\\n keys Method')\n",
    "grades={'Ahmed':[90,89,79],'Khaled':55,'Sara':78}\n",
    "x = grades.keys()\n",
    "print(x)\n",
    "for k in x:\n",
    "    print(k)\n",
    "    \n",
    "# values method: returns all the dictionaries values as a sequence\n",
    "print('\\n values Method')\n",
    "grades={'Ahmed':[90,89,79],'Khaled':55,'Sara':78}\n",
    "x = grades.values()\n",
    "print(x)\n",
    "for v in x:\n",
    "    print(v)\n",
    "\n"
   ]
  },
  {
   "cell_type": "markdown",
   "metadata": {},
   "source": [
    "> pop\n",
    "- pop method: returns value associated with specified key and removes that key-value pair from the dictionary\n",
    "- Format: dictionary.pop(key, default)\n",
    "    - default is returned if key is not found"
   ]
  },
  {
   "cell_type": "code",
   "execution_count": null,
   "metadata": {},
   "outputs": [],
   "source": [
    "grades={'Ahmed':[90,89,79],'Khaled':55,'Sara':78}\n",
    "x = grades.pop('Khaled','Not found')\n",
    "print(x)\n",
    "print(grades)\n"
   ]
  },
  {
   "cell_type": "markdown",
   "metadata": {},
   "source": [
    "> popitem\n",
    "- popitem method: Removes the last inserted key-value pair\n",
    "    - Format: dictionary.popitem()"
   ]
  },
  {
   "cell_type": "code",
   "execution_count": null,
   "metadata": {},
   "outputs": [],
   "source": [
    "grades={'Ahmed':[90,89,79],'Khaled':55,'Sara':78}\n",
    "x = grades.popitem()\n",
    "print(x)\n",
    "x = grades.popitem()\n",
    "print(x)\n",
    "print(grades)\n"
   ]
  },
  {
   "cell_type": "markdown",
   "metadata": {},
   "source": [
    "### Exercise\n",
    "Write a function that receives a dictionary contains employees’ names and their salaries. The function will remove all employees whose salaries greater than 6000. Call the function. \n",
    "\n"
   ]
  },
  {
   "cell_type": "code",
   "execution_count": null,
   "metadata": {},
   "outputs": [],
   "source": [
    "def main():\n",
    "    empyloyees = {'Ahmed': 5000, 'Khaled': 6500,'Nasser': 8000}\n",
    "    print(empyloyees)\n",
    "    remove_employee(empyloyees)\n",
    "    print(empyloyees)\n",
    "\n",
    "def remove_employee(empyloyees):\n",
    "    tmp =[]\n",
    "    for k,v in empyloyees.items():\n",
    "        if v > 6000:\n",
    "            tmp.append(k)\n",
    "    for i in range (len(tmp)):\n",
    "        del empyloyees[tmp[i]]\n",
    "            \n",
    "main()"
   ]
  },
  {
   "cell_type": "code",
   "execution_count": null,
   "metadata": {},
   "outputs": [],
   "source": [
    "# Write a function that receives a dictionary contains employees’ names and their salaries. \n",
    "# The function will remove all employees whose salaries greater than 6000. Call the function. \n",
    "def remove (employeesdict):\n",
    "    tmp = [] # list of keys\n",
    "    \n",
    "    for k, v in employeesdict.items():\n",
    "        if v > 6000:\n",
    "            tmp.append(k)\n",
    "    for i in range (len(tmp)):\n",
    "        del employeesdict[tmp[i]]\n",
    "        \n",
    "    \n",
    "def main():\n",
    "    employees={'Ahmed':5000,'Naser':7800,'Sara':6500}\n",
    "    print(employees)\n",
    "    remove(employees)\n",
    "    print(employees)\n",
    "    \n",
    "main()"
   ]
  },
  {
   "cell_type": "markdown",
   "metadata": {},
   "source": [
    "## Sets"
   ]
  },
  {
   "cell_type": "markdown",
   "metadata": {},
   "source": [
    ">A set is a collection which is unordered, unchangeable*, and unindexed.  \n",
    "    >> Set: object that stores a collection of data in same way as mathematical set\n",
    "- All items must be unique\n",
    "- Set is unordered\n",
    "- Elements can be of different data types\n",
    "set function: used to create a set\n",
    "- For empty set, call set()\n",
    "    - If argument is a string, each character becomes a set element\n",
    "    - If argument contains duplicates, only one of the duplicates will appear in the set\n"
   ]
  },
  {
   "cell_type": "code",
   "execution_count": null,
   "metadata": {},
   "outputs": [],
   "source": [
    "my_set = set((\"apple\", \"banana\", \"cherry\", 'apple')) # note the double round-brackets\n",
    "print(my_set)\n",
    "\n",
    "my_set = {1, 2, 3}  # Creates a set must be unique\n",
    "print(my_set)\n",
    "\n",
    "my_set = set ('abcde')\n",
    "print(my_set)"
   ]
  },
  {
   "cell_type": "markdown",
   "metadata": {},
   "source": [
    "> For set of strings, pass them to the function as a list\n"
   ]
  },
  {
   "cell_type": "code",
   "execution_count": 3,
   "metadata": {},
   "outputs": [
    {
     "name": "stdout",
     "output_type": "stream",
     "text": [
      "{'two', 'three', 'one'}\n"
     ]
    }
   ],
   "source": [
    "x = set(['one','two','three']) #Error\n",
    "print(x)"
   ]
  },
  {
   "cell_type": "code",
   "execution_count": null,
   "metadata": {},
   "outputs": [
    {
     "ename": "TypeError",
     "evalue": "set expected at most 1 argument, got 3",
     "output_type": "error",
     "traceback": [
      "\u001b[1;31m---------------------------------------------------------------------------\u001b[0m",
      "\u001b[1;31mTypeError\u001b[0m                                 Traceback (most recent call last)",
      "Cell \u001b[1;32mIn[1], line 1\u001b[0m\n\u001b[1;32m----> 1\u001b[0m x \u001b[38;5;241m=\u001b[39m \u001b[38;5;28;43mset\u001b[39;49m\u001b[43m(\u001b[49m\u001b[38;5;124;43m'\u001b[39;49m\u001b[38;5;124;43mone\u001b[39;49m\u001b[38;5;124;43m'\u001b[39;49m\u001b[43m,\u001b[49m\u001b[38;5;124;43m'\u001b[39;49m\u001b[38;5;124;43mtwo\u001b[39;49m\u001b[38;5;124;43m'\u001b[39;49m\u001b[43m,\u001b[49m\u001b[38;5;124;43m'\u001b[39;49m\u001b[38;5;124;43mthree\u001b[39;49m\u001b[38;5;124;43m'\u001b[39;49m\u001b[43m)\u001b[49m\n\u001b[0;32m      2\u001b[0m \u001b[38;5;28mprint\u001b[39m(x)\n",
      "\u001b[1;31mTypeError\u001b[0m: set expected at most 1 argument, got 3"
     ]
    }
   ],
   "source": [
    "x = set(['one','two','three'])\n",
    "print(x)\n"
   ]
  },
  {
   "cell_type": "markdown",
   "metadata": {},
   "source": [
    ">Getting the Number of and Adding Elements"
   ]
  },
  {
   "cell_type": "code",
   "execution_count": null,
   "metadata": {},
   "outputs": [],
   "source": [
    "x=set(['one','two','three'])\n",
    "print(len(x))\n",
    "x.add('four')\n",
    "print(x)\n",
    "print(len(x))\n"
   ]
  },
  {
   "cell_type": "markdown",
   "metadata": {},
   "source": [
    ">Adding elements using Updating"
   ]
  },
  {
   "cell_type": "code",
   "execution_count": null,
   "metadata": {},
   "outputs": [],
   "source": [
    "x = set([1,3,5])\n",
    "x.update([2,9])\n",
    "print(x)\n",
    "y = set([4,7])\n",
    "x.update(y)\n",
    "print(x)\n",
    "\n"
   ]
  },
  {
   "cell_type": "markdown",
   "metadata": {},
   "source": [
    "> Deleting Elements From a Set\n",
    "- remove and discard methods: remove the specified item from the set\n",
    "    - The item that should be removed is passed to both methods as an argument\n",
    "    - Behave differently when the specified item is not found in the set\n",
    "        - remove method raises a KeyError exception\n",
    "        - discard method does not raise an exception\n",
    "- clear method: clears all the elements of the set\n",
    "        \n"
   ]
  },
  {
   "cell_type": "code",
   "execution_count": null,
   "metadata": {},
   "outputs": [],
   "source": [
    "x = set([1,3,5])\n",
    "\n",
    "# x.remove(3)\n",
    "# x.discard(2)\n",
    "# x.clear()\n",
    "print(x)\n",
    "\n",
    "# delete the set completely\n",
    "del x"
   ]
  },
  {
   "cell_type": "markdown",
   "metadata": {},
   "source": [
    "> Using the for Loop, in, and not in Operators With a Set"
   ]
  },
  {
   "cell_type": "code",
   "execution_count": null,
   "metadata": {},
   "outputs": [],
   "source": [
    "thisset = set([1,3,5])\n",
    "for x in thisset:\n",
    "    print(x)"
   ]
  },
  {
   "cell_type": "markdown",
   "metadata": {},
   "source": [
    ">Sets Operations \n",
    "- add()\t \tAdds an element to the set\n",
    "- clear()\t \tRemoves all the elements from the set\n",
    "- copy()\t \tReturns a copy of the set\n",
    "- difference()\t-\tReturns a set containing the difference between two or more sets\n",
    "- difference_update()\t-=\tRemoves the items in this set that are also included in another, specified set\n",
    "- discard()\t \tRemove the specified item\n",
    "- intersection()\t&\tReturns a set, that is the intersection of two other sets\n",
    "- intersection_update()\t&=\tRemoves the items in this set that are not present in other, specified set(s)\n",
    "- isdisjoint()\t \tReturns whether two sets have a intersection or not\n",
    "- issubset()\t<=\tReturns whether another set contains this set or not\n",
    " \t- <\tReturns whether all items in this set is present in other, specified set(s)\n",
    "- issuperset()\t>=\tReturns whether this set contains another set or not\n",
    " \t- \\>\tReturns whether all items in other, specified set(s) is present in this set\n",
    "- pop()\t \tRemoves an element from the set\n",
    "- remove()\t \tRemoves the specified element\n",
    "- symmetric_difference()\t^\tReturns a set with the symmetric differences of two sets\n",
    "- symmetric_difference_update()\t^=\tInserts the symmetric differences from this set and another\n",
    "- union()\t|\tReturn a set containing the union of sets\n",
    "- update()\t|=\tUpdate the set with the union of this set and others"
   ]
  },
  {
   "cell_type": "markdown",
   "metadata": {},
   "source": [
    "> Join \n",
    "- you can use the | operator instead of the union() method, and you will get the same result."
   ]
  },
  {
   "cell_type": "code",
   "execution_count": null,
   "metadata": {},
   "outputs": [],
   "source": [
    "set1 = {\"a\", \"b\", \"c\"}\n",
    "set2 = {1, 2, 3}\n",
    "\n",
    "set3 = set1 | set2\n",
    "set4 = set1.union(set2)\n",
    "print(set3)\n",
    "print(set4)"
   ]
  },
  {
   "cell_type": "markdown",
   "metadata": {},
   "source": [
    "- Join multiple sets with the union() method:"
   ]
  },
  {
   "cell_type": "code",
   "execution_count": null,
   "metadata": {},
   "outputs": [],
   "source": [
    "set1 = {\"a\", \"b\", \"c\"}\n",
    "set2 = {1, 2, 3}\n",
    "set3 = {\"John\", \"Elena\"}\n",
    "set4 = {\"apple\", \"bananas\", \"cherry\"}\n",
    "\n",
    "myset = set1.union(set2, set3, set4)\n",
    "print(myset)"
   ]
  },
  {
   "cell_type": "markdown",
   "metadata": {},
   "source": [
    "> Difference"
   ]
  },
  {
   "cell_type": "markdown",
   "metadata": {},
   "source": [
    "`Difference of two sets: a set that contains the elements that appear in the first set but do not appear in the second set\n",
    "To find the difference of two sets:\n",
    "Use the difference method\n",
    "Format: set1.difference(set2)\n",
    "Use the - operator\n",
    "Format: set1 - set2`"
   ]
  },
  {
   "cell_type": "code",
   "execution_count": null,
   "metadata": {},
   "outputs": [],
   "source": [
    "x = set([1,3,5])\n",
    "y = set([4,5])\n",
    "z = x.difference(y)\n",
    "w = y.difference(x)\n",
    "print(z)\n",
    "print(w)\n"
   ]
  },
  {
   "cell_type": "code",
   "execution_count": null,
   "metadata": {},
   "outputs": [],
   "source": [
    "x=set([1,3,5])\n",
    "y=set([4,5])\n",
    "z=x-y\n",
    "print(z)\n",
    "w = y - x\n",
    "print(w)\n"
   ]
  },
  {
   "cell_type": "markdown",
   "metadata": {},
   "source": [
    "> intersection"
   ]
  },
  {
   "cell_type": "markdown",
   "metadata": {},
   "source": [
    "- Intersection of two sets: a set that contains only the elements found in both sets\n",
    "- To find the intersection of two sets:\n",
    "    - Use the intersection method\n",
    "     - Format: set1.intersection(set2)\n",
    "    - Use the & operator\n",
    "        - Format: set1 & set2\n",
    "    - Both techniques return a new set which contains the intersection of both sets\n"
   ]
  },
  {
   "cell_type": "code",
   "execution_count": null,
   "metadata": {},
   "outputs": [],
   "source": [
    "x=set([1,3,5])\n",
    "y=set([4,5])\n",
    "z = x.intersection(y)\n",
    "print(z)"
   ]
  },
  {
   "cell_type": "code",
   "execution_count": null,
   "metadata": {},
   "outputs": [],
   "source": [
    "x=set([1,3,5])\n",
    "y=set([4,5])\n",
    "z = x & y\n",
    "w = y & x\n",
    "print(z)\n",
    "print(w)"
   ]
  },
  {
   "cell_type": "markdown",
   "metadata": {},
   "source": [
    "- The intersection_update() method will also keep ONLY the duplicates, but it will change the original set instead of returning a new set"
   ]
  },
  {
   "cell_type": "code",
   "execution_count": null,
   "metadata": {},
   "outputs": [],
   "source": [
    "set1 = {\"apple\", \"banana\", \"cherry\"}\n",
    "set2 = {\"google\", \"microsoft\", \"apple\"}\n",
    "\n",
    "set1.intersection_update(set2)\n",
    "\n",
    "print(set1)"
   ]
  },
  {
   "cell_type": "markdown",
   "metadata": {},
   "source": [
    "> Symmetric Difference\n",
    "- Symmetric difference of two sets: a set that contains the elements that are not shared by the two sets\n",
    "- To find the symmetric difference of two sets:\n",
    "    - Use the symmetric_difference method\n",
    "        - Format: set1.symmetric_difference(set2)\n",
    "    - Use the ^ operator\n",
    "        - Format: set1 ^ set2\n"
   ]
  },
  {
   "cell_type": "code",
   "execution_count": null,
   "metadata": {},
   "outputs": [],
   "source": [
    "x=set([1,3,5])\n",
    "y=set([4,5])\n",
    "z = x.symmetric_difference(y)\n",
    "print(z)\n"
   ]
  },
  {
   "cell_type": "code",
   "execution_count": null,
   "metadata": {},
   "outputs": [],
   "source": [
    "x=set([1,3,5])\n",
    "y=set([4,5])\n",
    "z=x^y\n",
    "print(z)"
   ]
  },
  {
   "cell_type": "markdown",
   "metadata": {},
   "source": [
    "> Finding Subsets and Supersets\n",
    "- Set A is subset of set B if all the elements in set A are included in set B\n",
    "- To determine whether set A is subset of set B\n",
    "    - Use the issubset method \n",
    "        - Format: setA.issubset(setB)\n",
    "    - Use the <= operator \n",
    "        - Format: setA <= setB\n"
   ]
  },
  {
   "cell_type": "code",
   "execution_count": null,
   "metadata": {},
   "outputs": [],
   "source": [
    "a = set([1,3,5])\n",
    "b = set([5,1])\n",
    "result = b.issubset(a)\n",
    "print(result)\n",
    "\n",
    " # or you can use <=\n",
    "a = set([1,3,5])\n",
    "b = set([5,1])\n",
    "result = b <= a\n",
    "print(result)"
   ]
  },
  {
   "cell_type": "markdown",
   "metadata": {},
   "source": [
    "- Set A is superset of set B if it contains all the elements of set B\n",
    "- To determine whether set A is superset of set B\n",
    "    - Use the issuperset method\n",
    "        - Format: setA.issuperset(setB)\n",
    "    - Use the >= operator \n",
    "        - Format: setA >= setB\n"
   ]
  },
  {
   "cell_type": "code",
   "execution_count": null,
   "metadata": {},
   "outputs": [],
   "source": [
    "a = set([1,3,5])\n",
    "b = set([5,1])\n",
    "result = b.issuperset(a)\n",
    "print(result)\n",
    "\n",
    "# or you can use >=\n",
    "a = set([1,3,5])\n",
    "b = set([5,1,4,6,3])\n",
    "result = b >= a\n",
    "print(result)"
   ]
  },
  {
   "cell_type": "markdown",
   "metadata": {},
   "source": [
    "## Serializing Objects"
   ]
  },
  {
   "cell_type": "markdown",
   "metadata": {},
   "source": [
    "- Serialization is the process of converting an object into a format that can be saved or transmitted.\n",
    "- Deserialization is the reverse process — converting back to the original object.\n",
    "- Common use cases include saving app state, transmitting over networks, or caching data.\n",
    "- Python provides `pickle` for binary serialization and `json` for text-based serialization.\n"
   ]
  },
  {
   "cell_type": "markdown",
   "metadata": {},
   "source": [
    "- `pickle` is used for serializing and deserializing Python objects in **binary format**.\n",
    "- `wb` means write binary, and `rb` means read binary.\n",
    "- Only works reliably with Python-specific objects (not cross-language compatible).\n"
   ]
  },
  {
   "cell_type": "code",
   "execution_count": null,
   "metadata": {},
   "outputs": [],
   "source": [
    "import pickle\n",
    "\n",
    "# Sample Python object\n",
    "student = {\n",
    "    'name': 'Ali',\n",
    "    'id': 123,\n",
    "    'courses': ['Python', 'Math']\n",
    "}\n",
    "\n",
    "# Serialize to a binary file\n",
    "with open('student.pkl', 'wb') as f:\n",
    "    pickle.dump(student, f)\n",
    "\n",
    "# Deserialize from the binary file\n",
    "with open('student.pkl', 'rb') as f:\n",
    "    loaded_student = pickle.load(f)\n",
    "\n",
    "print(loaded_student)\n"
   ]
  },
  {
   "cell_type": "markdown",
   "metadata": {},
   "source": [
    "> Pickle: Best Practices and Warnings\n",
    "- Pros: Easy to use and supports all native Python objects.\n",
    "- Cons: Not human-readable and insecure for untrusted sources.\n",
    "- NEVER unpickle data from untrusted or unauthenticated sources.\n",
    "- For compatibility with other languages, use `json` instead.\n"
   ]
  },
  {
   "cell_type": "markdown",
   "metadata": {},
   "source": [
    "### Serializing with `json`\n",
    "- JSON is used to serialize Python dictionaries, lists, strings, and numbers into JSON format.\n",
    "- JSON is human-readable and widely used for APIs and web communication.\n",
    "- Only works with basic data types (dict, list, str, int, float, bool, None).\n"
   ]
  },
  {
   "cell_type": "code",
   "execution_count": null,
   "metadata": {},
   "outputs": [],
   "source": [
    "import json\n",
    "\n",
    "# Sample Python object\n",
    "student = {\n",
    "    'name': 'Ali',\n",
    "    'id': 123,\n",
    "    'courses': ['Python', 'Math']\n",
    "}\n",
    "\n",
    "# Serialize to a JSON file\n",
    "with open('student.json', 'w') as f:\n",
    "    json.dump(student, f)\n",
    "\n",
    "# Deserialize from the JSON file\n",
    "with open('student.json', 'r') as f:\n",
    "    loaded_student = json.load(f)\n",
    "\n",
    "print(loaded_student)\n"
   ]
  },
  {
   "cell_type": "markdown",
   "metadata": {},
   "source": [
    "# Problems"
   ]
  },
  {
   "cell_type": "markdown",
   "metadata": {},
   "source": [
    ">### Students records management"
   ]
  },
  {
   "cell_type": "markdown",
   "metadata": {},
   "source": [
    "Write a program to manage student records using a dictionary. The program should allow the user to perform the following operations:\n",
    "\n",
    "1. **Add a new student**: Prompt the user to enter a student ID, name, courses (comma-separated), and grades (comma-separated). If the student ID already exists, display an appropriate message.\n",
    "\n",
    "2. **Update an existing student**: Allow the user to update the name, courses, or grades of an existing student. If the student ID does not exist, display an appropriate message.\n",
    "\n",
    "3. **Delete a student**: Remove a student record based on the student ID. If the student ID does not exist, display an appropriate message.\n",
    "\n",
    "4. **View all students**: Display all student records, including their ID, name, courses, and grades. If no records exist, display an appropriate message.\n",
    "\n",
    "5. **Save and load records**: Use the `pickle` module to save the student records to a file (`students.pkl`) when exiting the program and load the records when the program starts.\n",
    "\n",
    "6. **Menu-driven interface**: Provide a menu to allow the user to select the desired operation. Exit the program when the user chooses the exit option."
   ]
  },
  {
   "cell_type": "code",
   "execution_count": 2,
   "metadata": {},
   "outputs": [
    {
     "name": "stdout",
     "output_type": "stream",
     "text": [
      "\n",
      "Student Records Management\n",
      "1. Add Student\n",
      "2. Update Student\n",
      "3. Delete Student\n",
      "4. View All Students\n",
      "5. Exit\n",
      "ID: 001, Name: Osama Halabi, Courses: ['Math', ' Algebra', ' Calculas'], Grades: [80.0, 90.0, 100.0]\n",
      "ID: 002, Name: Ali Kaabi, Courses: ['Math', ' Calculas', ' Python'], Grades: [66.0, 77.0, 88.0]\n",
      "ID: 003, Name: Fatime Alali, Courses: ['Python', ' Java', ' Data structures'], Grades: [66.0, 77.0, 88.0]\n",
      "\n",
      "Student Records Management\n",
      "1. Add Student\n",
      "2. Update Student\n",
      "3. Delete Student\n",
      "4. View All Students\n",
      "5. Exit\n",
      "Exiting program...\n"
     ]
    }
   ],
   "source": [
    "import pickle\n",
    "\n",
    "# Define a dictionary to store student records\n",
    "students = {}\n",
    "\n",
    "# Load student records from file\n",
    "def load_students():\n",
    "    global students\n",
    "    try:\n",
    "        with open('students.pkl', 'rb') as f:\n",
    "            students = pickle.load(f)\n",
    "    except FileNotFoundError:\n",
    "        students = {}  # Initialize as empty if file doesn't exist\n",
    "\n",
    "# Save student records to file\n",
    "def save_students():\n",
    "    with open('students.pkl', 'wb') as f:\n",
    "        pickle.dump(students, f)\n",
    "\n",
    "# Function to add a new student\n",
    "def add_student():\n",
    "    student_id = input(\"Enter Student ID: \")\n",
    "    if student_id in students:\n",
    "        print(\"Student ID already exists!\")\n",
    "        return\n",
    "    name = input(\"Enter Student Name: \")\n",
    "    courses = input(\"Enter Courses (comma-separated): \").split(\",\")\n",
    "    grades = list(map(float, input(\"Enter Grades (comma-separated): \").split(\",\")))\n",
    "    students[student_id] = {\n",
    "        \"name\": name,\n",
    "        \"courses\": courses,\n",
    "        \"grades\": grades\n",
    "    }\n",
    "    print(\"Student added successfully!\")\n",
    "\n",
    "# Function to update an existing student\n",
    "def update_student():\n",
    "    student_id = input(\"Enter Student ID to update: \")\n",
    "    if student_id not in students:\n",
    "        print(\"Student ID not found!\")\n",
    "        return\n",
    "    print(\"Current Record:\", students[student_id])\n",
    "    name = input(\"Enter New Name (leave blank to keep current): \")\n",
    "    courses = input(\"Enter New Courses (comma-separated, leave blank to keep current): \")\n",
    "    grades = input(\"Enter New Grades (comma-separated, leave blank to keep current): \")\n",
    "    if name:\n",
    "        students[student_id][\"name\"] = name\n",
    "    if courses:\n",
    "        students[student_id][\"courses\"] = courses.split(\",\")\n",
    "    if grades:\n",
    "        students[student_id][\"grades\"] = list(map(float, grades.split(\",\")))\n",
    "    print(\"Student updated successfully!\")\n",
    "\n",
    "# Function to delete a student\n",
    "def delete_student():\n",
    "    student_id = input(\"Enter Student ID to delete: \")\n",
    "    if student_id in students:\n",
    "        del students[student_id]\n",
    "        print(\"Student deleted successfully!\")\n",
    "    else:\n",
    "        print(\"Student ID not found!\")\n",
    "\n",
    "# Function to view all students\n",
    "def view_students():\n",
    "    if not students:\n",
    "        print(\"No student records found!\")\n",
    "        return\n",
    "    for student_id, details in students.items():\n",
    "        print(f\"ID: {student_id}, Name: {details['name']}, Courses: {details['courses']}, Grades: {details['grades']}\")\n",
    "\n",
    "# Main menu\n",
    "def main():\n",
    "    load_students()  # Load records at the start\n",
    "    while True:\n",
    "        print(\"\\nStudent Records Management\")\n",
    "        print(\"1. Add Student\")\n",
    "        print(\"2. Update Student\")\n",
    "        print(\"3. Delete Student\")\n",
    "        print(\"4. View All Students\")\n",
    "        print(\"5. Exit\")\n",
    "        choice = input(\"Enter your choice: \")\n",
    "        if choice == \"1\":\n",
    "            add_student()\n",
    "        elif choice == \"2\":\n",
    "            update_student()\n",
    "        elif choice == \"3\":\n",
    "            delete_student()\n",
    "        elif choice == \"4\":\n",
    "            view_students()\n",
    "        elif choice == \"5\":\n",
    "            save_students()  # Save records before exiting\n",
    "            print(\"Exiting program...\")\n",
    "            break\n",
    "        else:\n",
    "            print(\"Invalid choice! Please try again.\")\n",
    "\n",
    "# Run the program\n",
    "main()"
   ]
  },
  {
   "cell_type": "markdown",
   "metadata": {},
   "source": [
    ">### 3. File Encryption and Decryption\n",
    "Write a program that uses a dictionary to assign “codes” to each letter of the alphabet. For\n",
    "example:\n",
    "codes = { ‘A’ : ‘%’, ‘a’ : ‘9’, ‘B’ : ‘@’, ‘b’ : ‘#’, etc . . .}\n",
    "Using this example, the letter A would be assigned the symbol %, the letter a would be\n",
    "assigned the number 9, the letter B would be assigned the symbol @, and so forth.\n",
    "The program should open a specified text file, read its contents, then use the dictionary\n",
    "to write an encrypted version of the file’s contents to a second file. Each character in the\n",
    "second file should contain the code for the corresponding character in the first file.\n",
    "Write a second program that opens an encrypted file and displays its decrypted contents\n",
    "on the screen."
   ]
  },
  {
   "cell_type": "markdown",
   "metadata": {},
   "source": [
    ">### 4. Unique Words\n",
    "Write a program that opens a specified text file then displays a list of all the unique words\n",
    "found in the file."
   ]
  },
  {
   "cell_type": "code",
   "execution_count": null,
   "metadata": {},
   "outputs": [],
   "source": [
    "\n",
    "def main():\n",
    "    # Get the name of the input file\n",
    "    input_name = input(\"Enter the name of the input file: \")\n",
    "    \n",
    "    # Open the input file and read the text\n",
    "    with open(input_name, 'r') as input_file:\n",
    "        text = input_file.read()\n",
    "        words = text.split()\n",
    "\n",
    "        # Create sets for unique and repeated words\n",
    "        unique_words = set()\n",
    "\n",
    "        for word in words:\n",
    "            unique_words.add(word)\n",
    "\n",
    "        print('\\nUnique words:')\n",
    "        for word in sorted(unique_words):\n",
    "            print(word)\n",
    "\n",
    "# Call the main function\n",
    "if __name__ == '__main__':\n",
    "    main()\n"
   ]
  },
  {
   "cell_type": "markdown",
   "metadata": {},
   "source": [
    ">### 5. Random Number Frequencies\n",
    "\n",
    "Write a program that generates 100 random numbers between 1 and 10. The program\n",
    "should store the frequency of each number generated in a dictionary with the number as\n",
    "the key and the amount of times it has occurred as the value. For example, if the program\n",
    "generates the number 6 a total of 11 times, the dictionary will contain a key of 6 with an\n",
    "associated value of 11. Once all of the numbers have been generated, display information\n",
    "about the frequency of each number."
   ]
  },
  {
   "cell_type": "code",
   "execution_count": null,
   "metadata": {},
   "outputs": [],
   "source": [
    "#eEx 9-5 random Number freq\n",
    "import random\n",
    "# This program generate  100 random numbers between 1 and 10\n",
    "\n",
    "\n",
    "def main():\n",
    "    number_dict = dict()\n",
    "    \n",
    "    for i in range(100):\n",
    "        random_number = random.randint(1, 10)\n",
    "        \n",
    "        if random_number not in number_dict:\n",
    "            number_dict[random_number] = 1\n",
    "        else:\n",
    "            number_dict[random_number] += 1\n",
    "    \n",
    "    print('Number\\tFrequency')\n",
    "    print('_____\\t________')\n",
    "    for number, frquency in sorted(number_dict.items()):\n",
    "        print(number, frquency, sep='\\t')\n",
    "main()"
   ]
  },
  {
   "cell_type": "markdown",
   "metadata": {},
   "source": [
    ">### 10. Word Index\n",
    "\n",
    "Write a program that reads the contents of a text file. The program should create a dictionary\n",
    "in which the key-value pairs are described as follows:\n",
    "- Key. The keys are the individual words found in the file.\n",
    "- Values. Each value is a list that contains the line numbers in the file where the word\n",
    "(the key) is found.\n",
    "\n",
    "For example, suppose the word “robot” is found in lines 7, 18, 94, and 138. The dictionary\n",
    "would contain an element in which the key was the string “robot”, and the value was a list\n",
    "containing the numbers 7, 18, 94, and 138.\n",
    "\n",
    "Once the dictionary is built, the program should create another text file, known as a word\n",
    "index, listing the contents of the dictionary. The word index file should contain an alphabetical\n",
    "listing of the words that are stored as keys in the dictionary, along with the line\n",
    "numbers where the words appear in the original file. Figure 9-1 shows an example of an\n",
    "original text file (Kennedy.txt) and its index file (index.txt)."
   ]
  },
  {
   "cell_type": "code",
   "execution_count": null,
   "metadata": {},
   "outputs": [],
   "source": [
    "def main():\n",
    "    #open the file for reading\n",
    "    with open('Kennedy.txt', 'r') as file:\n",
    "        #read the contents of the file\n",
    "        line_list = file.readlines()\n",
    "    for i in range(len(line_list)):\n",
    "        #remove the newline character from each line\n",
    "        line_list[i] = line_list[i].rstrip('\\n')\n",
    "    # get the dictionary of words and their line numbers\n",
    "    word_dict = get_word_dict(line_list)\n",
    "    \n",
    "    # write the dictionary to a file\n",
    "    write_index_file(word_dict)\n",
    "main()\n",
    "\n",
    "def get_word_dict(line_list):\n",
    "    #create an empty dictionary \n",
    "    word_dict = {}\n",
    "    # create a line counter\n",
    "    line_counter = 1\n",
    "    # iterate through the lines in the list\n",
    "    for e in line_list:\n",
    "        words = e.split(' ')\n",
    "        for w in words:\n",
    "            if w not in word_dict:\n",
    "                word_dict[w] = set([line_counter])\n",
    "            else:\n",
    "                word_dict[w].add(line_counter)\n",
    "        line_counter += 1\n",
    "    return word_dict    \n",
    "\n",
    "def write_index_file(word_dict):\n",
    "    \n",
    "    with open('index.txt', 'w') as file:\n",
    "        for key in word_dict:\n",
    "            file.write(key + ': ')\n",
    "            for value in word_dict[key]:\n",
    "                file.write(str(value) + ' ')\n",
    "            file.write('\\n')\n",
    "    "
   ]
  },
  {
   "cell_type": "markdown",
   "metadata": {},
   "source": [
    ">### 8. Pickled Vegetables (Not Covered in Theory)\n",
    "\n",
    "Write a program that keeps vegetable names and prices in a dictionary as key-value pairs.\n",
    "The program should display a menu that lets the user see a list of all vegetables and their\n",
    "prices, add a new vegetable and price, change the price of an existing vegetable, and delete\n",
    "an existing vegetable and price. The program should pickle the dictionary and save it to a\n",
    "file when the user exits the program. Each time the program starts, it should retrieve the\n",
    "dictionary from the file and unpickle it.\n"
   ]
  },
  {
   "cell_type": "markdown",
   "metadata": {},
   "source": [
    ">### 7. World Series Winners\n",
    "\n",
    "In this chapter’s source code folder (available on the Premium Companion Website at www.\n",
    "pearsonglobaleditions.com/gaddis), you will find a text file named WorldSeriesWinners.\n",
    "txt. This file contains a chronological list of the World Series’ winning teams from 1903\n",
    "through 2009. The first line in the file is the name of the team that won in 1903, and the\n",
    "last line is the name of the team that won in 2009. (Note the World Series was not played\n",
    "in 1904 or 1994. There are entries in the file indicating this.)\n",
    "Write a program that reads this file and creates a dictionary in which the keys are the names\n",
    "of the teams, and each key’s associated value is the number of times the team has won the\n",
    "World Series. The program should also create a dictionary in which the keys are the years,\n",
    "and each key’s associated value is the name of the team that won that year.\n",
    "The program should prompt the user for a year in the range of 1903 through 2009. It\n",
    "should then display the name of the team that won the World Series that year, and the\n",
    "number of times that team has won the World Series."
   ]
  },
  {
   "cell_type": "markdown",
   "metadata": {},
   "source": []
  }
 ],
 "metadata": {
  "kernelspec": {
   "display_name": "Python 3",
   "language": "python",
   "name": "python3"
  },
  "language_info": {
   "codemirror_mode": {
    "name": "ipython",
    "version": 3
   },
   "file_extension": ".py",
   "mimetype": "text/x-python",
   "name": "python",
   "nbconvert_exporter": "python",
   "pygments_lexer": "ipython3",
   "version": "3.12.10"
  }
 },
 "nbformat": 4,
 "nbformat_minor": 2
}
