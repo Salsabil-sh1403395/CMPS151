{
 "cells": [
  {
   "cell_type": "markdown",
   "metadata": {},
   "source": [
    "# Chapter (4): Repetition Structures"
   ]
  },
  {
   "cell_type": "markdown",
   "metadata": {},
   "source": [
    "## Python has two primitive loop commands:\n",
    "\n",
    "- while loops\n",
    "- for loops\n"
   ]
  },
  {
   "cell_type": "markdown",
   "metadata": {},
   "source": [
    "## The while Loop\n",
    "With the while loop we can execute a set of statements as long as a condition is true."
   ]
  },
  {
   "cell_type": "code",
   "execution_count": null,
   "metadata": {},
   "outputs": [],
   "source": [
    "i = 0\n",
    "while i <= 5:\n",
    "  print(i)\n",
    "  i = i + 1\n",
    "print(\"Done\")"
   ]
  },
  {
   "cell_type": "markdown",
   "metadata": {},
   "source": [
    "### Infinite Loops"
   ]
  },
  {
   "cell_type": "code",
   "execution_count": null,
   "metadata": {},
   "outputs": [],
   "source": [
    "i = 1000000000000\n",
    "while i>5:\n",
    "        print(i)\n",
    "        i=i+1\n",
    "    "
   ]
  },
  {
   "cell_type": "markdown",
   "metadata": {},
   "source": [
    "### Common Loop Errors"
   ]
  },
  {
   "cell_type": "code",
   "execution_count": null,
   "metadata": {},
   "outputs": [],
   "source": [
    "x = 1\n",
    "while x <= 3:\n",
    "  print(\"Working inside while\")\n",
    "x = x + 1"
   ]
  },
  {
   "cell_type": "markdown",
   "metadata": {},
   "source": [
    "### The break Statement\n",
    "With the break statement we can stop the loop even if the while condition is true"
   ]
  },
  {
   "cell_type": "code",
   "execution_count": null,
   "metadata": {},
   "outputs": [],
   "source": [
    "i = 1\n",
    "while i <= 5:\n",
    "  if i == 3:\n",
    "    break\n",
    "  print(i)\n",
    "  i = i + 1\n",
    "  \n",
    "print(\"Done I am out of the loop\")"
   ]
  },
  {
   "cell_type": "markdown",
   "metadata": {},
   "source": [
    "### The continue Statement\n",
    "With the continue statement we can stop the current iteration, and continue with the next"
   ]
  },
  {
   "cell_type": "code",
   "execution_count": null,
   "metadata": {},
   "outputs": [],
   "source": [
    "i = 0\n",
    "while i < 10:\n",
    "  i = i + 1\n",
    "  if i == 5:\n",
    "    continue\n",
    "  print(i)"
   ]
  },
  {
   "cell_type": "markdown",
   "metadata": {},
   "source": [
    "### Using the while Loop for Input Validation"
   ]
  },
  {
   "cell_type": "code",
   "execution_count": null,
   "metadata": {},
   "outputs": [],
   "source": [
    "grade = int(input(\"Enter the grade for the exam \"))\n",
    "\n",
    "while (grade<0 or grade>100):  #invalide grade\n",
    "    print(\"invalide grade\")\n",
    "    # print('Enter valid grade between 0 and 100')\n",
    "    grade = int(input(\"Enter again the grade for the exam \")) # input again correct data\n",
    "    \n",
    "print (grade)"
   ]
  },
  {
   "cell_type": "markdown",
   "metadata": {},
   "source": [
    "### Sentinel\n",
    "- A sentinel is value in a list of values that indicates end of data\n",
    "- Special value that cannot be confused with a valid value, e.g., -999 for a test score\n",
    "- Used to terminate input when user may not know how many values will be entered"
   ]
  },
  {
   "cell_type": "markdown",
   "metadata": {},
   "source": [
    "### Write a program that keeps asking the user to enter a number and checks if it is odd or even until the user enters 0 prints “Done…”\n"
   ]
  },
  {
   "cell_type": "code",
   "execution_count": null,
   "metadata": {},
   "outputs": [],
   "source": [
    "number = int (input('Enter a number to know if it is even or odd?: '))\n",
    "\n",
    "while number !=-1:\n",
    "   \n",
    "    if number % 2 == 0:\n",
    "        print('Number is even!')\n",
    "    else:\n",
    "        print('number is odd!')\n",
    "        \n",
    "    number = int (input('Enter a number to know if it is even or odd or enter -99 to stop?: '))\n",
    "    \n",
    "print ('Done!')"
   ]
  },
  {
   "cell_type": "markdown",
   "metadata": {},
   "source": [
    "### The else Statement\n",
    "With the else statement we can run a block of code once when the condition no longer is true"
   ]
  },
  {
   "cell_type": "code",
   "execution_count": null,
   "metadata": {},
   "outputs": [],
   "source": [
    "i = 1\n",
    "while i < 6:\n",
    "  print(i)\n",
    "  i = i + 1\n",
    "else:\n",
    "  print(\"i is no longer less than 6\")"
   ]
  },
  {
   "cell_type": "markdown",
   "metadata": {},
   "source": [
    "## The for Loop\n",
    "A for loop is used for iterating over a sequence (that is either a list, a tuple, a dictionary, a set, or a string)."
   ]
  },
  {
   "cell_type": "code",
   "execution_count": null,
   "metadata": {},
   "outputs": [],
   "source": [
    "print('Display numbers from 1 to 5')\n",
    "\n",
    "for i in [1,2,3,4,5]: #list of numbers\n",
    "    print(i)\n",
    "print('Done!')"
   ]
  },
  {
   "cell_type": "code",
   "execution_count": null,
   "metadata": {},
   "outputs": [],
   "source": [
    "# Print each fruit i a fruit list\n",
    "fruits = [\"apple\", \"banana\", \"cherry\"] #list\n",
    "for x in fruits:\n",
    "  print(x)"
   ]
  },
  {
   "cell_type": "code",
   "execution_count": null,
   "metadata": {},
   "outputs": [],
   "source": [
    "# Loop through letters\n",
    "for x in \"Qatar\":\n",
    "    print(x)"
   ]
  },
  {
   "cell_type": "code",
   "execution_count": null,
   "metadata": {},
   "outputs": [],
   "source": [
    "# You can use break as we did in while loop\n",
    "fruits = [\"apple\", \"banana\", \"cherry\"] #list\n",
    "for x in fruits:\n",
    "  if x == \"banana\":\n",
    "    break\n",
    "  print(x)\n",
    "  \n",
    "print('Done!')"
   ]
  },
  {
   "cell_type": "code",
   "execution_count": null,
   "metadata": {},
   "outputs": [],
   "source": [
    "# or you can use continue statement\n",
    "#  we can stop the current iteration of the loop, and continue with the next:\n",
    "fruits = [\"apple\", \"banana\", \"cherry\"]\n",
    "for x in fruits:\n",
    "  if x == \"banana\":\n",
    "    continue\n",
    "  print(x)\n",
    "print('Done!')"
   ]
  },
  {
   "cell_type": "markdown",
   "metadata": {},
   "source": [
    "### The range() Function \n",
    "To loop through a set of code a specified number of times, we can use the range() function.\n",
    "- The range() function returns a sequence of numbers, starting from 0 by default, and increments by 1 (by default), and ends at a specified number"
   ]
  },
  {
   "cell_type": "code",
   "execution_count": null,
   "metadata": {},
   "outputs": [],
   "source": [
    "for x in range(3):\n",
    "  print(\"Hello, World!\")"
   ]
  },
  {
   "cell_type": "markdown",
   "metadata": {},
   "source": [
    "- it is possible to specify the starting value by adding a parameter: range(2, 6), which means values from 2 to 6 (but not including 6):"
   ]
  },
  {
   "cell_type": "code",
   "execution_count": null,
   "metadata": {},
   "outputs": [],
   "source": [
    "for x in range(1, 5):\n",
    "  print(x)"
   ]
  },
  {
   "cell_type": "markdown",
   "metadata": {},
   "source": [
    "- The range() function defaults to increment the sequence by 1, however it is possible to specify the increment value by adding a third parameter: range(2, 30, 3):"
   ]
  },
  {
   "cell_type": "code",
   "execution_count": null,
   "metadata": {},
   "outputs": [],
   "source": [
    "for x in range(0, 100,5):\n",
    "  print(x)"
   ]
  },
  {
   "cell_type": "markdown",
   "metadata": {},
   "source": [
    "- The range function can be used to generate a sequence with numbers in descending order\n"
   ]
  },
  {
   "cell_type": "code",
   "execution_count": null,
   "metadata": {},
   "outputs": [],
   "source": [
    "for x in range(100, 1, -10):\n",
    "    print(x)"
   ]
  },
  {
   "cell_type": "markdown",
   "metadata": {},
   "source": [
    "### Exercise:\n",
    "- Use for loop to print the numbers from 1 to 10 and their squares in a table that has two columns: the number and its square.\n"
   ]
  },
  {
   "cell_type": "code",
   "execution_count": null,
   "metadata": {},
   "outputs": [],
   "source": [
    "print('Number\\t\\tSquare')\n",
    "print('------\\t\\t--------')\n",
    "for x in range(1, 11):\n",
    "    squared = x * x\n",
    "    print(f'{x}\\t\\t{squared}')"
   ]
  },
  {
   "cell_type": "code",
   "execution_count": null,
   "metadata": {},
   "outputs": [],
   "source": [
    "print(\"Number\\tSquare\")\n",
    "print(\"------\\t-------\")\n",
    "for number in range(1, 11):\n",
    "    square = number ** 2\n",
    "    print(f\"{number}\\t{square}\")"
   ]
  },
  {
   "cell_type": "markdown",
   "metadata": {},
   "source": [
    "## Accumulator\n",
    "It is a variable  used to keep the running total of numbers that accumulates with each iteration.\n"
   ]
  },
  {
   "cell_type": "markdown",
   "metadata": {},
   "source": [
    "### write a program to calculate the total of the numbers from 1 to 5"
   ]
  },
  {
   "cell_type": "code",
   "execution_count": null,
   "metadata": {},
   "outputs": [],
   "source": [
    "\n",
    "total = 0 # reset the total to 0\n",
    "\n",
    "for number in range(1, 6): # running total from 5 to 16\n",
    "    total = total + number\n",
    "\n",
    "print(f'The total of the numbers from 1 to 5 is {total}.')"
   ]
  },
  {
   "cell_type": "markdown",
   "metadata": {},
   "source": [
    "### write a program to calculate the total of the even numbers between 5 to 15"
   ]
  },
  {
   "cell_type": "code",
   "execution_count": null,
   "metadata": {},
   "outputs": [],
   "source": [
    "even_sum= 0\n",
    "for x in range(5,16):\n",
    "    if x % 2 == 0: # selecting only even numbers\n",
    "        even_sum = even_sum + x\n",
    "print(f\"The total of the even numbers between 5 to 15 is {sum}.\")"
   ]
  },
  {
   "cell_type": "code",
   "execution_count": null,
   "metadata": {},
   "outputs": [],
   "source": [
    "even_sum = 0\n",
    "for x in range(6,16,2):\n",
    "    even_sum = even_sum + x\n",
    "print(f\"The total of the even numbers between 5 to 15 is {even_sum}.\")"
   ]
  },
  {
   "cell_type": "markdown",
   "metadata": {},
   "source": [
    "### write a program to calculate the average of the numbers 5,33,2,1,8,55"
   ]
  },
  {
   "cell_type": "code",
   "execution_count": null,
   "metadata": {},
   "outputs": [],
   "source": [
    "sum = 0 \n",
    "count =0\n",
    "for x in range (100, 10000):\n",
    "    sum = sum + x\n",
    "    count += 1\n",
    "    print(count)\n",
    "\n",
    "avg = sum / count\n",
    "print(f\"The average is {avg:.2f}\")"
   ]
  },
  {
   "cell_type": "markdown",
   "metadata": {},
   "source": [
    "### write a program to read 10 integers from user and print the average."
   ]
  },
  {
   "cell_type": "code",
   "execution_count": null,
   "metadata": {},
   "outputs": [],
   "source": [
    "sum = 0\n",
    "for i in range(10):\n",
    "    x = int(input('Enter a number: '))\n",
    "    sum += x\n",
    "avg = sum / 10\n",
    "print(f\"The average is {avg:.2f}\")"
   ]
  },
  {
   "cell_type": "markdown",
   "metadata": {},
   "source": [
    "## The Augmented Assignment Operators"
   ]
  },
  {
   "cell_type": "markdown",
   "metadata": {},
   "source": [
    "Operator    Example\t        Same As\t\n",
    "=\t        x = 5\t        x = 5\t\n",
    "+=\t        x += 3\t        x = x + 3\t\n",
    "-=\t        x -= 3\t        x = x - 3\t\n",
    "*=\t        x *= 3\t        x = x * 3\t\n",
    "/=\t        x /= 3\t        x = x / 3\t\n",
    "%=\t        x %= 3\t        x = x % 3"
   ]
  },
  {
   "cell_type": "code",
   "execution_count": null,
   "metadata": {},
   "outputs": [],
   "source": [
    "total = total + number\n",
    "total += number\n",
    "\n",
    "number = number - 1 \n",
    "number -= 1\n"
   ]
  },
  {
   "cell_type": "markdown",
   "metadata": {},
   "source": [
    "## Nested Loops\n",
    "A nested loop is a loop inside a loop."
   ]
  },
  {
   "cell_type": "code",
   "execution_count": null,
   "metadata": {},
   "outputs": [],
   "source": [
    "adj = [\"red\", \"big\", \"tasty\"] # this is a list of string\n",
    "fruits = [\"apple\", \"banana\", \"cherry\"]\n",
    "\n",
    "for x in adj:\n",
    "  for y in fruits:\n",
    "    print(x, y)"
   ]
  },
  {
   "cell_type": "code",
   "execution_count": null,
   "metadata": {},
   "outputs": [],
   "source": [
    "for x in range (1,4): \n",
    "    for y in range (1, 5):\n",
    "        print(x, y)\n",
    "        "
   ]
  },
  {
   "cell_type": "markdown",
   "metadata": {},
   "source": [
    "### Example: write a program to to display the following pattern:\n",
    "*******\n",
    "*******\n",
    "*******\n",
    "*******\n",
    "*******"
   ]
  },
  {
   "cell_type": "code",
   "execution_count": 16,
   "metadata": {},
   "outputs": [
    {
     "name": "stdout",
     "output_type": "stream",
     "text": [
      "*******\n",
      "*******\n",
      "*******\n",
      "*******\n",
      "*******\n"
     ]
    }
   ],
   "source": [
    "for row in range(5): # for each line\n",
    "    for col in range(7): # print a line\n",
    "        print('*', end='') \n",
    "    print('') #new line\n"
   ]
  },
  {
   "cell_type": "markdown",
   "metadata": {},
   "source": [
    ">Write a Python program to print an inverted right-angled triangle pattern using numbers. The triangle should have 5 rows, and the numbers should start from 1 to the row number on each row, but the rows should be printed in descending order.\n",
    "```python\n",
    "1 2 3 4 5\n",
    "1 2 3 4\n",
    "1 2 3\n",
    "1 2\n",
    "1\n",
    "\n",
    "```"
   ]
  },
  {
   "cell_type": "markdown",
   "metadata": {},
   "source": [
    ">Write a Python program to print a pyramid number pattern where numbers start from 1 at the top and increase sequentially up to the row number on each row, but arranged in a pyramid shape.\n",
    " ```python\n",
    "    1    \n",
    "   1 2   \n",
    "  1 2 3  \n",
    " 1 2 3 4 \n",
    "1 2 3 4 5\n",
    " ```\n"
   ]
  },
  {
   "cell_type": "markdown",
   "metadata": {},
   "source": [
    "### Example: write a program to calculate the average score for  each one of 10 students, where each students has three tests."
   ]
  },
  {
   "cell_type": "code",
   "execution_count": 3,
   "metadata": {},
   "outputs": [
    {
     "name": "stdout",
     "output_type": "stream",
     "text": [
      "Enter score for student 1\n",
      "The avg for student 1 is 22.0\n",
      "Enter score for student 2\n",
      "The avg for student 2 is 33.0\n",
      "Enter score for student 3\n",
      "The avg for student 3 is 44.0\n",
      "The average score for students 33.0\n"
     ]
    }
   ],
   "source": [
    "# average_scores = [] # creat an empty list to store scores\n",
    "total_all = 0\n",
    "for student in range (1, 4):\n",
    "    print(f'Enter score for student {student}')\n",
    "    total = 0\n",
    "    for test in range(1, 4):\n",
    "        score = float(input(f'Test {test} score: '))\n",
    "        total += score\n",
    "        total_all += score\n",
    "    avg_score = total /3\n",
    "    \n",
    "    # average_scores.append(avg_score) # data appended/added to the list\n",
    "    \n",
    "    print(f'The avg for student {student} is {avg_score}')\n",
    "print(f'The average score for students {total_all/9}')\n",
    "    \n",
    "# print(f'Student\\t\\tAverage')\n",
    "# print(f'------\\t\\t--------')\n",
    "# for i in range (3):\n",
    "#         print(f'student {i+1}\\t{average_scores[i]}')\n",
    "    \n",
    "    "
   ]
  },
  {
   "cell_type": "code",
   "execution_count": null,
   "metadata": {},
   "outputs": [],
   "source": [
    "# Initialize a list to store the average scores of the students\n",
    "# average_scores = []\n",
    "\n",
    "# Loop through each student\n",
    "for student in range(1, 3):\n",
    "    print(f\"Enter the scores for student {student}:\")\n",
    "    \n",
    "    # Initialize the total score for the current student\n",
    "    total_score = 0\n",
    "    \n",
    "    # Loop through each test for the current student\n",
    "    for test in range(1, 4):\n",
    "        score = float(input(f\"  Test {test} score: \"))\n",
    "        total_score += score\n",
    "    \n",
    "    # Calculate the average score for the current student\n",
    "    average_score = total_score / 3\n",
    "    print(f\"The average for student number {student} is {average_score:.2f}\")\n",
    "    # average_scores.append(average_score)\n",
    "    \n",
    "# print(f\"Student\\tAverage\")\n",
    "# print(f\"------\\t---------\")\n",
    "# for i in range (2):\n",
    "#     print(f\" {i+1} \\t {average_scores[i]:.2f}\")"
   ]
  },
  {
   "cell_type": "markdown",
   "metadata": {},
   "source": [
    "### Write a program that calculates the total of the factorials for numbers from 1 to 10.\n"
   ]
  },
  {
   "cell_type": "code",
   "execution_count": 6,
   "metadata": {},
   "outputs": [
    {
     "name": "stdout",
     "output_type": "stream",
     "text": [
      "The total of the factorials for numbers from 1 to 10 is 402790454129684136968124369179059211066230340814333875534732490137389971453530257834729524153470039842675785530571260496816973897917840067466731231090427980441039328369617046320988822321806331297934459170543661198500120585035795085833286238420519712073583879282425846829094851665019998848816833714219704581783936354401378148203630105398875606581189836855161843667260953503142584307135040357121277200535303489725839621761048442907072978722502368306412562875842972049339112885444775909503613257263083390264455593922422529369431118032631742558720263660260357267951709605570340190346083442302480141979187310960364916499234307663742207632736413034131830360882630789606151000253995702701472413540755707390554304190944220951290300194050675762996631830911183977312364968063270503097427155877640454977001850018498051740860804843264282030032906924527877925200098028474723686264644145999968150928496710489938749063992449766833677942475821619414972298916924755307573879667860841873351869436978785662395165750834518536598933216551301901613701145508439007793653521743174685254160699597470819070584174650419573045629293641455300174518442106252839984409630689586721196818371427766601460561794428078429673965172051532376738477699052199414493694104140984140780001899010983640712852791596815502175604362639462613053790808551489499619991171417679593843139520499236340414154312436880445631367852091082350869211432218341643661879013695558309745157747990568149431396636644196097386573880427460775937151813397945493074474467361685630041394331320075100891309427960687594226934752166115243023149507421484619854636959105831992796845068625788389433894561761146077133713010208565214943081088637001250239177758196947672518770799530274826787510343915001221410554763665639196205421250142581238453883141625528016903824365818537640384724208223295526314020589045966038090575553724635424608550152158398375634012908507702136635597449455843933079728415267858875601801690397170990588719648531409285603238091779379999615606611107074183840614496825002697607509211067748675665301202497846647311580285573814429018177249160844484259841012592312754189406241246434924328621494682022198137725427915769382167943955038243392710404246305525277498873440262772727601626407542504985981593086850310175052532805418564448235764619186683198802218861893243574080688558756417455613570273121541638995145894561079999213500076101248781500642979091198044736325729107144579768273776743716439557581557253878204647391176582851167312182026188795156620056856503340092247479478684738621107994804323593105039052556442336528920420940313.\n"
     ]
    }
   ],
   "source": [
    "# Initialize the total variable\n",
    "total = 0\n",
    "\n",
    "# Loop through each number from 1 to 10\n",
    "for number in range(1, 1000):\n",
    "    # Calculate the factorial of the current number\n",
    "    factorial = 1\n",
    "    for i in range(1, number + 1):\n",
    "        factorial *= i\n",
    "    \n",
    "    # Add the factorial to the total\n",
    "    total += factorial\n",
    "\n",
    "# Print the total of the factorials\n",
    "print(f\"The total of the factorials for numbers from 1 to 10 is {total}.\")\n"
   ]
  },
  {
   "cell_type": "markdown",
   "metadata": {},
   "source": [
    "**Question:**  \n",
    "> Write a Python program that takes an integer input (`value`) from the user and calculates the sum of the factorials for all numbers from 1 up to that value.  \n",
    "For example, if the user enters 4, the program should compute:  \n",
    "`1! + 2! + 3! + 4!`  \n",
    "and print the result.  \n"
   ]
  },
  {
   "cell_type": "code",
   "execution_count": null,
   "metadata": {},
   "outputs": [],
   "source": [
    "# write a program to calulate the total for any number\n",
    "value = int(input('Enter a value: '))\n",
    "total = 0\n",
    "\n",
    "for number in range (1, value+1):\n",
    "    # calculat the factorial\n",
    "    fact = 1\n",
    "    for i in range (1, number+1):\n",
    "        fact = fact * i\n",
    "    total += fact\n",
    "print(total)\n"
   ]
  },
  {
   "cell_type": "markdown",
   "metadata": {},
   "source": [
    ">Write a Python program to compute the sum of the following alternating factorial series:\n",
    "\n",
    " S = 1 - 1/1! + 1/2! - 1/3! + 1/4! - 1/5! + ... + (-1)^N / N!\n",
    "\n",
    "![alternating_factorial_series_equation](alternating_factorial_series_equation.png)\n",
    "Where N! (N factorial) is computed as:\n",
    "N! = N × (N-1) × ... × 1.\n",
    "\n",
    "The program should:\n",
    "- Take a positive integer N as input.\n",
    "- Compute and display the sum of the series with 6 decimal places.\n",
    "- Run only once without repeating input requests.\n",
    "\n"
   ]
  },
  {
   "cell_type": "markdown",
   "metadata": {},
   "source": [
    "## Break statement in Nested loop\n",
    "**In a nested loop, a break statement only stops the loop it is placed in. Therefore, if a break is placed in the inner loop, the outer loop still continues. However, if the break is placed in the outer loop, all of the looping stops.**\n"
   ]
  },
  {
   "cell_type": "code",
   "execution_count": null,
   "metadata": {},
   "outputs": [],
   "source": [
    "for i in range (1,6):\n",
    "    for j in range (1,6):\n",
    "        if j==3:\n",
    "            break\n",
    "        print(i,j)\n",
    "print('Done!')"
   ]
  },
  {
   "cell_type": "code",
   "execution_count": null,
   "metadata": {},
   "outputs": [],
   "source": [
    "for i in range (1,4):\n",
    "    if i == 3:\n",
    "        break\n",
    "    for j in range (1,5):\n",
    "        print(i, j)\n",
    "print('Done!')"
   ]
  },
  {
   "cell_type": "markdown",
   "metadata": {},
   "source": [
    "## continue"
   ]
  },
  {
   "cell_type": "code",
   "execution_count": null,
   "metadata": {},
   "outputs": [],
   "source": [
    "for i in range (1,6):\n",
    "\n",
    "    for j in range (1,6):\n",
    "        if j == 3:\n",
    "            continue\n",
    "        print(i, j)\n",
    "print('Done!')"
   ]
  },
  {
   "cell_type": "markdown",
   "metadata": {},
   "source": [
    "## Problems"
   ]
  },
  {
   "cell_type": "markdown",
   "metadata": {},
   "source": [
    "> Write a Python program that takes an integer input ( n ) and prints a right-angled triangle of symbols with ( n ) rows.\n",
    ">> **Use nested loop**  \n",
    "\n",
    "Example:\n",
    "\n",
    "For ( n = 5 ), the output should be:\n",
    "\n",
    "```python\n",
    "*\n",
    "**\n",
    "***\n",
    "****\n",
    "*****\n",
    "```"
   ]
  },
  {
   "cell_type": "code",
   "execution_count": null,
   "metadata": {},
   "outputs": [],
   "source": [
    "# Write a Python program that takes an integer input ( n ) and prints a right-angled triangle of symbols with ( n ) rows.\n",
    "# **Use nested loop**  \n"
   ]
  },
  {
   "cell_type": "markdown",
   "metadata": {},
   "source": [
    ">Write a Python program that prints a right-angled triangle pattern of numbers. The user inputs an integer n, and the program outputs a triangle with n rows, where each row contains consecutive numbers starting from 1.\n",
    "```python\n",
    "1\n",
    "1 2\n",
    "1 2 3\n",
    "1 2 3 4\n",
    "1 2 3 4 5\n",
    "```\n"
   ]
  },
  {
   "cell_type": "markdown",
   "metadata": {},
   "source": [
    "> Write a Python program that allows a teacher to input grades for multiple students across several assignments. The program should then calculate and display each student's average grade.\n",
    "> \n",
    "> - Prompt the teacher to enter the number of students.\n",
    "> - For each student, prompt the teacher to enter the number of assignments.\n",
    "> - For each assignment, prompt the teacher to enter the grade.\n",
    "> - Calculate the average grade for each student.\n",
    "> - Display each student's average grade."
   ]
  },
  {
   "cell_type": "markdown",
   "metadata": {},
   "source": [
    "> Write a program that reads an integer from the user and prints number of digits in that number. Then use for loop to repeat that for 10 integers."
   ]
  },
  {
   "cell_type": "markdown",
   "metadata": {},
   "source": []
  }
 ],
 "metadata": {
  "kernelspec": {
   "display_name": "Python 3",
   "language": "python",
   "name": "python3"
  },
  "language_info": {
   "codemirror_mode": {
    "name": "ipython",
    "version": 3
   },
   "file_extension": ".py",
   "mimetype": "text/x-python",
   "name": "python",
   "nbconvert_exporter": "python",
   "pygments_lexer": "ipython3",
   "version": "3.12.10"
  }
 },
 "nbformat": 4,
 "nbformat_minor": 2
}
