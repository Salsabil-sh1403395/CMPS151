{
 "cells": [
  {
   "cell_type": "markdown",
   "metadata": {},
   "source": [
    "# Chapter (4): Repetition Structures"
   ]
  },
  {
   "cell_type": "markdown",
   "metadata": {},
   "source": [
    "## Python has two primitive loop commands:\n",
    "\n",
    "- while loops\n",
    "- for loops\n"
   ]
  },
  {
   "cell_type": "markdown",
   "metadata": {},
   "source": [
    "## The while Loop\n",
    "With the while loop we can execute a set of statements as long as a condition is true."
   ]
  },
  {
   "cell_type": "code",
   "execution_count": null,
   "metadata": {},
   "outputs": [],
   "source": [
    "i = 0\n",
    "while i <= 5:\n",
    "  print(i)\n",
    "  i = i + 1\n",
    "print(\"Done\")"
   ]
  },
  {
   "cell_type": "markdown",
   "metadata": {},
   "source": [
    "### Infinite Loops"
   ]
  },
  {
   "cell_type": "code",
   "execution_count": null,
   "metadata": {},
   "outputs": [],
   "source": [
    "i = 1000000000000\n",
    "while i>5:\n",
    "        print(i)\n",
    "        i=i+1\n",
    "    "
   ]
  },
  {
   "cell_type": "markdown",
   "metadata": {},
   "source": [
    "### Common Loop Errors"
   ]
  },
  {
   "cell_type": "code",
   "execution_count": null,
   "metadata": {},
   "outputs": [],
   "source": [
    "x = 1\n",
    "while x <= 3:\n",
    "  print(\"Working inside while\")\n",
    "x = x + 1"
   ]
  },
  {
   "cell_type": "markdown",
   "metadata": {},
   "source": [
    "### The break Statement\n",
    "With the break statement we can stop the loop even if the while condition is true"
   ]
  },
  {
   "cell_type": "code",
   "execution_count": null,
   "metadata": {},
   "outputs": [],
   "source": [
    "i = 1\n",
    "while i <= 5:\n",
    "  if i == 3:\n",
    "    break\n",
    "  print(i)\n",
    "  i = i + 1\n",
    "  \n",
    "print(\"Done I am out of the loop\")"
   ]
  },
  {
   "cell_type": "markdown",
   "metadata": {},
   "source": [
    "### The continue Statement\n",
    "With the continue statement we can stop the current iteration, and continue with the next"
   ]
  },
  {
   "cell_type": "code",
   "execution_count": null,
   "metadata": {},
   "outputs": [],
   "source": [
    "i = 0\n",
    "while i < 10:\n",
    "  i = i + 1\n",
    "  if i == 5:\n",
    "    continue\n",
    "  print(i)"
   ]
  },
  {
   "cell_type": "markdown",
   "metadata": {},
   "source": [
    "### Using the while Loop for Input Validation"
   ]
  },
  {
   "cell_type": "code",
   "execution_count": null,
   "metadata": {},
   "outputs": [],
   "source": [
    "grade = int(input(\"Enter the grade for the exam \"))\n",
    "\n",
    "while (grade<0 or grade>100):  #invalide grade\n",
    "    print(\"invalide grade\")\n",
    "    # print('Enter valid grade between 0 and 100')\n",
    "    grade = int(input(\"Enter again the grade for the exam \")) # input again correct data\n",
    "    \n",
    "print (grade)"
   ]
  },
  {
   "cell_type": "markdown",
   "metadata": {},
   "source": [
    "### Sentinel\n",
    "- A sentinel is value in a list of values that indicates end of data\n",
    "- Special value that cannot be confused with a valid value, e.g., -999 for a test score\n",
    "- Used to terminate input when user may not know how many values will be entered"
   ]
  },
  {
   "cell_type": "markdown",
   "metadata": {},
   "source": [
    "### Write a program that keeps asking the user to enter a number and checks if it is odd or even until the user enters 0 prints “Done…”\n"
   ]
  },
  {
   "cell_type": "code",
   "execution_count": null,
   "metadata": {},
   "outputs": [],
   "source": [
    "number = int (input('Enter a number to know if it is even or odd?: '))\n",
    "\n",
    "while number !=-1:\n",
    "   \n",
    "    if number % 2 == 0:\n",
    "        print('Number is even!')\n",
    "    else:\n",
    "        print('number is odd!')\n",
    "        \n",
    "    number = int (input('Enter a number to know if it is even or odd or enter -99 to stop?: '))\n",
    "    \n",
    "print ('Done!')"
   ]
  },
  {
   "cell_type": "markdown",
   "metadata": {},
   "source": [
    "### The else Statement\n",
    "With the else statement we can run a block of code once when the condition no longer is true"
   ]
  },
  {
   "cell_type": "code",
   "execution_count": null,
   "metadata": {},
   "outputs": [],
   "source": [
    "i = 1\n",
    "while i < 6:\n",
    "  print(i)\n",
    "  i = i + 1\n",
    "else:\n",
    "  print(\"i is no longer less than 6\")"
   ]
  },
  {
   "cell_type": "markdown",
   "metadata": {},
   "source": [
    "## The for Loop\n",
    "A for loop is used for iterating over a sequence (that is either a list, a tuple, a dictionary, a set, or a string)."
   ]
  },
  {
   "cell_type": "code",
   "execution_count": null,
   "metadata": {},
   "outputs": [],
   "source": [
    "print('Display numbers from 1 to 5')\n",
    "\n",
    "for i in [1,2,3,4,5]: #list of numbers\n",
    "    print(i)\n",
    "print('Done!')"
   ]
  },
  {
   "cell_type": "code",
   "execution_count": null,
   "metadata": {},
   "outputs": [],
   "source": [
    "# Print each fruit i a fruit list\n",
    "fruits = [\"apple\", \"banana\", \"cherry\"] #list\n",
    "for x in fruits:\n",
    "  print(x)"
   ]
  },
  {
   "cell_type": "code",
   "execution_count": null,
   "metadata": {},
   "outputs": [],
   "source": [
    "# Loop through letters\n",
    "for x in \"Qatar\":\n",
    "    print(x)"
   ]
  },
  {
   "cell_type": "code",
   "execution_count": null,
   "metadata": {},
   "outputs": [],
   "source": [
    "# You can use break as we did in while loop\n",
    "fruits = [\"apple\", \"banana\", \"cherry\"] #list\n",
    "for x in fruits:\n",
    "  if x == \"banana\":\n",
    "    break\n",
    "  print(x)\n",
    "  \n",
    "print('Done!')"
   ]
  },
  {
   "cell_type": "code",
   "execution_count": 18,
   "metadata": {},
   "outputs": [
    {
     "name": "stdout",
     "output_type": "stream",
     "text": [
      "apple\n",
      "cherry\n",
      "Done!\n"
     ]
    }
   ],
   "source": [
    "# or you can use continue statement\n",
    "#  we can stop the current iteration of the loop, and continue with the next:\n",
    "fruits = [\"apple\", \"banana\", \"cherry\"]\n",
    "for x in fruits:\n",
    "  if x == \"banana\":\n",
    "    continue\n",
    "  print(x)\n",
    "print('Done!')"
   ]
  },
  {
   "cell_type": "markdown",
   "metadata": {},
   "source": [
    "### The range() Function \n",
    "To loop through a set of code a specified number of times, we can use the range() function.\n",
    "- The range() function returns a sequence of numbers, starting from 0 by default, and increments by 1 (by default), and ends at a specified number"
   ]
  },
  {
   "cell_type": "code",
   "execution_count": 20,
   "metadata": {},
   "outputs": [
    {
     "name": "stdout",
     "output_type": "stream",
     "text": [
      "Hello, World!\n",
      "Hello, World!\n",
      "Hello, World!\n",
      "Hello, World!\n",
      "Hello, World!\n"
     ]
    }
   ],
   "source": [
    "for x in range(5):\n",
    "  print(\"Hello, World!\")"
   ]
  },
  {
   "cell_type": "markdown",
   "metadata": {},
   "source": [
    "- it is possible to specify the starting value by adding a parameter: range(2, 6), which means values from 2 to 6 (but not including 6):"
   ]
  },
  {
   "cell_type": "code",
   "execution_count": 22,
   "metadata": {},
   "outputs": [
    {
     "name": "stdout",
     "output_type": "stream",
     "text": [
      "1\n",
      "2\n",
      "3\n",
      "4\n"
     ]
    }
   ],
   "source": [
    "for x in range(1, 5):\n",
    "  print(x)"
   ]
  },
  {
   "cell_type": "markdown",
   "metadata": {},
   "source": [
    "- The range() function defaults to increment the sequence by 1, however it is possible to specify the increment value by adding a third parameter: range(2, 30, 3):"
   ]
  },
  {
   "cell_type": "code",
   "execution_count": 27,
   "metadata": {},
   "outputs": [
    {
     "name": "stdout",
     "output_type": "stream",
     "text": [
      "0\n",
      "10\n",
      "20\n",
      "30\n",
      "40\n",
      "50\n",
      "60\n",
      "70\n",
      "80\n",
      "90\n"
     ]
    }
   ],
   "source": [
    "for x in range(0, 100, 10):\n",
    "  print(x)"
   ]
  },
  {
   "cell_type": "markdown",
   "metadata": {},
   "source": [
    "- The range function can be used to generate a sequence with numbers in descending order\n"
   ]
  },
  {
   "cell_type": "code",
   "execution_count": 28,
   "metadata": {},
   "outputs": [
    {
     "name": "stdout",
     "output_type": "stream",
     "text": [
      "100\n",
      "90\n",
      "80\n",
      "70\n",
      "60\n",
      "50\n",
      "40\n",
      "30\n",
      "20\n",
      "10\n"
     ]
    }
   ],
   "source": [
    "for x in range(100, 1, -10):\n",
    "    print(x)"
   ]
  },
  {
   "cell_type": "markdown",
   "metadata": {},
   "source": [
    "### Exercise:\n",
    "- Use for loop to print the numbers from 1 to 10 and their squares in a table that has two columns: the number and its square.\n"
   ]
  },
  {
   "cell_type": "code",
   "execution_count": 31,
   "metadata": {},
   "outputs": [
    {
     "name": "stdout",
     "output_type": "stream",
     "text": [
      "Number\t\tSquare\n",
      "------\t\t--------\n",
      "1\t\t1\n",
      "2\t\t4\n",
      "3\t\t9\n",
      "4\t\t16\n",
      "5\t\t25\n",
      "6\t\t36\n",
      "7\t\t49\n",
      "8\t\t64\n",
      "9\t\t81\n",
      "10\t\t100\n"
     ]
    }
   ],
   "source": [
    "print('Number\\t\\tSquare')\n",
    "print('------\\t\\t--------')\n",
    "for x in range(1, 11):\n",
    "    number_squared = x ** 2\n",
    "    print(f'{x}\\t\\t{number_squared}')"
   ]
  },
  {
   "cell_type": "code",
   "execution_count": null,
   "metadata": {},
   "outputs": [],
   "source": []
  },
  {
   "cell_type": "code",
   "execution_count": null,
   "metadata": {},
   "outputs": [],
   "source": [
    "print(\"Number\\tSquare\")\n",
    "print(\"------\\t-------\")\n",
    "for number in range(1, 11):\n",
    "    square = number ** 2\n",
    "    print(f\"{number}\\t{square}\")"
   ]
  },
  {
   "cell_type": "markdown",
   "metadata": {},
   "source": [
    "## Accumulator\n",
    "It is a variable  used to keep the running total of numbers that accumulates with each iteration.\n"
   ]
  },
  {
   "cell_type": "markdown",
   "metadata": {},
   "source": [
    "### write a program to calculate the total of the numbers from 1 to 5"
   ]
  },
  {
   "cell_type": "code",
   "execution_count": null,
   "metadata": {},
   "outputs": [
    {
     "name": "stdout",
     "output_type": "stream",
     "text": [
      "The total of the numbers from 1 to 5 is 15.\n"
     ]
    }
   ],
   "source": [
    "\n",
    "total = 0 # reset the total to 0\n",
    "\n",
    "for number in range(1, 6): # running total from 5 to 16\n",
    "    total = total + number\n",
    "\n",
    "print(f'The total of the numbers from 1 to 5 is {total}.')"
   ]
  },
  {
   "cell_type": "markdown",
   "metadata": {},
   "source": [
    "### write a program to calculate the total of the even numbers between 5 to 15"
   ]
  },
  {
   "cell_type": "code",
   "execution_count": 39,
   "metadata": {},
   "outputs": [
    {
     "name": "stdout",
     "output_type": "stream",
     "text": [
      "The total of the even numbers between 5 to 15 is 50.\n"
     ]
    }
   ],
   "source": [
    "sum = 0\n",
    "for x in range(5,16):\n",
    "    if x % 2 == 0: # selecting only even numbers\n",
    "        sum = sum + x\n",
    "print(f\"The total of the even numbers between 5 to 15 is {sum}.\")"
   ]
  },
  {
   "cell_type": "code",
   "execution_count": 37,
   "metadata": {},
   "outputs": [
    {
     "name": "stdout",
     "output_type": "stream",
     "text": [
      "The total of the even numbers between 5 to 15 is 50.\n"
     ]
    }
   ],
   "source": [
    "even_sum = 0\n",
    "for x in range(6,16,2):\n",
    "    even_sum = even_sum + x\n",
    "print(f\"The total of the even numbers between 5 to 15 is {even_sum}.\")"
   ]
  },
  {
   "cell_type": "markdown",
   "metadata": {},
   "source": [
    "### write a program to calculate the average of the numbers 5,33,2,1,8,55"
   ]
  },
  {
   "cell_type": "code",
   "execution_count": null,
   "metadata": {},
   "outputs": [],
   "source": [
    "sum = 0 \n",
    "for x in [5,33,2,1,8,55]:\n",
    "    sum = sum + x\n",
    "avg = sum / 6\n",
    "print(f\"The average is {avg:.2f}\")"
   ]
  },
  {
   "cell_type": "markdown",
   "metadata": {},
   "source": [
    "### write a program to read 10 integers from user and print the average."
   ]
  },
  {
   "cell_type": "code",
   "execution_count": null,
   "metadata": {},
   "outputs": [],
   "source": [
    "sum = 0\n",
    "for i in range(10):\n",
    "    x = int(input('Enter a number: '))\n",
    "    sum += x\n",
    "avg = sum / 10\n",
    "print(f\"The average is {avg:.2f}\")"
   ]
  },
  {
   "cell_type": "markdown",
   "metadata": {},
   "source": [
    "## The Augmented Assignment Operators"
   ]
  },
  {
   "cell_type": "markdown",
   "metadata": {},
   "source": [
    "Operator    Example\t        Same As\t\n",
    "=\t        x = 5\t        x = 5\t\n",
    "+=\t        x += 3\t        x = x + 3\t\n",
    "-=\t        x -= 3\t        x = x - 3\t\n",
    "*=\t        x *= 3\t        x = x * 3\t\n",
    "/=\t        x /= 3\t        x = x / 3\t\n",
    "%=\t        x %= 3\t        x = x % 3"
   ]
  },
  {
   "cell_type": "markdown",
   "metadata": {},
   "source": [
    "## Nested Loops\n",
    "A nested loop is a loop inside a loop."
   ]
  },
  {
   "cell_type": "code",
   "execution_count": null,
   "metadata": {},
   "outputs": [],
   "source": [
    "adj = [\"red\", \"big\", \"tasty\"] # this is a list of string\n",
    "fruits = [\"apple\", \"banana\", \"cherry\"]\n",
    "\n",
    "for x in adj:\n",
    "  for y in fruits:\n",
    "    print(x, y)"
   ]
  },
  {
   "cell_type": "code",
   "execution_count": null,
   "metadata": {},
   "outputs": [],
   "source": [
    "for x in range (1,4): \n",
    "    for y in range (1, 4):\n",
    "        print(x, y)\n",
    "        "
   ]
  },
  {
   "cell_type": "markdown",
   "metadata": {},
   "source": [
    "### Example: write a program to to display the following pattern:\n",
    "*******\n",
    "*******\n",
    "*******\n",
    "*******\n",
    "*******"
   ]
  },
  {
   "cell_type": "code",
   "execution_count": null,
   "metadata": {},
   "outputs": [],
   "source": [
    "for row in range(5): # for each line\n",
    "    for col in range(7): # print a line\n",
    "        print('*', end='')\n",
    "    print('')\n"
   ]
  },
  {
   "cell_type": "markdown",
   "metadata": {},
   "source": [
    ">Write a Python program to print an inverted right-angled triangle pattern using numbers. The triangle should have 5 rows, and the numbers should start from 1 to the row number on each row, but the rows should be printed in descending order.\n",
    "```python\n",
    "1 2 3 4 5\n",
    "1 2 3 4\n",
    "1 2 3\n",
    "1 2\n",
    "1\n",
    "\n",
    "```"
   ]
  },
  {
   "cell_type": "markdown",
   "metadata": {},
   "source": [
    ">Write a Python program to print a pyramid number pattern where numbers start from 1 at the top and increase sequentially up to the row number on each row, but arranged in a pyramid shape.\n",
    " ```python\n",
    "    1    \n",
    "   1 2   \n",
    "  1 2 3  \n",
    " 1 2 3 4 \n",
    "1 2 3 4 5\n",
    " ```\n"
   ]
  },
  {
   "cell_type": "markdown",
   "metadata": {},
   "source": [
    "### Example: write a program to calculate the average score for  each one of 10 students, where each students has three tests."
   ]
  },
  {
   "cell_type": "code",
   "execution_count": null,
   "metadata": {},
   "outputs": [],
   "source": [
    "average_scores = [] # creat an empty list to store scores\n",
    "\n",
    "for student in range (1, 4):\n",
    "    print(f'Enter score for student {student}')\n",
    "    total = 0\n",
    "    for test in range(1, 4):\n",
    "        score = float(input(f'Test {test} score: '))\n",
    "        total += score\n",
    "    avg_score = total /3\n",
    "    average_scores.append(avg_score) # data appended/added to the list\n",
    "    \n",
    "    print(f'The avg for student {student} is {avg_score}')\n",
    "    \n",
    "print(f'Student\\t\\tAverage')\n",
    "print(f'------\\t\\t--------')\n",
    "for i in range (3):\n",
    "        print(f'student {i+1}\\t{average_scores[i]}')\n",
    "    \n",
    "    "
   ]
  },
  {
   "cell_type": "code",
   "execution_count": null,
   "metadata": {},
   "outputs": [],
   "source": [
    "# Initialize a list to store the average scores of the students\n",
    "average_scores = []\n",
    "\n",
    "# Loop through each student\n",
    "for student in range(1, 3):\n",
    "    print(f\"Enter the scores for student {student}:\")\n",
    "    \n",
    "    # Initialize the total score for the current student\n",
    "    total_score = 0\n",
    "    \n",
    "    # Loop through each test for the current student\n",
    "    for test in range(1, 4):\n",
    "        score = float(input(f\"  Test {test} score: \"))\n",
    "        total_score += score\n",
    "    \n",
    "    # Calculate the average score for the current student\n",
    "    average_score = total_score / 3\n",
    "    print(f\"The average for student number {student} is {average_score:.2f}\")\n",
    "    average_scores.append(average_score)\n",
    "    \n",
    "print(f\"Student\\tAverage\")\n",
    "print(f\"------\\t---------\")\n",
    "for i in range (2):\n",
    "    print(f\" {i+1} \\t {average_scores[i]:.2f}\")"
   ]
  },
  {
   "cell_type": "markdown",
   "metadata": {},
   "source": [
    "### Write a program that calculates the total of the factorials for numbers from 1 to 10.\n"
   ]
  },
  {
   "cell_type": "code",
   "execution_count": null,
   "metadata": {},
   "outputs": [],
   "source": [
    "# Initialize the total variable\n",
    "total = 0\n",
    "\n",
    "# Loop through each number from 1 to 10\n",
    "for number in range(1, 11):\n",
    "    # Calculate the factorial of the current number\n",
    "    factorial = 1\n",
    "    for i in range(1, number + 1):\n",
    "        factorial *= i\n",
    "    \n",
    "    # Add the factorial to the total\n",
    "    total += factorial\n",
    "\n",
    "# Print the total of the factorials\n",
    "print(f\"The total of the factorials for numbers from 1 to 10 is {total}.\")\n"
   ]
  },
  {
   "cell_type": "markdown",
   "metadata": {},
   "source": [
    ">Write a Python program to compute the sum of the following alternating factorial series:\n",
    "\n",
    " S = 1 - 1/1! + 1/2! - 1/3! + 1/4! - 1/5! + ... + (-1)^N / N!\n",
    "\n",
    "![alternating_factorial_series_equation](alternating_factorial_series_equation.png)\n",
    "Where N! (N factorial) is computed as:\n",
    "N! = N × (N-1) × ... × 1.\n",
    "\n",
    "The program should:\n",
    "- Take a positive integer N as input.\n",
    "- Compute and display the sum of the series with 6 decimal places.\n",
    "- Run only once without repeating input requests.\n",
    "\n"
   ]
  },
  {
   "cell_type": "code",
   "execution_count": null,
   "metadata": {},
   "outputs": [],
   "source": [
    "# write a program to calulate the total for any number\n",
    "value = int(input('Enter a value: '))\n",
    "total = 0\n",
    "\n",
    "for number in range (1, value+1):\n",
    "    # calculat the factorial\n",
    "    fact = 1\n",
    "    for i in range (1, number+1):\n",
    "        fact = fact * i\n",
    "    total += fact\n",
    "print(total)\n"
   ]
  },
  {
   "cell_type": "markdown",
   "metadata": {},
   "source": [
    "## Break statement in Nested loop\n",
    "**In a nested loop, a break statement only stops the loop it is placed in. Therefore, if a break is placed in the inner loop, the outer loop still continues. However, if the break is placed in the outer loop, all of the looping stops.**\n"
   ]
  },
  {
   "cell_type": "code",
   "execution_count": null,
   "metadata": {},
   "outputs": [],
   "source": [
    "for i in range (1,6):\n",
    "    for j in range (1,6):\n",
    "        if j==3:\n",
    "            break\n",
    "        print(i,j)\n",
    "print('Done!')"
   ]
  },
  {
   "cell_type": "code",
   "execution_count": null,
   "metadata": {},
   "outputs": [],
   "source": [
    "for i in range (1,4):\n",
    "    if i == 3:\n",
    "        break\n",
    "    for j in range (1,5):\n",
    "        print(i, j)\n",
    "print('Done!')"
   ]
  },
  {
   "cell_type": "markdown",
   "metadata": {},
   "source": [
    "## continue"
   ]
  },
  {
   "cell_type": "code",
   "execution_count": null,
   "metadata": {},
   "outputs": [],
   "source": [
    "for i in range (1,6):\n",
    "\n",
    "    for j in range (1,6):\n",
    "        if j == 3:\n",
    "            continue\n",
    "        print(i, j)\n",
    "print('Done!')"
   ]
  },
  {
   "cell_type": "markdown",
   "metadata": {},
   "source": [
    "Write a Python program that prints a right-angled triangle pattern of numbers. The user inputs an integer n, and the program outputs a triangle with n rows, where each row contains consecutive numbers starting from 1.\n",
    "1\n",
    "1 2\n",
    "1 2 3\n",
    "1 2 3 4\n",
    "1 2 3 4 5\n"
   ]
  },
  {
   "cell_type": "code",
   "execution_count": null,
   "metadata": {},
   "outputs": [],
   "source": [
    "# Ask the user for the number of rows\n",
    "n = int(input(\"Enter the number of rows: \"))\n",
    "\n",
    "# Outer loop for each row\n",
    "for rows in range(1, n + 1):\n",
    "    # Inner loop for each number in the row\n",
    "    for cols in range(1, rows + 1):\n",
    "        print(cols, end=' ')\n",
    "    print()  # Move to the next line after each row\n"
   ]
  },
  {
   "cell_type": "markdown",
   "metadata": {},
   "source": [
    "Write a Python program that allows a teacher to input grades for multiple students across several assignments. The program should then calculate and display each student's average grade.\n",
    "\n",
    "- Prompt the teacher to enter the number of students.\n",
    "- For each student, prompt the teacher to enter the number of assignments.\n",
    "- For each assignment, prompt the teacher to enter the grade.\n",
    "- Calculate the average grade for each student.\n",
    "- Display each student's average grade."
   ]
  },
  {
   "cell_type": "code",
   "execution_count": null,
   "metadata": {},
   "outputs": [],
   "source": [
    "# Prompt for the number of students\n",
    "num_students = int(input(\"Enter the number of students: \"))\n",
    "\n",
    "# Loop over each student\n",
    "for student in range(1, num_students + 1):\n",
    "    print(f\"\\nStudent {student}:\")\n",
    "    \n",
    "    # Prompt for the number of assignments for the current student\n",
    "    num_assignments = int(input(f\"  Enter the number of assignments for Student {student}: \"))\n",
    "    \n",
    "    # Initialize the total grade for the current student\n",
    "    total_grade = 0\n",
    "    \n",
    "    # Loop over each assignment\n",
    "    for assignment in range(1, num_assignments + 1):\n",
    "        # Prompt for the grade of the current assignment\n",
    "        grade = float(input(f\"    Enter grade for Assignment {assignment}: \"))\n",
    "        # Add the grade to the total grade\n",
    "        total_grade += grade\n",
    "    \n",
    "    # Calculate the average grade for the current student\n",
    "    if num_assignments > 0:\n",
    "        average_grade = total_grade / num_assignments\n",
    "    else:\n",
    "        average_grade = 0\n",
    "    \n",
    "    # Display the average grade for the current student\n",
    "    print(f\"  Average grade for Student {student}: {average_grade:.2f}\")\n"
   ]
  },
  {
   "cell_type": "markdown",
   "metadata": {},
   "source": [
    "Write a program that reads an integer from the user and prints number of digits in that number. Then use for loop to repeat that for 10 integers."
   ]
  },
  {
   "cell_type": "code",
   "execution_count": null,
   "metadata": {},
   "outputs": [],
   "source": [
    "# Loop to process 10 integers\n",
    "for repeat in range(10):\n",
    "    # Read an integer from the user\n",
    "    num = int(input(\"Enter an integer: \"))\n",
    "    \n",
    "    # # Handle the case where the number is zero\n",
    "    # if num == 0:\n",
    "    #     print(\"The number 0 has 1 digit.\")\n",
    "    #     continue\n",
    "    \n",
    "    # # Make the number positive to handle negative numbers\n",
    "    # num = abs(num)\n",
    "    \n",
    "    # Initialize digit count\n",
    "    count = 0\n",
    "    \n",
    "    # Count the number of digits\n",
    "    while num > 0:\n",
    "        num //= 10  # Remove the last digit\n",
    "        count += 1  # Increment the digit count\n",
    "    \n",
    "    # Print the result\n",
    "    print(f\"The number has {count} digits.\")\n"
   ]
  },
  {
   "cell_type": "markdown",
   "metadata": {},
   "source": []
  }
 ],
 "metadata": {
  "kernelspec": {
   "display_name": "Python 3",
   "language": "python",
   "name": "python3"
  },
  "language_info": {
   "codemirror_mode": {
    "name": "ipython",
    "version": 3
   },
   "file_extension": ".py",
   "mimetype": "text/x-python",
   "name": "python",
   "nbconvert_exporter": "python",
   "pygments_lexer": "ipython3",
   "version": "3.12.10"
  }
 },
 "nbformat": 4,
 "nbformat_minor": 2
}
